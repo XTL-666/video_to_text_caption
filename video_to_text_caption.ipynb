{
  "nbformat": 4,
  "nbformat_minor": 0,
  "metadata": {
    "colab": {
      "name": "video_to_text_caption.ipynb",
      "provenance": [],
      "collapsed_sections": [],
      "include_colab_link": true
    },
    "kernelspec": {
      "display_name": "Python 3",
      "language": "python",
      "name": "python3"
    },
    "language_info": {
      "codemirror_mode": {
        "name": "ipython",
        "version": 3
      },
      "file_extension": ".py",
      "mimetype": "text/x-python",
      "name": "python",
      "nbconvert_exporter": "python",
      "pygments_lexer": "ipython3",
      "version": "3.7.9"
    }
  },
  "cells": [
    {
      "cell_type": "markdown",
      "metadata": {
        "id": "view-in-github",
        "colab_type": "text"
      },
      "source": [
        "<a href=\"https://colab.research.google.com/github/softwareTM/video_to_text_caption/blob/main/video_to_text_caption.ipynb\" target=\"_parent\"><img src=\"https://colab.research.google.com/assets/colab-badge.svg\" alt=\"Open In Colab\"/></a>"
      ]
    },
    {
      "cell_type": "code",
      "metadata": {
        "id": "cLqcrWjbcFk9"
      },
      "source": [
        "import pandas as pd\n",
        "import os\n",
        "import sys\n",
        "import numpy as np\n",
        "\n",
        "import tensorflow as tf\n",
        "from tensorflow import keras\n",
        "import tensorflow.keras.backend as K\n",
        "import tensorflow_hub as hub\n",
        "\n",
        "%matplotlib inline\n",
        "import matplotlib as mpl\n",
        "import matplotlib.pyplot as plt"
      ],
      "execution_count": null,
      "outputs": []
    },
    {
      "cell_type": "code",
      "metadata": {
        "id": "UbpjUM7At8hH"
      },
      "source": [
        "import collections\n",
        "import re\n",
        "import string\n",
        "import tempfile\n",
        "import time\n",
        "\n",
        "import cv2"
      ],
      "execution_count": null,
      "outputs": []
    },
    {
      "cell_type": "code",
      "metadata": {
        "colab": {
          "base_uri": "https://localhost:8080/"
        },
        "id": "G0DyftASDgZ7",
        "outputId": "50e4f6f4-4e15-4875-9978-e9e3152efebb"
      },
      "source": [
        "# log into drive from colab\n",
        "from google.colab import drive\n",
        "drive.mount('/content/drive')"
      ],
      "execution_count": null,
      "outputs": [
        {
          "output_type": "stream",
          "text": [
            "Mounted at /content/drive\n"
          ],
          "name": "stdout"
        }
      ]
    },
    {
      "cell_type": "markdown",
      "metadata": {
        "id": "fIcwYOSMbAMV"
      },
      "source": [
        "\n",
        "# Extract video frame features using an EfficientNet"
      ]
    },
    {
      "cell_type": "code",
      "metadata": {
        "colab": {
          "base_uri": "https://localhost:8080/",
          "height": 403
        },
        "id": "GdYdkGpaqK7U",
        "outputId": "07ba5ee6-b111-48e9-84e2-96162a52bc82"
      },
      "source": [
        "!pip install pyunpack\n",
        "!pip install patool"
      ],
      "execution_count": null,
      "outputs": [
        {
          "output_type": "stream",
          "text": [
            "Collecting pyunpack\n",
            "  Downloading https://files.pythonhosted.org/packages/83/29/020436b1d8e96e5f26fa282b9c3c13a3b456a36b9ea2edc87c5fed008369/pyunpack-0.2.2-py2.py3-none-any.whl\n",
            "Collecting easyprocess\n",
            "  Downloading https://files.pythonhosted.org/packages/48/3c/75573613641c90c6d094059ac28adb748560d99bd27ee6f80cce398f404e/EasyProcess-0.3-py2.py3-none-any.whl\n",
            "Collecting entrypoint2\n",
            "  Downloading https://files.pythonhosted.org/packages/c2/ca/00c8767568924e5c2209da99b6abdeeed9d11cbae2a713d54d041b092a09/entrypoint2-0.2.3-py2.py3-none-any.whl\n",
            "Collecting argparse\n",
            "  Downloading https://files.pythonhosted.org/packages/f2/94/3af39d34be01a24a6e65433d19e107099374224905f1e0cc6bbe1fd22a2f/argparse-1.4.0-py2.py3-none-any.whl\n",
            "Installing collected packages: easyprocess, argparse, entrypoint2, pyunpack\n",
            "Successfully installed argparse-1.4.0 easyprocess-0.3 entrypoint2-0.2.3 pyunpack-0.2.2\n"
          ],
          "name": "stdout"
        },
        {
          "output_type": "display_data",
          "data": {
            "application/vnd.colab-display-data+json": {
              "pip_warning": {
                "packages": [
                  "argparse"
                ]
              }
            }
          },
          "metadata": {
            "tags": []
          }
        },
        {
          "output_type": "stream",
          "text": [
            "Collecting patool\n",
            "\u001b[?25l  Downloading https://files.pythonhosted.org/packages/43/94/52243ddff508780dd2d8110964320ab4851134a55ab102285b46e740f76a/patool-1.12-py2.py3-none-any.whl (77kB)\n",
            "\r\u001b[K     |████▎                           | 10kB 19.5MB/s eta 0:00:01\r\u001b[K     |████████▌                       | 20kB 16.3MB/s eta 0:00:01\r\u001b[K     |████████████▊                   | 30kB 8.7MB/s eta 0:00:01\r\u001b[K     |█████████████████               | 40kB 7.6MB/s eta 0:00:01\r\u001b[K     |█████████████████████▏          | 51kB 8.3MB/s eta 0:00:01\r\u001b[K     |█████████████████████████▍      | 61kB 8.7MB/s eta 0:00:01\r\u001b[K     |█████████████████████████████▋  | 71kB 8.8MB/s eta 0:00:01\r\u001b[K     |████████████████████████████████| 81kB 5.7MB/s \n",
            "\u001b[?25hInstalling collected packages: patool\n",
            "Successfully installed patool-1.12\n"
          ],
          "name": "stdout"
        }
      ]
    },
    {
      "cell_type": "code",
      "metadata": {
        "id": "rTAD7IZZqR5t"
      },
      "source": [
        "from pyunpack import Archive"
      ],
      "execution_count": null,
      "outputs": []
    },
    {
      "cell_type": "code",
      "metadata": {
        "id": "50KHuthBryJC"
      },
      "source": [
        "Archive('/content/drive/MyDrive/MLDS_hw2_data/training_video.rar').extractall('/content/MLDS_hw2_data/training_data/video')"
      ],
      "execution_count": null,
      "outputs": []
    },
    {
      "cell_type": "code",
      "metadata": {
        "colab": {
          "base_uri": "https://localhost:8080/",
          "height": 36
        },
        "id": "ShzSdkecc0kv",
        "outputId": "51f20730-1990-4ecb-ab65-76ab5e723d97"
      },
      "source": [
        "training_videos_path = os.getcwd() + '/MLDS_hw2_data/training_data/video'\n",
        "training_videos_path1"
      ],
      "execution_count": null,
      "outputs": [
        {
          "output_type": "execute_result",
          "data": {
            "application/vnd.google.colaboratory.intrinsic+json": {
              "type": "string"
            },
            "text/plain": [
              "'/content/MLDS_hw2_data/training_data/video'"
            ]
          },
          "metadata": {
            "tags": []
          },
          "execution_count": 3
        }
      ]
    },
    {
      "cell_type": "code",
      "metadata": {
        "id": "oOMv-t2Sc4I0"
      },
      "source": [
        "from os import walk\n",
        "\n",
        "_, _, filenames = next(walk(training_videos_path))"
      ],
      "execution_count": null,
      "outputs": []
    },
    {
      "cell_type": "code",
      "metadata": {
        "colab": {
          "base_uri": "https://localhost:8080/"
        },
        "id": "6EFwU8Xmc64s",
        "outputId": "aaab8d0a-eca3-43a5-b180-f7904e333432"
      },
      "source": [
        "filenames"
      ],
      "execution_count": null,
      "outputs": [
        {
          "output_type": "execute_result",
          "data": {
            "text/plain": [
              "['2F9jX7u5nOg_83_97.avi',\n",
              " '._ZnLgsasu82g_71_81.avi',\n",
              " '6t0BpjwYKco_80_84.avi',\n",
              " '._yPNFVj-pISU_105_115.avi',\n",
              " '4QYPZM01xFE_14_26.avi',\n",
              " 'qeKX-N1nKiM_37_43.avi',\n",
              " 'eyMYc-37Sk4_0_10.avi',\n",
              " '6KS8R3RxrV8_0_23.avi',\n",
              " 'Tied-t1fFsk_15_20.avi',\n",
              " '._-_hbPLsZvvo_211_219.avi',\n",
              " '._DKZg4kIEa0A_31_36.avi',\n",
              " 'giLxPCgLLqg_9_19.avi',\n",
              " '._-wa0umYJVGg_168_176.avi',\n",
              " 'BVjvRpmHg0w_47_51.avi',\n",
              " '._1kYWws89W3Y_0_5.avi',\n",
              " 'rlQ2kW-FvMk_66_79.avi',\n",
              " 'CL49s8bO6Fg_1_11.avi',\n",
              " '6owu8Mow0_g_527_534.avi',\n",
              " 'bAYIIlX-WWw_5_15.avi',\n",
              " 'WTf5EgVY5uU_104_108.avi',\n",
              " 'ObBss94n3gI_35_46.avi',\n",
              " '._-_hbPLsZvvo_323_328.avi',\n",
              " '._rw9h_574HxE_229_236.avi',\n",
              " '._sXyjCgR0rAc_0_11.avi',\n",
              " '._Yh2N6ZtRBdU_110_120.avi',\n",
              " 'fHfpMUDrQCs_17_31.avi',\n",
              " 'TZ860P4iTaM_11_20.avi',\n",
              " 'IAvBB2lv8iw_142_148.avi',\n",
              " '_WRC7HXBJpU_395_401.avi',\n",
              " 'WFNXwor69-U_33_40.avi',\n",
              " '._YmXCfQm0_CA_68_75.avi',\n",
              " 'hJFBXHtxKIc_204_209.avi',\n",
              " 'IBgsLmDcL78_80_84.avi',\n",
              " '._xxHx6s_DbUo_32_36.avi',\n",
              " '._4ge5_V-xhP0_138_142.avi',\n",
              " 'QMJY29QMewQ_42_52.avi',\n",
              " '._itxzpFW1z7E_22_36.avi',\n",
              " '._PslVHtXc7Tg_8_14.avi',\n",
              " 'RQYLGNbal2c_5_10.avi',\n",
              " '._gtixLEvO2Us_0_6.avi',\n",
              " 'BVilbVCo9sU_1_11.avi',\n",
              " '._rw9h_574HxE_161_166.avi',\n",
              " '8MVo7fje_oE_85_90.avi',\n",
              " '._IhwPQL9dFYc_61_75.avi',\n",
              " '._Ce7equ9zCxk_4_19.avi',\n",
              " 'TgFmoZj3NoM_10_18.avi',\n",
              " '._gHyXstpe_N8_140_150.avi',\n",
              " '._DGQL5lx-mwE_2_12.avi',\n",
              " '4PayIIIOeIs_230_238.avi',\n",
              " '4s_0-zIWEog_1_15.avi',\n",
              " 'VahnQw2gTQY_322_327.avi',\n",
              " 'fgWFxFg7-GU_10_26.avi',\n",
              " 'hJuqBDw_TT4_14_25.avi',\n",
              " 'lsanQj2yacs_102_108.avi',\n",
              " '._2YhDTpzxd3c_98_101.avi',\n",
              " 'lfGlDg47How_361_367.avi',\n",
              " '._pdrBPJYfTC8_33_39.avi',\n",
              " 'ao-9B8IV9_E_175_187.avi',\n",
              " '-_hbPLsZvvo_172_179.avi',\n",
              " 'HJHPB_Y8GZE_259_263.avi',\n",
              " '2YhDTpzxd3c_149_154.avi',\n",
              " 'c76tShLfQb0_74_81.avi',\n",
              " '._00jrXRMlZOY_0_10.avi',\n",
              " '._Kxa0mnDj0bs_113_124.avi',\n",
              " '._-DRy7rBg0IQ_31_37.avi',\n",
              " 'pGsU4FekJQM_10_18.avi',\n",
              " '._0hyZ__3YhZc_410_417.avi',\n",
              " '7s0AXJtLL0Y_57_61.avi',\n",
              " 'nLvX-erABqY_67_72.avi',\n",
              " 'VLBsAPZ2DDE_58_64.avi',\n",
              " 'nBJV56WUDng_38_47.avi',\n",
              " '9Q0JfdP36kI_56_64.avi',\n",
              " 'yfMTsYcLt10_0_7.avi',\n",
              " 'lfGlDg47How_110_115.avi',\n",
              " '._EdrZtaBUXIo_25_29.avi',\n",
              " 'DBvSfds3FH4_84_88.avi',\n",
              " '._05gNigkqfNU_24_32.avi',\n",
              " 'F2Ny7rq9RKs_139_148.avi',\n",
              " '._0lh_UWF9ZP4_165_170.avi',\n",
              " 'WPG-BIWOrG4_672_677.avi',\n",
              " '._ulPvRmNfXK4_96_100.avi',\n",
              " 'BtQEY2SL4g4_126_132.avi',\n",
              " '._ZK4W-2ifl6I_1_28.avi',\n",
              " '._6Q3ltyPJJMQ_67_72.avi',\n",
              " '5PpPOGU_0aA_65_75.avi',\n",
              " 'o_mWZWcm2r4_47_54.avi',\n",
              " 'Jj4uYHr65H8_28_35.avi',\n",
              " 'hJuqBDw_TT4_105_112.avi',\n",
              " 'i3fd4nE8OCI_174_181.avi',\n",
              " '9OxQ-2gR1DU_18_38.avi',\n",
              " '._sFExO_PW22s_10_18.avi',\n",
              " '._WTx-K045yQM_85_98.avi',\n",
              " 'u9prcUCHlqM_503_511.avi',\n",
              " 'TZ860P4iTaM_10_24.avi',\n",
              " '._msCidKHOh74_410_418.avi',\n",
              " 'L8h2DazQZJY_0_10.avi',\n",
              " '._0hyZ__3YhZc_380_384.avi',\n",
              " 'KPPCwmU5OHQ_56_62.avi',\n",
              " 'ZDoy9S82ETA_5_15.avi',\n",
              " '._omIPdpxg--4_39_46.avi',\n",
              " 'tzd3AYTZq0U_0_6.avi',\n",
              " '._0ONJfp95yoE_1_10.avi',\n",
              " '08pVpBq706k_175_212.avi',\n",
              " 'zv2RIbUsnSw_159_162.avi',\n",
              " '._7d1d2WlEnKs_0_12.avi',\n",
              " 'ry7AUQtuwdU_4_39.avi',\n",
              " '._7EOqi_6rnkg_36_44.avi',\n",
              " '._4D1o4FC8YbA_29_39.avi',\n",
              " '._o_mWZWcm2r4_10_15.avi',\n",
              " '._-wa0umYJVGg_117_123.avi',\n",
              " '1Dty_eGY9Ec_123_133.avi',\n",
              " 'zhLcONtNkew_16_21.avi',\n",
              " 'hEOGZoYSvT4_82_86.avi',\n",
              " '._L6dEUQ6WiHY_136_142.avi',\n",
              " '53dc4z7HLyg_16_23.avi',\n",
              " 'kKGehSw5ht8_39_45.avi',\n",
              " 'kEGmZDpZ_RE_352_370.avi',\n",
              " '6t0BpjwYKco_254_258.avi',\n",
              " '._W20Btaww6zc_134_139.avi',\n",
              " 'NjCqtzZ3OtU_62_67.avi',\n",
              " '._auFXfsCzAvQ_1_15.avi',\n",
              " 'PECk9A-07Pw_1_9.avi',\n",
              " 'gHyXstpe_N8_116_125.avi',\n",
              " '._TXabUVUxJqI_22_31.avi',\n",
              " '._EPgQ9QwbsLE_16_23.avi',\n",
              " '._dZBIdRGKRhM_13_32.avi',\n",
              " 'p9g06ktIkJg_4_11.avi',\n",
              " '._GPyFZMJ5Dow_56_70.avi',\n",
              " '21uB8g-jDZI_70_79.avi',\n",
              " '4Hhdr1IPOGs_90_98.avi',\n",
              " 'PCXHuseKwDc_68_76.avi',\n",
              " 'kWLNZzuo3do_228_232.avi',\n",
              " '._NVGGgncVq-4_111_117.avi',\n",
              " 'i2sRHf9m5KM_28_42.avi',\n",
              " 'onW5hJXnI5s_10_16.avi',\n",
              " '._ACOmKiJDkA4_67_74.avi',\n",
              " 'kzyFBlNRohs_82_88.avi',\n",
              " 'JnNe61UZsdM_78_88.avi',\n",
              " 't4vP-cXXWkY_14_20.avi',\n",
              " 'nhm_APPwhWk_6_12.avi',\n",
              " '6owu8Mow0_g_384_389.avi',\n",
              " 'BefkDBj5gSw_104_109.avi',\n",
              " 'xPR0xFgCAZY_17_27.avi',\n",
              " 'gIvetX_oXeI_85_90.avi',\n",
              " 'c2a0GcoJAjw_52_73.avi',\n",
              " 'ZN2_czSBSD0_240_250.avi',\n",
              " '._q-JHcsqJXWY_0_8.avi',\n",
              " '._x1i0UOssll8_141_151.avi',\n",
              " 'WTf5EgVY5uU_66_75.avi',\n",
              " '._yOnRm3TP6hM_0_12.avi',\n",
              " 'dMH0bHeiRNg_3_14.avi',\n",
              " '0lh_UWF9ZP4_157_160.avi',\n",
              " 'gbUhorqLCzU_10_23.avi',\n",
              " 'cmQ3SiIaWy4_4_20.avi',\n",
              " '._xOQn1z_oWDY_30_39.avi',\n",
              " 'e4QGnppJ-ys_6_14.avi',\n",
              " '._bK-i_FAcpoY_86_92.avi',\n",
              " '._cs33MNhpRNw_16_21.avi',\n",
              " 'IhwPQL9dFYc_143_147.avi',\n",
              " '0hyZ__3YhZc_388_394.avi',\n",
              " '._c_XV7nPoRg8_2_12.avi',\n",
              " '._ao-9B8IV9_E_87_95.avi',\n",
              " 'cSDkshD2ME0_12_15.avi',\n",
              " '._rq2p5ML8-WI_63_69.avi',\n",
              " '._z1PEyzk4ADU_8_18.avi',\n",
              " '._WTf5EgVY5uU_76_83.avi',\n",
              " '0hyZ__3YhZc_410_417.avi',\n",
              " '._CgWYN5e9K10_30_62.avi',\n",
              " '._VahnQw2gTQY_322_327.avi',\n",
              " '._vDhEpqfhVI0_0_8.avi',\n",
              " '._5-8z5U-o4O4_0_3.avi',\n",
              " '._2YhDTpzxd3c_240_245.avi',\n",
              " '._unhiT2D6WvE_0_20.avi',\n",
              " 'ok4cM6WTA5E_178_184.avi',\n",
              " '47D9-U8hn5I_11_16.avi',\n",
              " 'mOZkcBcWR8o_6_12.avi',\n",
              " 'pfQPRXcihkI_160_184.avi',\n",
              " 'MoqC84sXu88_47_59.avi',\n",
              " '._9Q0JfdP36kI_23_28.avi',\n",
              " '8PQiaurIiDM_94_99.avi',\n",
              " '6t0BpjwYKco_71_76.avi',\n",
              " 'HypgcCT1r68_38_46.avi',\n",
              " '._lSnWhsmlGec_5_10.avi',\n",
              " '8MVo7fje_oE_180_185.avi',\n",
              " '._IhwPQL9dFYc_78_88.avi',\n",
              " '._ruNrdmjcNTc_0_5.avi',\n",
              " '98shpdib9sg_55_62.avi',\n",
              " '1_6V30igzIk_5_15.avi',\n",
              " 'lb8J2zCQTlo_3_8.avi',\n",
              " 'WqQonRVs7WA_0_10.avi',\n",
              " 'IiIiY6o-C9k_59_64.avi',\n",
              " 'Je3V7U5Ctj4_488_495.avi',\n",
              " '._kWLNZzuo3do_31_37.avi',\n",
              " 'DIebwNHGjm8_27_38.avi',\n",
              " 'klFyrnrUSck_13_19.avi',\n",
              " '._eZLxohGP4IE_190_201.avi',\n",
              " '8yS2wqwActs_2_14.avi',\n",
              " '._YJ2aGe7CLBo_25_35.avi',\n",
              " 'jcIrD7rNvTM_10_21.avi',\n",
              " '._XNV7hKVu-Xg_40_47.avi',\n",
              " 'yyxtyCaEVqk_321_328.avi',\n",
              " '._xTd_IdIcB4s_2_10.avi',\n",
              " '._d7eGypGOlOc_13_22.avi',\n",
              " '5CS4nLI2ZX8_50_59.avi',\n",
              " 'bLqmf8x7rLI_2_8.avi',\n",
              " '._iwpnUHFhjWc_84_94.avi',\n",
              " 'EA-J-Y6QjUo_40_61.avi',\n",
              " '._uO7Eysrs8_k_106_114.avi',\n",
              " '._bSrpvMSuhPM_17_31.avi',\n",
              " 'cCmnN96zIeQ_14_24.avi',\n",
              " '._Ow_o78zjo14_42_57.avi',\n",
              " '._C12BRGGcd5E_101_117.avi',\n",
              " '._0hyZ__3YhZc_598_603.avi',\n",
              " 'p6cg2jWI34M_34_42.avi',\n",
              " '._57C93mpt6Xo_358_368.avi',\n",
              " '._k4hhWYtaQ14_0_10.avi',\n",
              " 'a8PAY4rvzRM_1_10.avi',\n",
              " '._PeUHy0A1GF0_122_127.avi',\n",
              " '._OpR1Er5o6IY_209_217.avi',\n",
              " 'jTaLGh_MKCM_5_20.avi',\n",
              " '._TZ860P4iTaM_11_20.avi',\n",
              " 'xdhLQCYQ-nQ_50_63.avi',\n",
              " '._ejgwQqCHN1E_7_12.avi',\n",
              " 'Qtu-PXuvCx4_12_17.avi',\n",
              " '7uOiiA4Kxbo_23_35.avi',\n",
              " 'B7mP4zoDMwM_0_17.avi',\n",
              " 'ACOmKiJDkA4_67_74.avi',\n",
              " '._QhRqJp-CgEs_7_14.avi',\n",
              " '._Z3m9V8qPXhQ_13_24.avi',\n",
              " '._j1Z890_Q3so_131_138.avi',\n",
              " 'vz71JKcpeUU_0_10.avi',\n",
              " 'ysTmUTQ5wZE_17_45.avi',\n",
              " 'j2Dhf-xFUxU_20_29.avi',\n",
              " 'V4q5dQmpxIE_20_30.avi',\n",
              " 'zTn-nNj5Bng_8_19.avi',\n",
              " '-dm-ds5rRaM_44_52.avi',\n",
              " '._OaBmAg6gz30_4_18.avi',\n",
              " '._1sffYOXq4Iw_23_49.avi',\n",
              " 'MSrJTeKNzdI_32_36.avi',\n",
              " '.__txL575S_OA_13_23.avi',\n",
              " '._aeA-HN7BMdo_52_58.avi',\n",
              " '._xtbsD3PUua4_84_94.avi',\n",
              " 'OxL9z2BzBnk_0_19.avi',\n",
              " '._hJFBXHtxKIc_225_230.avi',\n",
              " 'AGRFy5hDQiY_31_38.avi',\n",
              " 'ZK4W-2ifl6I_1_28.avi',\n",
              " 'O9yLRzpPp44_36_55.avi',\n",
              " 'WTf5EgVY5uU_130_135.avi',\n",
              " 'zzit5b_-ukg_5_20.avi',\n",
              " 'aC-KOYQsIvU_25_31.avi',\n",
              " '._kWLNZzuo3do_25_32.avi',\n",
              " '4QdX5Q3qQsQ_38_44.avi',\n",
              " '._WTf5EgVY5uU_121_135.avi',\n",
              " 'g2IYQq7IkXc_23_32.avi',\n",
              " '._KPPCwmU5OHQ_227_238.avi',\n",
              " 'X7sQq-Iu1gQ_12_22.avi',\n",
              " 'CcvJs77L-e8_15_22.avi',\n",
              " 'nTUONeDqhdk_10_15.avi',\n",
              " '._6t0BpjwYKco_217_229.avi',\n",
              " '._tIMDKdMnNYM_266_273.avi',\n",
              " 'bQJQGoJF7_k_162_169.avi',\n",
              " '._TIubRrkku-4_1_10.avi',\n",
              " '0lh_UWF9ZP4_215_226.avi',\n",
              " 'kWLNZzuo3do_145_151.avi',\n",
              " 'vuvpbeQak9Q_23_29.avi',\n",
              " '._-FugkxLmGO4_5_16.avi',\n",
              " '._0hyZ__3YhZc_418_424.avi',\n",
              " '._R24RktgUi-s_5_15.avi',\n",
              " 'JIoiUNOXGaI_98_104.avi',\n",
              " 'Lt1JijkvSKk_0_10.avi',\n",
              " 'UXs3eq68ZjE_280_285.avi',\n",
              " '._NV6pq1W-I4g_7_16.avi',\n",
              " 'oG6LLGi_n48_51_55.avi',\n",
              " '._bxjFqtfJlMs_18_27.avi',\n",
              " '._YmXCfQm0_CA_50_57.avi',\n",
              " '._hksxtbcS780_7_14.avi',\n",
              " 'xxHx6s_DbUo_82_86.avi',\n",
              " 'IiTzJQE67FA_74_86.avi',\n",
              " '._0lh_UWF9ZP4_191_197.avi',\n",
              " '._IhwPQL9dFYc_143_147.avi',\n",
              " '._hM3jzlyNIpc_0_10.avi',\n",
              " '._kWLNZzuo3do_86_93.avi',\n",
              " '3chNlP5TeO8_0_10.avi',\n",
              " '._sRKQfxxEP4M_117_125.avi',\n",
              " '._PECk9A-07Pw_1_9.avi',\n",
              " 'pfQPRXcihkI_135_144.avi',\n",
              " 'IhwPQL9dFYc_50_59.avi',\n",
              " '._-vg3vR86fu0_1_6.avi',\n",
              " 'c2MwqFYVE7A_40_45.avi',\n",
              " '.__7nP9z6T9m8_11_17.avi',\n",
              " 'qPXynwa_2iM_15_25.avi',\n",
              " '._mbesJaS6vwg_187_195.avi',\n",
              " '._UXs3eq68ZjE_255_260.avi',\n",
              " '._9LOJmQQktHA_10_18.avi',\n",
              " '._hJFBXHtxKIc_286_291.avi',\n",
              " 'BVjvRpmHg0w_121_130.avi',\n",
              " 'VfqlfprZsaQ_75_85.avi',\n",
              " '._X_NLV2KCnIE_60_70.avi',\n",
              " '._-vKO3uSG6Do_3_14.avi',\n",
              " 'pGCRurvXQGM_45_56.avi',\n",
              " '._vulNlhUI6m0_7_27.avi',\n",
              " '3lBHYoI5V8s_30_45.avi',\n",
              " '6vSKIUGGLvY_81_87.avi',\n",
              " 'xb-Nacm-pKc_78_82.avi',\n",
              " '5l6acVf12S4_7_13.avi',\n",
              " '97JhYpoWxzY_0_4.avi',\n",
              " 'otLEUwHao_E_140_151.avi',\n",
              " '._MoqC84sXu88_47_59.avi',\n",
              " '5AEldiUP408_65_71.avi',\n",
              " '._TsagxA4DKuc_28_41.avi',\n",
              " 'BefkDBj5gSw_233_240.avi',\n",
              " '._DB-3-TVjrxU_58_75.avi',\n",
              " 'rwHT2SuNOi8_240_255.avi',\n",
              " '._VU4qLrk5axA_40_58.avi',\n",
              " '._cmQ3SiIaWy4_4_20.avi',\n",
              " '._uAaWVeaYLdQ_1_12.avi',\n",
              " '._hW8TKz2Aea4_40_50.avi',\n",
              " '._VfqlfprZsaQ_75_85.avi',\n",
              " 'UXs3eq68ZjE_194_200.avi',\n",
              " 'oRBgVOiZVsc_16_22.avi',\n",
              " 'RieF9wrFd8s_1_8.avi',\n",
              " '._krAk8WPZRL4_207_212.avi',\n",
              " '._lGk1MA6YP-M_36_48.avi',\n",
              " 'AX38yo7Wuws_81_91.avi',\n",
              " 'xxHx6s_DbUo_57_61.avi',\n",
              " '._nrZyPuRd5pU_85_92.avi',\n",
              " 'Je3V7U5Ctj4_997_1004.avi',\n",
              " 'QklHhN8pQBE_0_10.avi',\n",
              " 'UXs3eq68ZjE_508_513.avi',\n",
              " '._m1NR0uNNs5Y_224_230.avi',\n",
              " 'wFPmKChNrhU_3_11.avi',\n",
              " 'L9wD3kw-8FE_65_73.avi',\n",
              " '._aHiUM8uWxxo_17_25.avi',\n",
              " '._2F9jX7u5nOg_114_130.avi',\n",
              " 'oDcd2JbOyzg_38_55.avi',\n",
              " '._4PcL6-mjRNk_47_55.avi',\n",
              " 'IiIiY6o-C9k_49_55.avi',\n",
              " '._aDjNl5gs4nM_18_47.avi',\n",
              " '._YmXCfQm0_CA_140_156.avi',\n",
              " 'LF51fban_x4_300_325.avi',\n",
              " 'tBj4Ny19vfQ_54_59.avi',\n",
              " 'b_BuSVZwq6M_1_9.avi',\n",
              " '._jcRCn7MeSbo_71_82.avi',\n",
              " '._P4IjNV3lZkQ_136_144.avi',\n",
              " '._gHyXstpe_N8_116_125.avi',\n",
              " '._W_iR4YVCxUY_8_15.avi',\n",
              " '5-8z5U-o4O4_0_3.avi',\n",
              " '0hyZ__3YhZc_302_307.avi',\n",
              " '4ge5_V-xhP0_138_142.avi',\n",
              " '-wa0umYJVGg_100_115.avi',\n",
              " 'J8cP93yG1Ao_14_24.avi',\n",
              " 'n2NLoLNecgI_168_178.avi',\n",
              " '._2HpZvL-_fiY_40_44.avi',\n",
              " '._qhknaG9ifbs_122_127.avi',\n",
              " '._0bSz70pYAP0_5_15.avi',\n",
              " 'W1052h2rzoA_91_98.avi',\n",
              " '9LOJmQQktHA_10_18.avi',\n",
              " '._wX-Bl25Htag_104_115.avi',\n",
              " '._nc0fVlaTYEs_34_44.avi',\n",
              " '._sMscRb9TcQE_146_161.avi',\n",
              " '._JsD6uEZsIsU_1_47.avi',\n",
              " 'WPG-BIWOrG4_608_613.avi',\n",
              " 'z0Si1XxMibg_0_30.avi',\n",
              " '._ywMLb2VfHbI_13_20.avi',\n",
              " '._8MVo7fje_oE_85_90.avi',\n",
              " '._e40bBP0_AbE_64_67.avi',\n",
              " 'PeUHy0A1GF0_105_112.avi',\n",
              " '._hcCLIzzB1jQ_1_7.avi',\n",
              " '._AE9UaQwum8c_0_10.avi',\n",
              " '._Afmc6FeN-hM_20_24.avi',\n",
              " '._lc9bA-hvqHU_1_6.avi',\n",
              " '16iNk1hLJt4_37_40.avi',\n",
              " 'j4dMnAPZu70_11_18.avi',\n",
              " '._6GJ1DNOGDAM_223_233.avi',\n",
              " 'DBvSfds3FH4_76_80.avi',\n",
              " '._62I8I4sCPPQ_12_30.avi',\n",
              " '.__xf24TYgbuY_14_20.avi',\n",
              " '._5CS4nLI2ZX8_50_59.avi',\n",
              " 'mJ9eRvxjLc4_0_16.avi',\n",
              " 'iTA0rWPE4nY_17_23.avi',\n",
              " '._05gNigkqfNU_25_34.avi',\n",
              " 'kWLNZzuo3do_217_222.avi',\n",
              " 'RiglOfJon8I_3_18.avi',\n",
              " '-_hbPLsZvvo_43_55.avi',\n",
              " '._E6sqA9QtV5I_195_201.avi',\n",
              " '._VahnQw2gTQY_274_280.avi',\n",
              " 'Ugb_uH72d0I_8_17.avi',\n",
              " '._p69d3UBdpR8_98_109.avi',\n",
              " 'zWVQImPY2Cc_27_44.avi',\n",
              " '._bmxIurBrW5s_51_70.avi',\n",
              " '0lh_UWF9ZP4_183_190.avi',\n",
              " '._HJHPB_Y8GZE_259_263.avi',\n",
              " '._6t0BpjwYKco_15_31.avi',\n",
              " '._Tied-t1fFsk_15_20.avi',\n",
              " 'ZsrPKtx0qyg_7_15.avi',\n",
              " '._wpUT0DNB3qs_9_19.avi',\n",
              " '._WEJfT-oB4v4_20_35.avi',\n",
              " '._3FnUTQMJVXI_31_36.avi',\n",
              " 'yC4eEuURH8c_19_28.avi',\n",
              " 'f9_bP219ehQ_63_70.avi',\n",
              " '._6owu8Mow0_g_850_855.avi',\n",
              " 'nHZsE7T7hwI_13_23.avi',\n",
              " '._WPG-BIWOrG4_683_689.avi',\n",
              " '._kWLNZzuo3do_192_196.avi',\n",
              " '._hJFBXHtxKIc_317_322.avi',\n",
              " '2YhDTpzxd3c_240_245.avi',\n",
              " '8MVo7fje_oE_130_136.avi',\n",
              " '9zXqkHvs0po_59_65.avi',\n",
              " 'XdB0pVjFYoU_1_8.avi',\n",
              " 'fMXfphSi6Yw_7_12.avi',\n",
              " '88p7U5CnoYU_1_10.avi',\n",
              " '._zH4v_DClIoc_3_28.avi',\n",
              " 'eZLxohGP4IE_147_158.avi',\n",
              " '._HYbEf-JKZnA_13_26.avi',\n",
              " '._SzEbtbNSg04_71_93.avi',\n",
              " 'btuxO-C2IzE_64_72.avi',\n",
              " 'ywHBKayhyvQ_19_28.avi',\n",
              " '._98shpdib9sg_55_62.avi',\n",
              " '0hyZ__3YhZc_380_384.avi',\n",
              " 'UXs3eq68ZjE_209_214.avi',\n",
              " '6t0BpjwYKco_15_31.avi',\n",
              " '._kWLNZzuo3do_76_80.avi',\n",
              " '._s-dSFyz_5Ww_31_41.avi',\n",
              " 'SrDE9-cDz48_4_12.avi',\n",
              " 'kWLNZzuo3do_152_164.avi',\n",
              " '._CHVhwcOg6y8_1_12.avi',\n",
              " 'hJFBXHtxKIc_286_291.avi',\n",
              " '._IhwPQL9dFYc_137_143.avi',\n",
              " '6sKdTbRkahM_6_12.avi',\n",
              " '.__o1UXSxTjfo_68_80.avi',\n",
              " 'ogcqFaNbah4_475_487.avi',\n",
              " '0hyZ__3YhZc_341_348.avi',\n",
              " '._6t0BpjwYKco_240_247.avi',\n",
              " '._6sKdTbRkahM_6_12.avi',\n",
              " '._64Xn9edeWRA_0_11.avi',\n",
              " '._ibSwITK4jjQ_14_24.avi',\n",
              " '-Ms9tsWmhyU_80_95.avi',\n",
              " '._HkpUWzNNVt4_20_30.avi',\n",
              " 'DIebwNHGjm8_133_148.avi',\n",
              " 'Gh4Beb8StFM_29_50.avi',\n",
              " 'd7eGypGOlOc_13_22.avi',\n",
              " 'CgWYN5e9K10_30_62.avi',\n",
              " '._1qV4wfjTYIo_151_164.avi',\n",
              " '._o_mWZWcm2r4_47_54.avi',\n",
              " 'NVGGgncVq-4_12_20.avi',\n",
              " '._zhLcONtNkew_16_21.avi',\n",
              " '._8MVo7fje_oE_108_113.avi',\n",
              " '._b4FM9OLBGyM_37_49.avi',\n",
              " '._Cxxx6wJ1jNo_0_10.avi',\n",
              " 'ViWQUOGIaSU_9_16.avi',\n",
              " 'TnPOZVHB3x0_45_55.avi',\n",
              " '._ao-9B8IV9_E_77_81.avi',\n",
              " '._kWLNZzuo3do_206_213.avi',\n",
              " 'YEmS8ZQIhTA_7_20.avi',\n",
              " '._30PpKtVT8Z4_35_50.avi',\n",
              " '._kWLNZzuo3do_154_165.avi',\n",
              " '._k-SWy-sU8cE_5_10.avi',\n",
              " '._q8t7iSGAKik_11_31.avi',\n",
              " '._yC4eEuURH8c_19_28.avi',\n",
              " '._jPBxl9gFqNY_110_117.avi',\n",
              " 'aeA-HN7BMdo_52_58.avi',\n",
              " 'gtixLEvO2Us_0_6.avi',\n",
              " '3opDcpPxllE_50_66.avi',\n",
              " '._WTf5EgVY5uU_104_108.avi',\n",
              " '._a-cek0mvXxE_15_25.avi',\n",
              " '._ifS2nXfCyYo_4_34.avi',\n",
              " 'JktNQQnLblQ_4_9.avi',\n",
              " '._p69Q8lTkZTc_21_29.avi',\n",
              " '._klFyrnrUSck_13_19.avi',\n",
              " '._UXs3eq68ZjE_246_250.avi',\n",
              " 'Zg0p5TXi_Cc_30_46.avi',\n",
              " '._4MjTb5A68VA_111_118.avi',\n",
              " '-wa0umYJVGg_271_276.avi',\n",
              " 'EjAoBKagWQA_132_145.avi',\n",
              " '._MJoxGpEswOI_9_16.avi',\n",
              " '._uqVCk2oDpSE_194_200.avi',\n",
              " '_OBlgSz8sSM_15_32.avi',\n",
              " 'pUPKsHTDZTo_70_85.avi',\n",
              " '._IpHJffM3G1c_464_470.avi',\n",
              " '._SFFfhAUEoj0_10_16.avi',\n",
              " '._swKrHEeOj9c_4_8.avi',\n",
              " '._K-KVz3eqbnA_1_10.avi',\n",
              " 'XNV7hKVu-Xg_40_47.avi',\n",
              " 'dP15zlyra3c_0_10.avi',\n",
              " '3ytUOoa1SBE_12_23.avi',\n",
              " '._UbmZAe5u5FI_44_55.avi',\n",
              " '._DN7jwyL1Xgg_1_19.avi',\n",
              " '._rwHT2SuNOi8_240_255.avi',\n",
              " '._ZDoy9S82ETA_5_15.avi',\n",
              " '._DAmOfcvfKZ0_22_32.avi',\n",
              " '._ogcqFaNbah4_475_487.avi',\n",
              " '._ACK7SekJWts_140_150.avi',\n",
              " 'yOnRm3TP6hM_0_12.avi',\n",
              " 'q8t7iSGAKik_11_31.avi',\n",
              " '8mSUD7JGNO0_174_181.avi',\n",
              " 'izU1dDwnuMY_80_92.avi',\n",
              " '._0SMOK2ql7Pg_5_12.avi',\n",
              " '2YhDTpzxd3c_223_232.avi',\n",
              " '._klFyrnrUSck_25_36.avi',\n",
              " 'FH8vgAp4VDU_10_14.avi',\n",
              " '._UgUFP5baQ9Y_0_7.avi',\n",
              " '._S-Civm_fbK8_20_26.avi',\n",
              " '4Hhdr1IPOGs_1_10.avi',\n",
              " '.__WRC7HXBJpU_386_391.avi',\n",
              " 'PeUHy0A1GF0_74_77.avi',\n",
              " '.__O9kWD8nuRU_70_76.avi',\n",
              " '._cSDkshD2ME0_11_14.avi',\n",
              " '0SMOK2ql7Pg_5_12.avi',\n",
              " 'VahnQw2gTQY_203_210.avi',\n",
              " '._pRpeEdMmmQ0_1_18.avi',\n",
              " 'qIk_Dz5XE5E_104_109.avi',\n",
              " '._1dfR0A_BXjw_524_532.avi',\n",
              " 'DN7jwyL1Xgg_1_19.avi',\n",
              " 'rKF0ZW34FRk_41_54.avi',\n",
              " '._Ms3QdGIzltU_1_16.avi',\n",
              " '._Z10_CDPQKKs_1_6.avi',\n",
              " 'C1MNCR1o9lU_0_7.avi',\n",
              " '._Gm1WnWVXYzQ_0_9.avi',\n",
              " '._9Bxknsvy3jQ_53_58.avi',\n",
              " '._kEGmZDpZ_RE_248_293.avi',\n",
              " '0hyZ__3YhZc_364_370.avi',\n",
              " '6owu8Mow0_g_850_855.avi',\n",
              " 'WAa4-cctmDk_55_70.avi',\n",
              " 'LqPIBHAmt4E_22_30.avi',\n",
              " 'BR4yQFZK9YM_101_110.avi',\n",
              " '._dtwXtwJByYk_5_14.avi',\n",
              " '._0hyZ__3YhZc_575_580.avi',\n",
              " 'qew09qQgMAg_22_27.avi',\n",
              " 'nlU3crMsbWI_19_23.avi',\n",
              " 'UXs3eq68ZjE_313_318.avi',\n",
              " '._fMXfphSi6Yw_7_12.avi',\n",
              " '._IpHJffM3G1c_412_418.avi',\n",
              " '1dYpcVv6n3Y_0_18.avi',\n",
              " 'EPXsiQw9vvo_1_12.avi',\n",
              " '._s0hwEUC5emA_127_132.avi',\n",
              " 'JIKaIriiK8w_0_15.avi',\n",
              " '._W6_XuNhgtrM_2_5.avi',\n",
              " '._Hu9Sq1RvuoA_19_62.avi',\n",
              " '._5fDBl1wT2Lk_34_39.avi',\n",
              " '._OxL9z2BzBnk_0_19.avi',\n",
              " 'YmXCfQm0_CA_50_57.avi',\n",
              " 'tYh4iDFgmEE_50_54.avi',\n",
              " '._HkuOqWzXYVg_0_12.avi',\n",
              " 'cSDkshD2ME0_11_14.avi',\n",
              " '._ggic669elLM_200_215.avi',\n",
              " '._ao-9B8IV9_E_72_77.avi',\n",
              " '._mJ9eRvxjLc4_0_16.avi',\n",
              " '._f9_bP219ehQ_63_70.avi',\n",
              " 'frames_210.png',\n",
              " '0lh_UWF9ZP4_165_170.avi',\n",
              " '._8D_oQnBPfNo_43_50.avi',\n",
              " '._Kxa0mnDj0bs_15_20.avi',\n",
              " '._80D0ylOqPJ8_0_5.avi',\n",
              " 'ACOmKiJDkA4_130_144.avi',\n",
              " '-pUwIypksfE_13_23.avi',\n",
              " 'v7NpKUVqjpI_23_40.avi',\n",
              " 'gbW9f8xydks_0_10.avi',\n",
              " 'OE6H_M52Sng_89_97.avi',\n",
              " 'e996zZ0uV_A_152_163.avi',\n",
              " 'lB1UPJ4leqs_1_6.avi',\n",
              " '._kBMsuhDvg88_45_64.avi',\n",
              " 'PAN5IVvMlVc_17_23.avi',\n",
              " '._p7IAuvd87hQ_12_19.avi',\n",
              " 'l5JJ2n2ggiQ_319_327.avi',\n",
              " '._UJKythlXAIY_17_21.avi',\n",
              " '._XEOH3t5AYY0_22_29.avi',\n",
              " '._-dm-ds5rRaM_44_52.avi',\n",
              " 'HJHPB_Y8GZE_22_28.avi',\n",
              " '._z0Si1XxMibg_0_30.avi',\n",
              " '._btxCxlO1Euc_1_20.avi',\n",
              " '._5JSbxHECb-I_97_110.avi',\n",
              " '-_hbPLsZvvo_18_25.avi',\n",
              " 'wsj_dzz33Ko_31_41.avi',\n",
              " '._5QJf-l4lPJw_133_138.avi',\n",
              " '05gNigkqfNU_11_23.avi',\n",
              " 'XzCcRzEa83U_1_8.avi',\n",
              " '._bLqmf8x7rLI_2_8.avi',\n",
              " '._5PpPOGU_0aA_65_75.avi',\n",
              " 'W20Btaww6zc_134_139.avi',\n",
              " '._xXlWsBhFvis_6_10.avi',\n",
              " 'Rm-RnxN4oHA_215_225.avi',\n",
              " '0hyZ__3YhZc_632_637.avi',\n",
              " '6r5DmFa5ZR8_51_58.avi',\n",
              " '1qV4wfjTYIo_151_164.avi',\n",
              " 'WTf5EgVY5uU_108_116.avi',\n",
              " '._45AGQSbodbU_5_15.avi',\n",
              " '._Els1Cclg_sk_4_15.avi',\n",
              " 'u4kMN1jamdM_10_20.avi',\n",
              " '._eZLxohGP4IE_15_25.avi',\n",
              " 'Xxcv5jvRmcg_39_46.avi',\n",
              " 'HYbEf-JKZnA_13_26.avi',\n",
              " 'ITNh8tWZPOA_5_25.avi',\n",
              " 'Kxa0mnDj0bs_15_20.avi',\n",
              " '._JYNzY9jmsQQ_2_10.avi',\n",
              " '._EVqc7e8JCco_5_15.avi',\n",
              " 'SFFfhAUEoj0_10_16.avi',\n",
              " 'D1tTBncIsm8_841_848.avi',\n",
              " '._JIoiUNOXGaI_34_41.avi',\n",
              " 'O9cOSO9L8Zs_1_16.avi',\n",
              " 'e-j59PqJjSM_163_173.avi',\n",
              " 'uO7Eysrs8_k_106_114.avi',\n",
              " 'zH4v_DClIoc_3_28.avi',\n",
              " '._gnEE6oWoz7U_124_132.avi',\n",
              " 'xfRIRSWy0y0_10_20.avi',\n",
              " '._BVjvRpmHg0w_157_165.avi',\n",
              " 'UJKythlXAIY_17_21.avi',\n",
              " '._O9yLRzpPp44_36_55.avi',\n",
              " '._4s_0-zIWEog_1_15.avi',\n",
              " '._1mIyMRPV8kg_9_17.avi',\n",
              " '._nPj6EcVGoUY_7_15.avi',\n",
              " '._K1ZM0LSLVw8_481_487.avi',\n",
              " '._TjLCJKoot4U_43_65.avi',\n",
              " '._f_CvW22Eauc_16_23.avi',\n",
              " '5fDBl1wT2Lk_34_39.avi',\n",
              " '._pqTWUzehCUM_42_47.avi',\n",
              " '._Je3V7U5Ctj4_558_563.avi',\n",
              " '._O9cOSO9L8Zs_1_16.avi',\n",
              " '._i3cHNObcEh8_0_10.avi',\n",
              " '0vmoZEaN_-o_4_12.avi',\n",
              " '._0lh_UWF9ZP4_199_207.avi',\n",
              " '5fq9iIxxA1s_12_27.avi',\n",
              " '._F44bLc6t7-I_1_8.avi',\n",
              " '._pRpeEdMmmQ0_65_70.avi',\n",
              " 'gHyXstpe_N8_140_150.avi',\n",
              " '._xxHx6s_DbUo_202_207.avi',\n",
              " '._D1tTBncIsm8_725_740.avi',\n",
              " 'Tm1HjqK0ABg_9_15.avi',\n",
              " '._9IrWyZ0KZuk_160_166.avi',\n",
              " '6owu8Mow0_g_692_697.avi',\n",
              " '._s_ldnx8_etY_32_54.avi',\n",
              " '8yoUaH6wGLs_22_30.avi',\n",
              " 'xTd_IdIcB4s_2_10.avi',\n",
              " 'io2dbV-Qbus_215_247.avi',\n",
              " 'muI1BFsdbdo_33_45.avi',\n",
              " '._j4dMnAPZu70_12_17.avi',\n",
              " '._vE1gvaM3iAs_39_46.avi',\n",
              " '._ACOmKiJDkA4_175_182.avi',\n",
              " '._dtn0PuxgfkM_0_5.avi',\n",
              " '._fr9H1WLcF1A_141_148.avi',\n",
              " '._0lh_UWF9ZP4_103_110.avi',\n",
              " 's80J2dAUUyI_33_43.avi',\n",
              " 'elQqQfux7Po_12_22.avi',\n",
              " '._fjDvKHkmxs0_119_126.avi',\n",
              " '._GPT4vUwlrXY_1_10.avi',\n",
              " '._WTf5EgVY5uU_66_75.avi',\n",
              " '._IhzXQ-gc9IQ_125_129.avi',\n",
              " '._Zoz0HcCB1vU_0_10.avi',\n",
              " '-_hbPLsZvvo_49_55.avi',\n",
              " 'E61HNXjgyqA_22_32.avi',\n",
              " '._Xxcv5jvRmcg_39_46.avi',\n",
              " '._hJFBXHtxKIc_204_209.avi',\n",
              " 'LQ-jv8g1YVI_1_6.avi',\n",
              " '._-_hbPLsZvvo_5_8.avi',\n",
              " 'UXs3eq68ZjE_498_504.avi',\n",
              " '._oFUsn1owAbs_158_168.avi',\n",
              " 'D1tTBncIsm8_248_254.avi',\n",
              " '-wa0umYJVGg_23_41.avi',\n",
              " '._OKBLPpAPp9c_2_17.avi',\n",
              " 'qzQzooI4BqU_5_15.avi',\n",
              " 'KPPCwmU5OHQ_227_238.avi',\n",
              " 'IhwPQL9dFYc_171_175.avi',\n",
              " '3_51FhosiVY_93_101.avi',\n",
              " '._bDoCQEwghZU_201_211.avi',\n",
              " '._VLBsAPZ2DDE_58_64.avi',\n",
              " 's_ldnx8_etY_32_54.avi',\n",
              " 'PeUHy0A1GF0_78_85.avi',\n",
              " '._kEGmZDpZ_RE_352_370.avi',\n",
              " 'HkuOqWzXYVg_0_12.avi',\n",
              " '._X6uJyuD_Zso_3_17.avi',\n",
              " '._xxHx6s_DbUo_49_56.avi',\n",
              " '._KPPCwmU5OHQ_56_62.avi',\n",
              " 'WTx-K045yQM_85_98.avi',\n",
              " '._ptHkvYrH9fY_2_10.avi',\n",
              " '._fr9H1WLcF1A_326_336.avi',\n",
              " 'MPuKVz3sjBA_1_12.avi',\n",
              " 'ItFqogTmAvQ_389_395.avi',\n",
              " '._LwicaralvS0_90_104.avi',\n",
              " 'UqBafx3iRKw_22_29.avi',\n",
              " 'lc9bA-hvqHU_1_6.avi',\n",
              " '._9LHg5RUGukI_58_63.avi',\n",
              " 'm1NR0uNNs5Y_88_94.avi',\n",
              " '._hEOGZoYSvT4_82_86.avi',\n",
              " 'IY1Fn796MoY_7_10.avi',\n",
              " 'xxHx6s_DbUo_240_248.avi',\n",
              " 'cs33MNhpRNw_16_21.avi',\n",
              " '._pGCRurvXQGM_45_56.avi',\n",
              " 'D9I1Z6O_mbw_112_119.avi',\n",
              " '6t0BpjwYKco_105_110.avi',\n",
              " '1hPxGmTGarM_9_19.avi',\n",
              " '._tYQ7O6V0Fvk_20_55.avi',\n",
              " '._gWRRHV7DLV0_21_31.avi',\n",
              " 'nohvigNMsbo_199_207.avi',\n",
              " '._MSrJTeKNzdI_32_36.avi',\n",
              " 'UbmZAe5u5FI_36_40.avi',\n",
              " 'q-JHcsqJXWY_0_8.avi',\n",
              " '._MHWxjWwAbwM_10_25.avi',\n",
              " '._9gbUM9oHBNI_557_563.avi',\n",
              " 'yg4aNiO1JnI_111_114.avi',\n",
              " 'o_mWZWcm2r4_10_15.avi',\n",
              " '._2YhDTpzxd3c_174_180.avi',\n",
              " '._TgFmoZj3NoM_10_18.avi',\n",
              " '._5fq9iIxxA1s_12_27.avi',\n",
              " 'ZbtpcGi2DWY_56_62.avi',\n",
              " '6t0BpjwYKco_217_229.avi',\n",
              " '8NFoN0K3bPg_20_28.avi',\n",
              " 'ao-9B8IV9_E_108_119.avi',\n",
              " 'rV5VmhY3-Sw_65_76.avi',\n",
              " '._MPuKVz3sjBA_1_12.avi',\n",
              " '._GcfWD62sbcs_13_33.avi',\n",
              " '._Je3V7U5Ctj4_760_765.avi',\n",
              " '._PTxHJMM6hHE_0_15.avi',\n",
              " '._cCmnN96zIeQ_14_24.avi',\n",
              " '._J4otiwOjQy8_98_112.avi',\n",
              " 'SzEbtbNSg04_214_224.avi',\n",
              " 'EBWPZIjtnTM_1_6.avi',\n",
              " '._zHy7pM0U49w_110_116.avi',\n",
              " 'BOLKaQeB6j0_101_111.avi',\n",
              " '._swJ0zhVJ8DU_15_21.avi',\n",
              " 'FWzsXeXCwuc_106_110.avi',\n",
              " '._IhwPQL9dFYc_50_59.avi',\n",
              " 'fr9H1WLcF1A_256_261.avi',\n",
              " '._htry5uxX0-Y_45_52.avi',\n",
              " '._kquB3rIgfGk_197_202.avi',\n",
              " '._nZSFn51l3hc_480_485.avi',\n",
              " '._4D1o4FC8YbA_207_216.avi',\n",
              " '._KPPCwmU5OHQ_424_430.avi',\n",
              " '-vg3vR86fu0_1_6.avi',\n",
              " '4yYapi-5QYQ_33_57.avi',\n",
              " '._AX38yo7Wuws_81_91.avi',\n",
              " 'suj4VNfZz5E_33_50.avi',\n",
              " '._oG6LLGi_n48_51_55.avi',\n",
              " '._Q6HuQEIJqcA_9_16.avi',\n",
              " 'PHDmVhShE80_82_86.avi',\n",
              " '2YhDTpzxd3c_166_170.avi',\n",
              " '._tYh4iDFgmEE_10_14.avi',\n",
              " '._PeUHy0A1GF0_51_55.avi',\n",
              " 'WTf5EgVY5uU_54_58.avi',\n",
              " 't3VPeyYL-fI_35_39.avi',\n",
              " '._kWLNZzuo3do_38_42.avi',\n",
              " 'ItFqogTmAvQ_48_52.avi',\n",
              " '-wa0umYJVGg_139_157.avi',\n",
              " '._4PayIIIOeIs_230_238.avi',\n",
              " '._fY0lZTWlBAg_470_485.avi',\n",
              " '._o4pL7FObqds_243_263.avi',\n",
              " '._ETUJipdnfOM_0_5.avi',\n",
              " '._LEz0puaKNTk_38_48.avi',\n",
              " '._qypmR4O1Gwk_0_10.avi',\n",
              " '._Qtu-PXuvCx4_12_17.avi',\n",
              " '._pQYEZTwSVbQ_12_18.avi',\n",
              " 'jdAbpLooDgM_10_15.avi',\n",
              " '._hxZ-5wELSJM_0_12.avi',\n",
              " '._0lh_UWF9ZP4_174_178.avi',\n",
              " 'OaBmAg6gz30_4_18.avi',\n",
              " '._D2FbgK_kkE8_121_151.avi',\n",
              " 'qqYysi3qotc_148_195.avi',\n",
              " 'SzEbtbNSg04_88_93.avi',\n",
              " 'MF88IYF2MHY_25_59.avi',\n",
              " '4Tn5S48sCwg_110_118.avi',\n",
              " 'Yh2N6ZtRBdU_110_120.avi',\n",
              " '77iDIp40m9E_119_123.avi',\n",
              " '._ItFqogTmAvQ_240_246.avi',\n",
              " '._yyxtyCaEVqk_329_360.avi',\n",
              " '._JhCvLmf9yr0_46_50.avi',\n",
              " '._b-d-CxHaKGU_10_30.avi',\n",
              " '27mxaePkYB4_8_14.avi',\n",
              " 'Uc63MFVwfrs_355_372.avi',\n",
              " 'fkONJEgTNJY_25_35.avi',\n",
              " 'c75SIlAjfjg_6_14.avi',\n",
              " 'o4pL7FObqds_243_263.avi',\n",
              " '._4wT7zM8XgXQ_5_11.avi',\n",
              " 'SaYwh6chmiw_15_40.avi',\n",
              " '._6owu8Mow0_g_692_697.avi',\n",
              " '._60x_yxy7Sfw_1_7.avi',\n",
              " 'kquB3rIgfGk_537_544.avi',\n",
              " '._sWqi41wyXcQ_68_79.avi',\n",
              " 'm1NR0uNNs5Y_160_166.avi',\n",
              " '6Q3ltyPJJMQ_67_72.avi',\n",
              " 'm1NR0uNNs5Y_73_78.avi',\n",
              " 'WTf5EgVY5uU_98_104.avi',\n",
              " '._-YI0cxuNcq8_262_272.avi',\n",
              " 'rw9h_574HxE_161_166.avi',\n",
              " '._D1X6qXkLjYE_41_49.avi',\n",
              " '._eTnlw7v8ea0_36_50.avi',\n",
              " 'ub-aYLzCF_Q_1_10.avi',\n",
              " 'Uc63MFVwfrs_360_372.avi',\n",
              " '._DcDYRpa34W8_11_25.avi',\n",
              " 'sBjr8UJOpsQ_149_169.avi',\n",
              " '._t8Nf1MK7lts_0_10.avi',\n",
              " 'buJ5HDCinrM_150_166.avi',\n",
              " '._u_6tre9_99Q_13_25.avi',\n",
              " 'vub04F8CWng_32_41.avi',\n",
              " '._Sj6GSmDpNDw_0_12.avi',\n",
              " '._7bcV-TL9mho_0_7.avi',\n",
              " '._ok4cM6WTA5E_120_133.avi',\n",
              " 'TdYN7cePiRI_6_13.avi',\n",
              " '._m1c04pCYGxA_57_64.avi',\n",
              " 'qeKX-N1nKiM_123_130.avi',\n",
              " '._3n_Kqak2JdA_48_71.avi',\n",
              " '._x_7BrCQdVUs_172_177.avi',\n",
              " 'R8FDJgVW3Vc_0_4.avi',\n",
              " '0lh_UWF9ZP4_148_155.avi',\n",
              " '9Wr48VFhZH8_45_50.avi',\n",
              " 'mYzajpeAWuA_100_112.avi',\n",
              " 'uB9zRlV47qA_17_23.avi',\n",
              " 'vMoOpQQy6sI_22_55.avi',\n",
              " '_QJbjKkfdcs_52_57.avi',\n",
              " '77iDIp40m9E_159_181.avi',\n",
              " 'm1c04pCYGxA_57_64.avi',\n",
              " '2F9jX7u5nOg_114_130.avi',\n",
              " '._kRNHJSc4AXE_220_228.avi',\n",
              " '._x68Djm_Q0GA_0_10.avi',\n",
              " 'ptHkvYrH9fY_2_10.avi',\n",
              " '._f-24IxG9ijw_25_40.avi',\n",
              " 'h0JvF9vpqx8_213_223.avi',\n",
              " '._Uc63MFVwfrs_355_372.avi',\n",
              " '_txL575S_OA_13_23.avi',\n",
              " '._YEmS8ZQIhTA_7_20.avi',\n",
              " '2YhDTpzxd3c_22_27.avi',\n",
              " '._g9aZcaEg7iY_0_9.avi',\n",
              " 'cJOZp2ZftCw_1_12.avi',\n",
              " '._nZSFn51l3hc_318_326.avi',\n",
              " 'Vn0Xv0fb1z4_18_30.avi',\n",
              " '._wFPmKChNrhU_3_11.avi',\n",
              " '._FTh5zPk34bQ_16_30.avi',\n",
              " '._hNOzHvsEmg4_31_36.avi',\n",
              " 'sTMlQSbAGfE_0_12.avi',\n",
              " 'ACOmKiJDkA4_121_128.avi',\n",
              " '._0NPtAv3_uVI_46_54.avi',\n",
              " 'hoinj6vyQ2g_8_16.avi',\n",
              " '._jcIrD7rNvTM_10_21.avi',\n",
              " 'kWLNZzuo3do_38_47.avi',\n",
              " '._inLBPVG8oEU_18_24.avi',\n",
              " '._YwmUgVrUJ4I_0_15.avi',\n",
              " '._0lh_UWF9ZP4_183_190.avi',\n",
              " '._ghynaoVNwZc_1_20.avi',\n",
              " 'NNYLo1OeZ-Q_48_54.avi',\n",
              " '._RX6NSOuCCAE_13_27.avi',\n",
              " '._IAvBB2lv8iw_142_148.avi',\n",
              " 'WTf5EgVY5uU_100_104.avi',\n",
              " '._PqSZ89FqpiY_65_75.avi',\n",
              " '._ok4cM6WTA5E_178_184.avi',\n",
              " 'ngHDYzhDBk4_24_29.avi',\n",
              " '._fjDvKHkmxs0_72_87.avi',\n",
              " 'e-sf-hyrkTs_20_35.avi',\n",
              " 'bQJQGoJF7_k_109_115.avi',\n",
              " '._JAFGw0WRHHU_108_116.avi',\n",
              " '._7xNG7qGY9rw_14_29.avi',\n",
              " 'kWLNZzuo3do_222_227.avi',\n",
              " 'wn9rDTZj-m4_8_18.avi',\n",
              " 'CquJjlNuotg_147_155.avi',\n",
              " 'wgrrQwLdME8_66_74.avi',\n",
              " '6t0BpjwYKco_53_59.avi',\n",
              " 'KIEWo_xJ5nU_0_7.avi',\n",
              " '._SzEbtbNSg04_111_117.avi',\n",
              " '._3lBHYoI5V8s_30_45.avi',\n",
              " '._VahnQw2gTQY_315_320.avi',\n",
              " '9WpJxn-2h1o_122_150.avi',\n",
              " 'ZL7P_XmSnEY_205_209.avi',\n",
              " '._wsj_dzz33Ko_31_41.avi',\n",
              " '._g2IYQq7IkXc_124_132.avi',\n",
              " 'b-d-CxHaKGU_10_30.avi',\n",
              " 'v_tGw5gwlEw_136_152.avi',\n",
              " '._-_hbPLsZvvo_43_55.avi',\n",
              " '._ljGcQocjSs4_38_60.avi',\n",
              " 'IhwPQL9dFYc_137_143.avi',\n",
              " '._8PQiaurIiDM_143_151.avi',\n",
              " '._OCcy9TDRGKo_118_127.avi',\n",
              " '._PHDmVhShE80_20_29.avi',\n",
              " '._1dfR0A_BXjw_545_560.avi',\n",
              " '._tqxRDVKtkSY_30_45.avi',\n",
              " '._nBJV56WUDng_38_47.avi',\n",
              " '._ViWQUOGIaSU_9_16.avi',\n",
              " '._p6T3XrnYtFk_4_13.avi',\n",
              " '._39Ce7I6nXIw_96_104.avi',\n",
              " 'nZSFn51l3hc_480_485.avi',\n",
              " '._XdB0pVjFYoU_1_8.avi',\n",
              " '1N_Ic2pBM1o_2_23.avi',\n",
              " 'FTh5zPk34bQ_16_30.avi',\n",
              " '.__O9kWD8nuRU_25_35.avi',\n",
              " 'sMscRb9TcQE_146_161.avi',\n",
              " '._5dZ8PXABC30_14_20.avi',\n",
              " '._7_XASfcYdBk_3_13.avi',\n",
              " '._FOOM-wA2rOY_77_86.avi',\n",
              " '._zr9OeyfLPPY_4_9.avi',\n",
              " '._dmyz_f8Sx14_56_66.avi',\n",
              " '0lh_UWF9ZP4_199_207.avi',\n",
              " '._4kQnrKvOTNg_15_24.avi',\n",
              " 'WTf5EgVY5uU_218_236.avi',\n",
              " '_sJ_09Mf1HY_49_72.avi',\n",
              " '._Vn0Xv0fb1z4_18_30.avi',\n",
              " '._NjblUomxFQo_100_108.avi',\n",
              " 'WG0J2B19ZT8_1_33.avi',\n",
              " 'E4k0Aylzdyo_97_104.avi',\n",
              " '._0lh_UWF9ZP4_38_46.avi',\n",
              " 'ljGcQocjSs4_38_60.avi',\n",
              " '._WqQonRVs7WA_0_10.avi',\n",
              " '._m1NR0uNNs5Y_88_94.avi',\n",
              " 'eZLxohGP4IE_15_25.avi',\n",
              " 'PCXHuseKwDc_17_20.avi',\n",
              " '._-9CUm-2cui8_39_44.avi',\n",
              " 'kNHivduxQWg_0_14.avi',\n",
              " 'fnpp8v9NbmY_181_188.avi',\n",
              " 'sBjr8UJOpsQ_181_195.avi',\n",
              " 'O2qiPS2NCeY_2_18.avi',\n",
              " '._urXDqw3S34I_12_17.avi',\n",
              " '._rV5VmhY3-Sw_65_76.avi',\n",
              " 'fY0lZTWlBAg_470_485.avi',\n",
              " 'qhknaG9ifbs_122_127.avi',\n",
              " '._qeKX-N1nKiM_123_130.avi',\n",
              " 'kRNHJSc4AXE_220_228.avi',\n",
              " 'PJnJMp2ZpbA_3_15.avi',\n",
              " 'kWLNZzuo3do_86_93.avi',\n",
              " '._bb6V0Grtub4_174_185.avi',\n",
              " '._B4foOe9kUgY_0_8.avi',\n",
              " '80D0ylOqPJ8_0_5.avi',\n",
              " '._0lh_UWF9ZP4_148_155.avi',\n",
              " '._rw9h_574HxE_127_133.avi',\n",
              " 'hM3jzlyNIpc_0_10.avi',\n",
              " 'BvHnDAsMtUA_0_13.avi',\n",
              " '._-wa0umYJVGg_286_290.avi',\n",
              " '._vuvpbeQak9Q_23_29.avi',\n",
              " 'xOQn1z_oWDY_30_39.avi',\n",
              " '._nc8hwLaOyZU_1_19.avi',\n",
              " '7d1d2WlEnKs_0_12.avi',\n",
              " '._zTn-nNj5Bng_8_19.avi',\n",
              " '._RvJH_POzxmc_10_25.avi',\n",
              " '._EKL6elkbFy0_16_30.avi',\n",
              " '._tYh4iDFgmEE_50_54.avi',\n",
              " 'GMuijLIJH-U_1_10.avi',\n",
              " '._QklHhN8pQBE_0_10.avi',\n",
              " 'bmOy6p87TWI_26_35.avi',\n",
              " '._ZL7P_XmSnEY_205_209.avi',\n",
              " '30GeJHYoerk_80_85.avi',\n",
              " '._zTn-nNj5Bng_61_77.avi',\n",
              " 'Lyp7MiaCXNE_114_120.avi',\n",
              " 'JXSkYkiKO0I_42_46.avi',\n",
              " '._dfOuTx66bJU_11_14.avi',\n",
              " '7EOqi_6rnkg_36_44.avi',\n",
              " '._9BScZRpF7SI_31_36.avi',\n",
              " '._xxHx6s_DbUo_121_128.avi',\n",
              " 'f-24IxG9ijw_25_40.avi',\n",
              " '._PHDmVhShE80_36_46.avi',\n",
              " '._9WpJxn-2h1o_122_150.avi',\n",
              " 'j1Z890_Q3so_131_138.avi',\n",
              " 'QGJy1K91gP4_90_100.avi',\n",
              " 'UgUFP5baQ9Y_0_10.avi',\n",
              " 'MrMG15y3rWU_5_13.avi',\n",
              " '._FxIuFwMhOu8_18_26.avi',\n",
              " '._UbmZAe5u5FI_111_115.avi',\n",
              " '._0hyZ__3YhZc_289_295.avi',\n",
              " '._UbmZAe5u5FI_36_40.avi',\n",
              " '._8e0yXMa708Y_24_33.avi',\n",
              " 'xxHx6s_DbUo_202_207.avi',\n",
              " '._W8l_ezoU8Lc_55_70.avi',\n",
              " '._jlahRlo4jlU_30_36.avi',\n",
              " '._J7zb8YXrmIA_93_99.avi',\n",
              " 'Ow_o78zjo14_42_57.avi',\n",
              " '._IWhrWLOAin0_1_4.avi',\n",
              " '._IHIa75B9AhI_2_26.avi',\n",
              " '._WFNXwor69-U_33_40.avi',\n",
              " '._ZYaxg5NZW_g_21_27.avi',\n",
              " 'frames_120.png',\n",
              " '._qeKX-N1nKiM_106_115.avi',\n",
              " 'K1ZM0LSLVw8_481_487.avi',\n",
              " 'labytsb3gfI_146_154.avi',\n",
              " 'hReROJQpSow_24_30.avi',\n",
              " '._WTf5EgVY5uU_15_19.avi',\n",
              " 'a28s_wyqkyc_68_77.avi',\n",
              " '._bnN_o0Hkn3M_73_80.avi',\n",
              " 'mCrRHP4LFmo_24_40.avi',\n",
              " '._88p7U5CnoYU_1_10.avi',\n",
              " '._F2Ny7rq9RKs_139_148.avi',\n",
              " 'bK-i_FAcpoY_86_92.avi',\n",
              " 'VahnQw2gTQY_315_320.avi',\n",
              " 'm1NR0uNNs5Y_224_230.avi',\n",
              " 'YUlG_PKzpvc_0_8.avi',\n",
              " '0hyZ__3YhZc_485_490.avi',\n",
              " '._2MCpA01Sn_c_75_82.avi',\n",
              " '-AwoiGR6c8M_10_14.avi',\n",
              " '._k8l4ETsylVY_9_18.avi',\n",
              " '._Vg1jyL3cr60_163_186.avi',\n",
              " 'M4It3DrhbE0_13_22.avi',\n",
              " '._XzCcRzEa83U_39_46.avi',\n",
              " 'PslVHtXc7Tg_8_14.avi',\n",
              " '._a0g7wtBkS98_34_42.avi',\n",
              " '._PeUHy0A1GF0_78_85.avi',\n",
              " 'j4dMnAPZu70_12_17.avi',\n",
              " '0bSz70pYAP0_5_15.avi',\n",
              " 'sm0OYD0NSbQ_51_59.avi',\n",
              " '._6t0BpjwYKco_46_53.avi',\n",
              " '._5AEldiUP408_65_71.avi',\n",
              " '._PeUHy0A1GF0_74_77.avi',\n",
              " 'WTf5EgVY5uU_76_83.avi',\n",
              " '._B-Lsf7ZKf5c_10_25.avi',\n",
              " '._kWLNZzuo3do_145_151.avi',\n",
              " '._D1tTBncIsm8_681_688.avi',\n",
              " '._Lyp7MiaCXNE_114_120.avi',\n",
              " '._c2a0GcoJAjw_52_73.avi',\n",
              " '._-8y1Q0rA3n8_108_115.avi',\n",
              " '-DRy7rBg0IQ_31_37.avi',\n",
              " ...]"
            ]
          },
          "metadata": {
            "tags": []
          },
          "execution_count": 5
        }
      ]
    },
    {
      "cell_type": "code",
      "metadata": {
        "id": "u5fMA9SXdFtL"
      },
      "source": [
        "working_filenames = [x for x in filenames if not x.startswith('.')]"
      ],
      "execution_count": null,
      "outputs": []
    },
    {
      "cell_type": "code",
      "metadata": {
        "id": "Nn2lBV-W2klN"
      },
      "source": [
        "# make sure only videos are kept\n",
        "working_filenames = [x for x in working_filenames if x.endswith('.avi')]"
      ],
      "execution_count": null,
      "outputs": []
    },
    {
      "cell_type": "code",
      "metadata": {
        "colab": {
          "base_uri": "https://localhost:8080/",
          "height": 36
        },
        "id": "sDKDQmXBdLrw",
        "outputId": "d3fba863-c756-44ee-ed67-95464a012e39"
      },
      "source": [
        "working_filenames[0]"
      ],
      "execution_count": null,
      "outputs": [
        {
          "output_type": "execute_result",
          "data": {
            "application/vnd.google.colaboratory.intrinsic+json": {
              "type": "string"
            },
            "text/plain": [
              "'2F9jX7u5nOg_83_97.avi'"
            ]
          },
          "metadata": {
            "tags": []
          },
          "execution_count": 8
        }
      ]
    },
    {
      "cell_type": "code",
      "metadata": {
        "colab": {
          "base_uri": "https://localhost:8080/"
        },
        "id": "USYfgE-IyBeH",
        "outputId": "5e61ea90-c3e5-405f-a842-e3957d454130"
      },
      "source": [
        "len(working_filenames)"
      ],
      "execution_count": null,
      "outputs": [
        {
          "output_type": "execute_result",
          "data": {
            "text/plain": [
              "1450"
            ]
          },
          "metadata": {
            "tags": []
          },
          "execution_count": 9
        }
      ]
    },
    {
      "cell_type": "code",
      "metadata": {
        "colab": {
          "base_uri": "https://localhost:8080/"
        },
        "id": "pC70izi_dR8q",
        "outputId": "49defd68-aea6-4778-c8bc-ddaeec4834b0"
      },
      "source": [
        "working_video_names = [x[:-4] for x in working_filenames]\n",
        "working_video_names"
      ],
      "execution_count": null,
      "outputs": [
        {
          "output_type": "execute_result",
          "data": {
            "text/plain": [
              "['2F9jX7u5nOg_83_97',\n",
              " '6t0BpjwYKco_80_84',\n",
              " '4QYPZM01xFE_14_26',\n",
              " 'qeKX-N1nKiM_37_43',\n",
              " 'eyMYc-37Sk4_0_10',\n",
              " '6KS8R3RxrV8_0_23',\n",
              " 'Tied-t1fFsk_15_20',\n",
              " 'giLxPCgLLqg_9_19',\n",
              " 'BVjvRpmHg0w_47_51',\n",
              " 'rlQ2kW-FvMk_66_79',\n",
              " 'CL49s8bO6Fg_1_11',\n",
              " '6owu8Mow0_g_527_534',\n",
              " 'bAYIIlX-WWw_5_15',\n",
              " 'WTf5EgVY5uU_104_108',\n",
              " 'ObBss94n3gI_35_46',\n",
              " 'fHfpMUDrQCs_17_31',\n",
              " 'TZ860P4iTaM_11_20',\n",
              " 'IAvBB2lv8iw_142_148',\n",
              " '_WRC7HXBJpU_395_401',\n",
              " 'WFNXwor69-U_33_40',\n",
              " 'hJFBXHtxKIc_204_209',\n",
              " 'IBgsLmDcL78_80_84',\n",
              " 'QMJY29QMewQ_42_52',\n",
              " 'RQYLGNbal2c_5_10',\n",
              " 'BVilbVCo9sU_1_11',\n",
              " '8MVo7fje_oE_85_90',\n",
              " 'TgFmoZj3NoM_10_18',\n",
              " '4PayIIIOeIs_230_238',\n",
              " '4s_0-zIWEog_1_15',\n",
              " 'VahnQw2gTQY_322_327',\n",
              " 'fgWFxFg7-GU_10_26',\n",
              " 'hJuqBDw_TT4_14_25',\n",
              " 'lsanQj2yacs_102_108',\n",
              " 'lfGlDg47How_361_367',\n",
              " 'ao-9B8IV9_E_175_187',\n",
              " '-_hbPLsZvvo_172_179',\n",
              " 'HJHPB_Y8GZE_259_263',\n",
              " '2YhDTpzxd3c_149_154',\n",
              " 'c76tShLfQb0_74_81',\n",
              " 'pGsU4FekJQM_10_18',\n",
              " '7s0AXJtLL0Y_57_61',\n",
              " 'nLvX-erABqY_67_72',\n",
              " 'VLBsAPZ2DDE_58_64',\n",
              " 'nBJV56WUDng_38_47',\n",
              " '9Q0JfdP36kI_56_64',\n",
              " 'yfMTsYcLt10_0_7',\n",
              " 'lfGlDg47How_110_115',\n",
              " 'DBvSfds3FH4_84_88',\n",
              " 'F2Ny7rq9RKs_139_148',\n",
              " 'WPG-BIWOrG4_672_677',\n",
              " 'BtQEY2SL4g4_126_132',\n",
              " '5PpPOGU_0aA_65_75',\n",
              " 'o_mWZWcm2r4_47_54',\n",
              " 'Jj4uYHr65H8_28_35',\n",
              " 'hJuqBDw_TT4_105_112',\n",
              " 'i3fd4nE8OCI_174_181',\n",
              " '9OxQ-2gR1DU_18_38',\n",
              " 'u9prcUCHlqM_503_511',\n",
              " 'TZ860P4iTaM_10_24',\n",
              " 'L8h2DazQZJY_0_10',\n",
              " 'KPPCwmU5OHQ_56_62',\n",
              " 'ZDoy9S82ETA_5_15',\n",
              " 'tzd3AYTZq0U_0_6',\n",
              " '08pVpBq706k_175_212',\n",
              " 'zv2RIbUsnSw_159_162',\n",
              " 'ry7AUQtuwdU_4_39',\n",
              " '1Dty_eGY9Ec_123_133',\n",
              " 'zhLcONtNkew_16_21',\n",
              " 'hEOGZoYSvT4_82_86',\n",
              " '53dc4z7HLyg_16_23',\n",
              " 'kKGehSw5ht8_39_45',\n",
              " 'kEGmZDpZ_RE_352_370',\n",
              " '6t0BpjwYKco_254_258',\n",
              " 'NjCqtzZ3OtU_62_67',\n",
              " 'PECk9A-07Pw_1_9',\n",
              " 'gHyXstpe_N8_116_125',\n",
              " 'p9g06ktIkJg_4_11',\n",
              " '21uB8g-jDZI_70_79',\n",
              " '4Hhdr1IPOGs_90_98',\n",
              " 'PCXHuseKwDc_68_76',\n",
              " 'kWLNZzuo3do_228_232',\n",
              " 'i2sRHf9m5KM_28_42',\n",
              " 'onW5hJXnI5s_10_16',\n",
              " 'kzyFBlNRohs_82_88',\n",
              " 'JnNe61UZsdM_78_88',\n",
              " 't4vP-cXXWkY_14_20',\n",
              " 'nhm_APPwhWk_6_12',\n",
              " '6owu8Mow0_g_384_389',\n",
              " 'BefkDBj5gSw_104_109',\n",
              " 'xPR0xFgCAZY_17_27',\n",
              " 'gIvetX_oXeI_85_90',\n",
              " 'c2a0GcoJAjw_52_73',\n",
              " 'ZN2_czSBSD0_240_250',\n",
              " 'WTf5EgVY5uU_66_75',\n",
              " 'dMH0bHeiRNg_3_14',\n",
              " '0lh_UWF9ZP4_157_160',\n",
              " 'gbUhorqLCzU_10_23',\n",
              " 'cmQ3SiIaWy4_4_20',\n",
              " 'e4QGnppJ-ys_6_14',\n",
              " 'IhwPQL9dFYc_143_147',\n",
              " '0hyZ__3YhZc_388_394',\n",
              " 'cSDkshD2ME0_12_15',\n",
              " '0hyZ__3YhZc_410_417',\n",
              " 'ok4cM6WTA5E_178_184',\n",
              " '47D9-U8hn5I_11_16',\n",
              " 'mOZkcBcWR8o_6_12',\n",
              " 'pfQPRXcihkI_160_184',\n",
              " 'MoqC84sXu88_47_59',\n",
              " '8PQiaurIiDM_94_99',\n",
              " '6t0BpjwYKco_71_76',\n",
              " 'HypgcCT1r68_38_46',\n",
              " '8MVo7fje_oE_180_185',\n",
              " '98shpdib9sg_55_62',\n",
              " '1_6V30igzIk_5_15',\n",
              " 'lb8J2zCQTlo_3_8',\n",
              " 'WqQonRVs7WA_0_10',\n",
              " 'IiIiY6o-C9k_59_64',\n",
              " 'Je3V7U5Ctj4_488_495',\n",
              " 'DIebwNHGjm8_27_38',\n",
              " 'klFyrnrUSck_13_19',\n",
              " '8yS2wqwActs_2_14',\n",
              " 'jcIrD7rNvTM_10_21',\n",
              " 'yyxtyCaEVqk_321_328',\n",
              " '5CS4nLI2ZX8_50_59',\n",
              " 'bLqmf8x7rLI_2_8',\n",
              " 'EA-J-Y6QjUo_40_61',\n",
              " 'cCmnN96zIeQ_14_24',\n",
              " 'p6cg2jWI34M_34_42',\n",
              " 'a8PAY4rvzRM_1_10',\n",
              " 'jTaLGh_MKCM_5_20',\n",
              " 'xdhLQCYQ-nQ_50_63',\n",
              " 'Qtu-PXuvCx4_12_17',\n",
              " '7uOiiA4Kxbo_23_35',\n",
              " 'B7mP4zoDMwM_0_17',\n",
              " 'ACOmKiJDkA4_67_74',\n",
              " 'vz71JKcpeUU_0_10',\n",
              " 'ysTmUTQ5wZE_17_45',\n",
              " 'j2Dhf-xFUxU_20_29',\n",
              " 'V4q5dQmpxIE_20_30',\n",
              " 'zTn-nNj5Bng_8_19',\n",
              " '-dm-ds5rRaM_44_52',\n",
              " 'MSrJTeKNzdI_32_36',\n",
              " 'OxL9z2BzBnk_0_19',\n",
              " 'AGRFy5hDQiY_31_38',\n",
              " 'ZK4W-2ifl6I_1_28',\n",
              " 'O9yLRzpPp44_36_55',\n",
              " 'WTf5EgVY5uU_130_135',\n",
              " 'zzit5b_-ukg_5_20',\n",
              " 'aC-KOYQsIvU_25_31',\n",
              " '4QdX5Q3qQsQ_38_44',\n",
              " 'g2IYQq7IkXc_23_32',\n",
              " 'X7sQq-Iu1gQ_12_22',\n",
              " 'CcvJs77L-e8_15_22',\n",
              " 'nTUONeDqhdk_10_15',\n",
              " 'bQJQGoJF7_k_162_169',\n",
              " '0lh_UWF9ZP4_215_226',\n",
              " 'kWLNZzuo3do_145_151',\n",
              " 'vuvpbeQak9Q_23_29',\n",
              " 'JIoiUNOXGaI_98_104',\n",
              " 'Lt1JijkvSKk_0_10',\n",
              " 'UXs3eq68ZjE_280_285',\n",
              " 'oG6LLGi_n48_51_55',\n",
              " 'xxHx6s_DbUo_82_86',\n",
              " 'IiTzJQE67FA_74_86',\n",
              " '3chNlP5TeO8_0_10',\n",
              " 'pfQPRXcihkI_135_144',\n",
              " 'IhwPQL9dFYc_50_59',\n",
              " 'c2MwqFYVE7A_40_45',\n",
              " 'qPXynwa_2iM_15_25',\n",
              " 'BVjvRpmHg0w_121_130',\n",
              " 'VfqlfprZsaQ_75_85',\n",
              " 'pGCRurvXQGM_45_56',\n",
              " '3lBHYoI5V8s_30_45',\n",
              " '6vSKIUGGLvY_81_87',\n",
              " 'xb-Nacm-pKc_78_82',\n",
              " '5l6acVf12S4_7_13',\n",
              " '97JhYpoWxzY_0_4',\n",
              " 'otLEUwHao_E_140_151',\n",
              " '5AEldiUP408_65_71',\n",
              " 'BefkDBj5gSw_233_240',\n",
              " 'rwHT2SuNOi8_240_255',\n",
              " 'UXs3eq68ZjE_194_200',\n",
              " 'oRBgVOiZVsc_16_22',\n",
              " 'RieF9wrFd8s_1_8',\n",
              " 'AX38yo7Wuws_81_91',\n",
              " 'xxHx6s_DbUo_57_61',\n",
              " 'Je3V7U5Ctj4_997_1004',\n",
              " 'QklHhN8pQBE_0_10',\n",
              " 'UXs3eq68ZjE_508_513',\n",
              " 'wFPmKChNrhU_3_11',\n",
              " 'L9wD3kw-8FE_65_73',\n",
              " 'oDcd2JbOyzg_38_55',\n",
              " 'IiIiY6o-C9k_49_55',\n",
              " 'LF51fban_x4_300_325',\n",
              " 'tBj4Ny19vfQ_54_59',\n",
              " 'b_BuSVZwq6M_1_9',\n",
              " '5-8z5U-o4O4_0_3',\n",
              " '0hyZ__3YhZc_302_307',\n",
              " '4ge5_V-xhP0_138_142',\n",
              " '-wa0umYJVGg_100_115',\n",
              " 'J8cP93yG1Ao_14_24',\n",
              " 'n2NLoLNecgI_168_178',\n",
              " 'W1052h2rzoA_91_98',\n",
              " '9LOJmQQktHA_10_18',\n",
              " 'WPG-BIWOrG4_608_613',\n",
              " 'z0Si1XxMibg_0_30',\n",
              " 'PeUHy0A1GF0_105_112',\n",
              " '16iNk1hLJt4_37_40',\n",
              " 'j4dMnAPZu70_11_18',\n",
              " 'DBvSfds3FH4_76_80',\n",
              " 'mJ9eRvxjLc4_0_16',\n",
              " 'iTA0rWPE4nY_17_23',\n",
              " 'kWLNZzuo3do_217_222',\n",
              " 'RiglOfJon8I_3_18',\n",
              " '-_hbPLsZvvo_43_55',\n",
              " 'Ugb_uH72d0I_8_17',\n",
              " 'zWVQImPY2Cc_27_44',\n",
              " '0lh_UWF9ZP4_183_190',\n",
              " 'ZsrPKtx0qyg_7_15',\n",
              " 'yC4eEuURH8c_19_28',\n",
              " 'f9_bP219ehQ_63_70',\n",
              " 'nHZsE7T7hwI_13_23',\n",
              " '2YhDTpzxd3c_240_245',\n",
              " '8MVo7fje_oE_130_136',\n",
              " '9zXqkHvs0po_59_65',\n",
              " 'XdB0pVjFYoU_1_8',\n",
              " 'fMXfphSi6Yw_7_12',\n",
              " '88p7U5CnoYU_1_10',\n",
              " 'eZLxohGP4IE_147_158',\n",
              " 'btuxO-C2IzE_64_72',\n",
              " 'ywHBKayhyvQ_19_28',\n",
              " '0hyZ__3YhZc_380_384',\n",
              " 'UXs3eq68ZjE_209_214',\n",
              " '6t0BpjwYKco_15_31',\n",
              " 'SrDE9-cDz48_4_12',\n",
              " 'kWLNZzuo3do_152_164',\n",
              " 'hJFBXHtxKIc_286_291',\n",
              " '6sKdTbRkahM_6_12',\n",
              " 'ogcqFaNbah4_475_487',\n",
              " '0hyZ__3YhZc_341_348',\n",
              " '-Ms9tsWmhyU_80_95',\n",
              " 'DIebwNHGjm8_133_148',\n",
              " 'Gh4Beb8StFM_29_50',\n",
              " 'd7eGypGOlOc_13_22',\n",
              " 'CgWYN5e9K10_30_62',\n",
              " 'NVGGgncVq-4_12_20',\n",
              " 'ViWQUOGIaSU_9_16',\n",
              " 'TnPOZVHB3x0_45_55',\n",
              " 'YEmS8ZQIhTA_7_20',\n",
              " 'aeA-HN7BMdo_52_58',\n",
              " 'gtixLEvO2Us_0_6',\n",
              " '3opDcpPxllE_50_66',\n",
              " 'JktNQQnLblQ_4_9',\n",
              " 'Zg0p5TXi_Cc_30_46',\n",
              " '-wa0umYJVGg_271_276',\n",
              " 'EjAoBKagWQA_132_145',\n",
              " '_OBlgSz8sSM_15_32',\n",
              " 'pUPKsHTDZTo_70_85',\n",
              " 'XNV7hKVu-Xg_40_47',\n",
              " 'dP15zlyra3c_0_10',\n",
              " '3ytUOoa1SBE_12_23',\n",
              " 'yOnRm3TP6hM_0_12',\n",
              " 'q8t7iSGAKik_11_31',\n",
              " '8mSUD7JGNO0_174_181',\n",
              " 'izU1dDwnuMY_80_92',\n",
              " '2YhDTpzxd3c_223_232',\n",
              " 'FH8vgAp4VDU_10_14',\n",
              " '4Hhdr1IPOGs_1_10',\n",
              " 'PeUHy0A1GF0_74_77',\n",
              " '0SMOK2ql7Pg_5_12',\n",
              " 'VahnQw2gTQY_203_210',\n",
              " 'qIk_Dz5XE5E_104_109',\n",
              " 'DN7jwyL1Xgg_1_19',\n",
              " 'rKF0ZW34FRk_41_54',\n",
              " 'C1MNCR1o9lU_0_7',\n",
              " '0hyZ__3YhZc_364_370',\n",
              " '6owu8Mow0_g_850_855',\n",
              " 'WAa4-cctmDk_55_70',\n",
              " 'LqPIBHAmt4E_22_30',\n",
              " 'BR4yQFZK9YM_101_110',\n",
              " 'qew09qQgMAg_22_27',\n",
              " 'nlU3crMsbWI_19_23',\n",
              " 'UXs3eq68ZjE_313_318',\n",
              " '1dYpcVv6n3Y_0_18',\n",
              " 'EPXsiQw9vvo_1_12',\n",
              " 'JIKaIriiK8w_0_15',\n",
              " 'YmXCfQm0_CA_50_57',\n",
              " 'tYh4iDFgmEE_50_54',\n",
              " 'cSDkshD2ME0_11_14',\n",
              " '0lh_UWF9ZP4_165_170',\n",
              " 'ACOmKiJDkA4_130_144',\n",
              " '-pUwIypksfE_13_23',\n",
              " 'v7NpKUVqjpI_23_40',\n",
              " 'gbW9f8xydks_0_10',\n",
              " 'OE6H_M52Sng_89_97',\n",
              " 'e996zZ0uV_A_152_163',\n",
              " 'lB1UPJ4leqs_1_6',\n",
              " 'PAN5IVvMlVc_17_23',\n",
              " 'l5JJ2n2ggiQ_319_327',\n",
              " 'HJHPB_Y8GZE_22_28',\n",
              " '-_hbPLsZvvo_18_25',\n",
              " 'wsj_dzz33Ko_31_41',\n",
              " '05gNigkqfNU_11_23',\n",
              " 'XzCcRzEa83U_1_8',\n",
              " 'W20Btaww6zc_134_139',\n",
              " 'Rm-RnxN4oHA_215_225',\n",
              " '0hyZ__3YhZc_632_637',\n",
              " '6r5DmFa5ZR8_51_58',\n",
              " '1qV4wfjTYIo_151_164',\n",
              " 'WTf5EgVY5uU_108_116',\n",
              " 'u4kMN1jamdM_10_20',\n",
              " 'Xxcv5jvRmcg_39_46',\n",
              " 'HYbEf-JKZnA_13_26',\n",
              " 'ITNh8tWZPOA_5_25',\n",
              " 'Kxa0mnDj0bs_15_20',\n",
              " 'SFFfhAUEoj0_10_16',\n",
              " 'D1tTBncIsm8_841_848',\n",
              " 'O9cOSO9L8Zs_1_16',\n",
              " 'e-j59PqJjSM_163_173',\n",
              " 'uO7Eysrs8_k_106_114',\n",
              " 'zH4v_DClIoc_3_28',\n",
              " 'xfRIRSWy0y0_10_20',\n",
              " 'UJKythlXAIY_17_21',\n",
              " '5fDBl1wT2Lk_34_39',\n",
              " '0vmoZEaN_-o_4_12',\n",
              " '5fq9iIxxA1s_12_27',\n",
              " 'gHyXstpe_N8_140_150',\n",
              " 'Tm1HjqK0ABg_9_15',\n",
              " '6owu8Mow0_g_692_697',\n",
              " '8yoUaH6wGLs_22_30',\n",
              " 'xTd_IdIcB4s_2_10',\n",
              " 'io2dbV-Qbus_215_247',\n",
              " 'muI1BFsdbdo_33_45',\n",
              " 's80J2dAUUyI_33_43',\n",
              " 'elQqQfux7Po_12_22',\n",
              " '-_hbPLsZvvo_49_55',\n",
              " 'E61HNXjgyqA_22_32',\n",
              " 'LQ-jv8g1YVI_1_6',\n",
              " 'UXs3eq68ZjE_498_504',\n",
              " 'D1tTBncIsm8_248_254',\n",
              " '-wa0umYJVGg_23_41',\n",
              " 'qzQzooI4BqU_5_15',\n",
              " 'KPPCwmU5OHQ_227_238',\n",
              " 'IhwPQL9dFYc_171_175',\n",
              " '3_51FhosiVY_93_101',\n",
              " 's_ldnx8_etY_32_54',\n",
              " 'PeUHy0A1GF0_78_85',\n",
              " 'HkuOqWzXYVg_0_12',\n",
              " 'WTx-K045yQM_85_98',\n",
              " 'MPuKVz3sjBA_1_12',\n",
              " 'ItFqogTmAvQ_389_395',\n",
              " 'UqBafx3iRKw_22_29',\n",
              " 'lc9bA-hvqHU_1_6',\n",
              " 'm1NR0uNNs5Y_88_94',\n",
              " 'IY1Fn796MoY_7_10',\n",
              " 'xxHx6s_DbUo_240_248',\n",
              " 'cs33MNhpRNw_16_21',\n",
              " 'D9I1Z6O_mbw_112_119',\n",
              " '6t0BpjwYKco_105_110',\n",
              " '1hPxGmTGarM_9_19',\n",
              " 'nohvigNMsbo_199_207',\n",
              " 'UbmZAe5u5FI_36_40',\n",
              " 'q-JHcsqJXWY_0_8',\n",
              " 'yg4aNiO1JnI_111_114',\n",
              " 'o_mWZWcm2r4_10_15',\n",
              " 'ZbtpcGi2DWY_56_62',\n",
              " '6t0BpjwYKco_217_229',\n",
              " '8NFoN0K3bPg_20_28',\n",
              " 'ao-9B8IV9_E_108_119',\n",
              " 'rV5VmhY3-Sw_65_76',\n",
              " 'SzEbtbNSg04_214_224',\n",
              " 'EBWPZIjtnTM_1_6',\n",
              " 'BOLKaQeB6j0_101_111',\n",
              " 'FWzsXeXCwuc_106_110',\n",
              " 'fr9H1WLcF1A_256_261',\n",
              " '-vg3vR86fu0_1_6',\n",
              " '4yYapi-5QYQ_33_57',\n",
              " 'suj4VNfZz5E_33_50',\n",
              " 'PHDmVhShE80_82_86',\n",
              " '2YhDTpzxd3c_166_170',\n",
              " 'WTf5EgVY5uU_54_58',\n",
              " 't3VPeyYL-fI_35_39',\n",
              " 'ItFqogTmAvQ_48_52',\n",
              " '-wa0umYJVGg_139_157',\n",
              " 'jdAbpLooDgM_10_15',\n",
              " 'OaBmAg6gz30_4_18',\n",
              " 'qqYysi3qotc_148_195',\n",
              " 'SzEbtbNSg04_88_93',\n",
              " 'MF88IYF2MHY_25_59',\n",
              " '4Tn5S48sCwg_110_118',\n",
              " 'Yh2N6ZtRBdU_110_120',\n",
              " '77iDIp40m9E_119_123',\n",
              " '27mxaePkYB4_8_14',\n",
              " 'Uc63MFVwfrs_355_372',\n",
              " 'fkONJEgTNJY_25_35',\n",
              " 'c75SIlAjfjg_6_14',\n",
              " 'o4pL7FObqds_243_263',\n",
              " 'SaYwh6chmiw_15_40',\n",
              " 'kquB3rIgfGk_537_544',\n",
              " 'm1NR0uNNs5Y_160_166',\n",
              " '6Q3ltyPJJMQ_67_72',\n",
              " 'm1NR0uNNs5Y_73_78',\n",
              " 'WTf5EgVY5uU_98_104',\n",
              " 'rw9h_574HxE_161_166',\n",
              " 'ub-aYLzCF_Q_1_10',\n",
              " 'Uc63MFVwfrs_360_372',\n",
              " 'sBjr8UJOpsQ_149_169',\n",
              " 'buJ5HDCinrM_150_166',\n",
              " 'vub04F8CWng_32_41',\n",
              " 'TdYN7cePiRI_6_13',\n",
              " 'qeKX-N1nKiM_123_130',\n",
              " 'R8FDJgVW3Vc_0_4',\n",
              " '0lh_UWF9ZP4_148_155',\n",
              " '9Wr48VFhZH8_45_50',\n",
              " 'mYzajpeAWuA_100_112',\n",
              " 'uB9zRlV47qA_17_23',\n",
              " 'vMoOpQQy6sI_22_55',\n",
              " '_QJbjKkfdcs_52_57',\n",
              " '77iDIp40m9E_159_181',\n",
              " 'm1c04pCYGxA_57_64',\n",
              " '2F9jX7u5nOg_114_130',\n",
              " 'ptHkvYrH9fY_2_10',\n",
              " 'h0JvF9vpqx8_213_223',\n",
              " '_txL575S_OA_13_23',\n",
              " '2YhDTpzxd3c_22_27',\n",
              " 'cJOZp2ZftCw_1_12',\n",
              " 'Vn0Xv0fb1z4_18_30',\n",
              " 'sTMlQSbAGfE_0_12',\n",
              " 'ACOmKiJDkA4_121_128',\n",
              " 'hoinj6vyQ2g_8_16',\n",
              " 'kWLNZzuo3do_38_47',\n",
              " 'NNYLo1OeZ-Q_48_54',\n",
              " 'WTf5EgVY5uU_100_104',\n",
              " 'ngHDYzhDBk4_24_29',\n",
              " 'e-sf-hyrkTs_20_35',\n",
              " 'bQJQGoJF7_k_109_115',\n",
              " 'kWLNZzuo3do_222_227',\n",
              " 'wn9rDTZj-m4_8_18',\n",
              " 'CquJjlNuotg_147_155',\n",
              " 'wgrrQwLdME8_66_74',\n",
              " '6t0BpjwYKco_53_59',\n",
              " 'KIEWo_xJ5nU_0_7',\n",
              " '9WpJxn-2h1o_122_150',\n",
              " 'ZL7P_XmSnEY_205_209',\n",
              " 'b-d-CxHaKGU_10_30',\n",
              " 'v_tGw5gwlEw_136_152',\n",
              " 'IhwPQL9dFYc_137_143',\n",
              " 'nZSFn51l3hc_480_485',\n",
              " '1N_Ic2pBM1o_2_23',\n",
              " 'FTh5zPk34bQ_16_30',\n",
              " 'sMscRb9TcQE_146_161',\n",
              " '0lh_UWF9ZP4_199_207',\n",
              " 'WTf5EgVY5uU_218_236',\n",
              " '_sJ_09Mf1HY_49_72',\n",
              " 'WG0J2B19ZT8_1_33',\n",
              " 'E4k0Aylzdyo_97_104',\n",
              " 'ljGcQocjSs4_38_60',\n",
              " 'eZLxohGP4IE_15_25',\n",
              " 'PCXHuseKwDc_17_20',\n",
              " 'kNHivduxQWg_0_14',\n",
              " 'fnpp8v9NbmY_181_188',\n",
              " 'sBjr8UJOpsQ_181_195',\n",
              " 'O2qiPS2NCeY_2_18',\n",
              " 'fY0lZTWlBAg_470_485',\n",
              " 'qhknaG9ifbs_122_127',\n",
              " 'kRNHJSc4AXE_220_228',\n",
              " 'PJnJMp2ZpbA_3_15',\n",
              " 'kWLNZzuo3do_86_93',\n",
              " '80D0ylOqPJ8_0_5',\n",
              " 'hM3jzlyNIpc_0_10',\n",
              " 'BvHnDAsMtUA_0_13',\n",
              " 'xOQn1z_oWDY_30_39',\n",
              " '7d1d2WlEnKs_0_12',\n",
              " 'GMuijLIJH-U_1_10',\n",
              " 'bmOy6p87TWI_26_35',\n",
              " '30GeJHYoerk_80_85',\n",
              " 'Lyp7MiaCXNE_114_120',\n",
              " 'JXSkYkiKO0I_42_46',\n",
              " '7EOqi_6rnkg_36_44',\n",
              " 'f-24IxG9ijw_25_40',\n",
              " 'j1Z890_Q3so_131_138',\n",
              " 'QGJy1K91gP4_90_100',\n",
              " 'UgUFP5baQ9Y_0_10',\n",
              " 'MrMG15y3rWU_5_13',\n",
              " 'xxHx6s_DbUo_202_207',\n",
              " 'Ow_o78zjo14_42_57',\n",
              " 'K1ZM0LSLVw8_481_487',\n",
              " 'labytsb3gfI_146_154',\n",
              " 'hReROJQpSow_24_30',\n",
              " 'a28s_wyqkyc_68_77',\n",
              " 'mCrRHP4LFmo_24_40',\n",
              " 'bK-i_FAcpoY_86_92',\n",
              " 'VahnQw2gTQY_315_320',\n",
              " 'm1NR0uNNs5Y_224_230',\n",
              " 'YUlG_PKzpvc_0_8',\n",
              " '0hyZ__3YhZc_485_490',\n",
              " '-AwoiGR6c8M_10_14',\n",
              " 'M4It3DrhbE0_13_22',\n",
              " 'PslVHtXc7Tg_8_14',\n",
              " 'j4dMnAPZu70_12_17',\n",
              " '0bSz70pYAP0_5_15',\n",
              " 'sm0OYD0NSbQ_51_59',\n",
              " 'WTf5EgVY5uU_76_83',\n",
              " '-DRy7rBg0IQ_31_37',\n",
              " '0hyZ__3YhZc_352_356',\n",
              " 'PTxHJMM6hHE_0_15',\n",
              " 'EVqc7e8JCco_5_15',\n",
              " 'edqyq4Q-7uU_103_109',\n",
              " 'W_iR4YVCxUY_8_15',\n",
              " 'aHiUM8uWxxo_17_25',\n",
              " '3FnUTQMJVXI_31_36',\n",
              " 'sRKQfxxEP4M_117_125',\n",
              " 'FHwC2THZJfA_0_10',\n",
              " 'HN-ccxID8IM_3_10',\n",
              " 'XEOH3t5AYY0_22_29',\n",
              " '_WRC7HXBJpU_451_464',\n",
              " '-rvjK0lE3z4_33_43',\n",
              " '-rkErLY0rRc_63_67',\n",
              " 'cFzSEIGrEfA_0_24',\n",
              " 'QTAqjSbMkXU_65_75',\n",
              " '2YhDTpzxd3c_45_49',\n",
              " 'IhwPQL9dFYc_24_30',\n",
              " 'ghynaoVNwZc_1_20',\n",
              " 'e40bBP0_AbE_64_67',\n",
              " '05gNigkqfNU_78_84',\n",
              " 'JsmHZlUgf1w_0_21',\n",
              " '2jkExrrm_sQ_19_25',\n",
              " 'kI6MWZrl8v8_149_161',\n",
              " 'Z3m9V8qPXhQ_13_24',\n",
              " 'lKADopH3qFY_0_10',\n",
              " 'gWRRHV7DLV0_21_31',\n",
              " 'ItFqogTmAvQ_361_365',\n",
              " 'q-a6NEotUX8_5_10',\n",
              " '0hyZ__3YhZc_562_568',\n",
              " 'F44bLc6t7-I_1_8',\n",
              " '_KMoC6ZdeXs_10_16',\n",
              " '-joBOHlg5J0_72_80',\n",
              " 'BVjvRpmHg0w_157_165',\n",
              " '6owu8Mow0_g_302_307',\n",
              " '5zkCnHUnoYY_69_74',\n",
              " 'MdOAr_4FJvc_5_15',\n",
              " 'TwQzFqBqgeA_0_10',\n",
              " 'WTf5EgVY5uU_58_76',\n",
              " 'msCidKHOh74_410_418',\n",
              " 'Ce7equ9zCxk_4_19',\n",
              " '-FugkxLmGO4_5_16',\n",
              " '3n_Kqak2JdA_48_71',\n",
              " 'YmXCfQm0_CA_109_120',\n",
              " 'fr9H1WLcF1A_141_148',\n",
              " 'tqxRDVKtkSY_30_45',\n",
              " 'WPG-BIWOrG4_755_761',\n",
              " 'yyxtyCaEVqk_329_360',\n",
              " 'bQJQGoJF7_k_145_153',\n",
              " 'LyYJiKxHZz0_0_10',\n",
              " '60x_yxy7Sfw_1_7',\n",
              " 'ywMLb2VfHbI_13_20',\n",
              " 'clpgffj3sUw_1_12',\n",
              " '_WRC7HXBJpU_414_425',\n",
              " 'WrsS6X-FB-I_30_47',\n",
              " 't8Nf1MK7lts_0_10',\n",
              " 'aQWCKcg0VRU_321_339',\n",
              " 'TsagxA4DKuc_28_41',\n",
              " 'D1tTBncIsm8_681_688',\n",
              " 'GopEjCCu2jo_2_9',\n",
              " 'ht2oIYBSoI0_9_21',\n",
              " 'bb6V0Grtub4_174_185',\n",
              " 'VuCFgiWfVF4_0_6',\n",
              " 'w9mqbwOIkVg_6_12',\n",
              " 'IiTzJQE67FA_36_46',\n",
              " 'AjZ-R3LFMzo_18_23',\n",
              " 'YndZ9YulpTo_61_76',\n",
              " '4wT7zM8XgXQ_5_11',\n",
              " 'vulNlhUI6m0_7_27',\n",
              " 't4aPGtx7e6k_0_10',\n",
              " '_O9kWD8nuRU_16_23',\n",
              " 'fMFvOgb4k6E_35_43',\n",
              " 'mbesJaS6vwg_187_195',\n",
              " 'OfgSCMxttCc_86_92',\n",
              " 'W8l_ezoU8Lc_76_86',\n",
              " 'ao-9B8IV9_E_217_221',\n",
              " 'xaPepCVepCg_35_46',\n",
              " 'XtQdAPV2UZs_4_11',\n",
              " 'GcfWD62sbcs_13_33',\n",
              " 'YRSOc193Pxc_68_73',\n",
              " 'f_CvW22Eauc_16_23',\n",
              " 'y8SDRc4IOjs_94_99',\n",
              " 'uy0HNWto0UY_18_25',\n",
              " 'ao-9B8IV9_E_87_95',\n",
              " 'JXSkYkiKO0I_112_116',\n",
              " 'hPyU5KjpWVc_0_35',\n",
              " 'QqYWLR47eLI_10_18',\n",
              " 'UbmZAe5u5FI_44_55',\n",
              " 'xSmfK498DjI_1_20',\n",
              " '5U3xz9Ovmhk_99_105',\n",
              " '0ONJfp95yoE_1_10',\n",
              " 'nZSFn51l3hc_660_666',\n",
              " 'bSrpvMSuhPM_17_31',\n",
              " '-_hbPLsZvvo_5_8',\n",
              " 'fX5G_JwPlLo_640_660',\n",
              " 'eZLxohGP4IE_190_201',\n",
              " 'zr9OeyfLPPY_4_9',\n",
              " 'xEDCfcMZlZY_37_41',\n",
              " 'k4hhWYtaQ14_0_10',\n",
              " 'UbmZAe5u5FI_111_115',\n",
              " 'rwHT2SuNOi8_195_201',\n",
              " 'hXn7D6-AAMA_0_9',\n",
              " 'ZdNP0dXCx2I_78_90',\n",
              " 'g2IYQq7IkXc_124_132',\n",
              " '4_WZN7uW0NY_140_145',\n",
              " 'qvg9eM4Hmzk_1_9',\n",
              " '0hyZ__3YhZc_575_580',\n",
              " 'DKZg4kIEa0A_31_36',\n",
              " 'oSnYUfCGiCA_7_17',\n",
              " 'OBLIjdMIIt8_54_61',\n",
              " 'tYh4iDFgmEE_10_14',\n",
              " '4yf2WP6K1gQ_28_32',\n",
              " 'UbmZAe5u5FI_101_110',\n",
              " 'QVSt5USMkMg_43_50',\n",
              " 'qeKX-N1nKiM_52_59',\n",
              " '-_hbPLsZvvo_19_25',\n",
              " 'onW5hJXnI5s_126_133',\n",
              " 'qDjtN7xxNr4_44_51',\n",
              " 'OCcy9TDRGKo_41_51',\n",
              " '-uT_1VDvXok_8_15',\n",
              " '8MVo7fje_oE_108_113',\n",
              " '8MVo7fje_oE_139_144',\n",
              " 'fVWUaH2mCt4_1_7',\n",
              " 'onxE6PpEXes_8_25',\n",
              " 'lm0z7eLsbbw_9_23',\n",
              " '-t-ZWaJeH-o_0_15',\n",
              " 'WTf5EgVY5uU_94_98',\n",
              " 'NVGGgncVq-4_111_117',\n",
              " 'e996zZ0uV_A_68_72',\n",
              " '4cgzdXlJksU_83_90',\n",
              " 'xgIIcPSh4EU_0_6',\n",
              " 'XzCcRzEa83U_39_46',\n",
              " '5XxshEdcfAM_96_107',\n",
              " '_O9kWD8nuRU_45_49',\n",
              " '77iDIp40m9E_3_9',\n",
              " 'jlahRlo4jlU_30_36',\n",
              " '-vKO3uSG6Do_3_14',\n",
              " 'jcRCn7MeSbo_71_82',\n",
              " 'r2PM0om2El8_18_25',\n",
              " 'qeKX-N1nKiM_106_115',\n",
              " '1dfR0A_BXjw_545_560',\n",
              " 'wX-Bl25Htag_104_115',\n",
              " '9Q0JfdP36kI_23_28',\n",
              " 'v-9Gx0gJmfo_91_99',\n",
              " '5XxshEdcfAM_85_100',\n",
              " 'jLgmCY1fEE8_16_26',\n",
              " '25NmudB2fqg_0_7',\n",
              " '4UOVKok7j1U_1_8',\n",
              " 'UbmZAe5u5FI_88_98',\n",
              " 'UxhKb-zZoWE_0_15',\n",
              " 'JIoiUNOXGaI_8_13',\n",
              " 'MWvCcwTw7Ac_78_86',\n",
              " 'aDjNl5gs4nM_18_47',\n",
              " 'x1i0UOssll8_141_151',\n",
              " '9BScZRpF7SI_31_36',\n",
              " '2HpZvL-_fiY_40_44',\n",
              " 'nULE40HEWpA_5_11',\n",
              " 'l57mQZvDaL4_10_30',\n",
              " 'yPNFVj-pISU_105_115',\n",
              " 'C12BRGGcd5E_101_117',\n",
              " '0piwbTivpDg_10_40',\n",
              " 'AzMrltkXGJk_0_10',\n",
              " '0RWJEOScToE_414_421',\n",
              " '9LSuyLyuUiM_3_6',\n",
              " 'UgUFP5baQ9Y_0_7',\n",
              " 'uxEhH6MPH28_69_85',\n",
              " 's7znbqra118_91_97',\n",
              " '0hyZ__3YhZc_418_424',\n",
              " '88DOMJ11q2M_34_43',\n",
              " '4D1o4FC8YbA_207_216',\n",
              " '-zOrV-5vh1A_69_76',\n",
              " 'Q6HuQEIJqcA_9_16',\n",
              " 's8utHZYTNTs_35_42',\n",
              " 'SULWQEAErKw_13_26',\n",
              " 'ngHDYzhDBk4_5_14',\n",
              " 'Ms3QdGIzltU_1_16',\n",
              " '6t0BpjwYKco_179_183',\n",
              " 'L6dEUQ6WiHY_136_142',\n",
              " 'eoP-SCgYM2w_49_60',\n",
              " 'FxIuFwMhOu8_18_26',\n",
              " 'e-j59PqJjSM_264_277',\n",
              " 'HkpUWzNNVt4_20_30',\n",
              " 'm1NR0uNNs5Y_123_129',\n",
              " 'R0e8ojL0vcc_8_14',\n",
              " 'Ffv7fhL1EDY_177_184',\n",
              " 'SzEbtbNSg04_28_48',\n",
              " 'FavUpD_IjVY_22_26',\n",
              " 'AjZ-R3LFMzo_5_10',\n",
              " 'sWqi41wyXcQ_68_79',\n",
              " '_0nX-El-ySo_83_93',\n",
              " 'zCf8NWJ8kzA_47_52',\n",
              " 'hksxtbcS780_7_14',\n",
              " 'kWLNZzuo3do_154_165',\n",
              " '1rECrfrdNTo_200_207',\n",
              " 'hJFBXHtxKIc_163_168',\n",
              " 'VahnQw2gTQY_288_293',\n",
              " '229NvV0SRHw_0_5',\n",
              " '8PQiaurIiDM_247_255',\n",
              " '_xf24TYgbuY_14_20',\n",
              " '8BL9qmFRbd4_6_13',\n",
              " 'NV6pq1W-I4g_7_16',\n",
              " 'kSzS_lFtJDk_55_70',\n",
              " '-_hbPLsZvvo_211_219',\n",
              " 'ggic669elLM_200_215',\n",
              " 'fGc6_D0JEIQ_31_46',\n",
              " 'Qwn0Ni9G5ow_64_69',\n",
              " 'zMg9dChF97A_12_38',\n",
              " '62I8I4sCPPQ_12_30',\n",
              " 'bmxIurBrW5s_51_70',\n",
              " 'dZBIdRGKRhM_13_32',\n",
              " 'oDcd2JbOyzg_85_98',\n",
              " 'YwmUgVrUJ4I_0_15',\n",
              " '4t5POXt2e68_5_11',\n",
              " 'c_XV7nPoRg8_2_12',\n",
              " 'nb12bAaKzvA_0_10',\n",
              " 'NjblUomxFQo_100_108',\n",
              " '0lh_UWF9ZP4_38_46',\n",
              " 'Els1Cclg_sk_4_15',\n",
              " 'hJFBXHtxKIc_310_315',\n",
              " '0M-PyX2DbZc_25_31',\n",
              " '2I20ZTFHheg_96_104',\n",
              " 'klFyrnrUSck_42_46',\n",
              " 'BVjvRpmHg0w_231_250',\n",
              " 'yId1rg5-ac0_40_50',\n",
              " 'ACK7SekJWts_140_150',\n",
              " 'zHy7pM0U49w_103_109',\n",
              " '4ikH9ZRcF2Q_89_105',\n",
              " 'JAFGw0WRHHU_108_116',\n",
              " 'Td29-SApubM_48_57',\n",
              " 'z2kUc8wp9l8_40_46',\n",
              " 'CTIKmoEigCI_3_30',\n",
              " 'tmAX2PnRCY0_284_292',\n",
              " 'wNv74rvkAw8_30_40',\n",
              " 'me1D1WZ0yNM_120_124',\n",
              " '6gQu8PWhFoQ_30_35',\n",
              " 'IpHJffM3G1c_412_418',\n",
              " 'P6eo3LULuuc_1_11',\n",
              " '9Q0JfdP36kI_167_170',\n",
              " 'aeA-HN7BMdo_34_41',\n",
              " 'x_7BrCQdVUs_172_177',\n",
              " 'ZYaxg5NZW_g_21_27',\n",
              " 'MW21lp833Vo_8_16',\n",
              " '2MCpA01Sn_c_75_82',\n",
              " 'nCtZFOYAlvQ_44_49',\n",
              " 'ok4cM6WTA5E_142_150',\n",
              " '-YI0cxuNcq8_262_272',\n",
              " 'uH8ObB_dyOk_159_166',\n",
              " 'D1tTBncIsm8_725_740',\n",
              " '5CU2JhYM8tY_14_45',\n",
              " 'O_Pst-uryQI_1_14',\n",
              " 'vE1gvaM3iAs_39_46',\n",
              " 'kquB3rIgfGk_197_202',\n",
              " 'HPFLN5azwtA_56_63',\n",
              " 'YmXCfQm0_CA_140_156',\n",
              " '1qU-kF-km1Q_6_16',\n",
              " 'iwpnUHFhjWc_84_94',\n",
              " 'yYA7YXIKbg4_9_14',\n",
              " 'WEJfT-oB4v4_20_35',\n",
              " 'kBjUDCyDCuI_20_26',\n",
              " '3mbBbFH9fAg_21_29',\n",
              " 'J4otiwOjQy8_98_112',\n",
              " '-rkErLY0rRc_26_35',\n",
              " 'HzYtvOYOEoU_21_32',\n",
              " 'MJNStEgDKXU_3_10',\n",
              " 'ficwZQYmRLE_5_20',\n",
              " 'kEGmZDpZ_RE_295_330',\n",
              " 'P4IjNV3lZkQ_136_144',\n",
              " 'BIqVvRh_cEY_143_149',\n",
              " 'qeKX-N1nKiM_68_72',\n",
              " 'VahnQw2gTQY_274_280',\n",
              " 'JnNe61UZsdM_42_51',\n",
              " 'zuYZ5kPatJE_78_116',\n",
              " 'm1NR0uNNs5Y_273_280',\n",
              " 'hxZ-5wELSJM_0_12',\n",
              " 'lfGlDg47How_93_98',\n",
              " '504gE1DA_4g_1_6',\n",
              " 'BGG0uYWZBdw_6_12',\n",
              " 'z_qf7tOnHVg_81_89',\n",
              " '-bjOB4zS0uE_100_105',\n",
              " 'Ylb4pnW-jP4_102_113',\n",
              " '98Alrg4pFXs_148_153',\n",
              " 'ZdlG8fjGJlo_78_87',\n",
              " 'VZ6H73nH7xs_27_33',\n",
              " 'k8l4ETsylVY_9_18',\n",
              " 'pfQPRXcihkI_127_138',\n",
              " 'gtIz1u8g1F0_3_13',\n",
              " 'GnwKcpfr_ng_47_57',\n",
              " 'NMlKMfiHSho_1_15',\n",
              " 'GPyFZMJ5Dow_56_70',\n",
              " 'HZqscSWtHmo_24_34',\n",
              " '8jP8CC2rKj4_80_88',\n",
              " 'gnEE6oWoz7U_124_132',\n",
              " 'wLUH7qA_6sA_90_115',\n",
              " 'c51L6ZxZGjQ_137_154',\n",
              " 'OpR1Er5o6IY_209_217',\n",
              " 'a0g7wtBkS98_34_42',\n",
              " 'ao-9B8IV9_E_77_81',\n",
              " 'EwTZ2xpQwpA_14_21',\n",
              " '2jXxtQRy47A_30_38',\n",
              " 'LYSPQqUvNO0_43_57',\n",
              " '4MjTb5A68VA_111_118',\n",
              " 'fr9H1WLcF1A_326_336',\n",
              " 'B4foOe9kUgY_0_8',\n",
              " '81fABEiwcIM_31_45',\n",
              " '8CzlhZtunNc_5_11',\n",
              " 'RX6NSOuCCAE_13_27',\n",
              " 'DGQL5lx-mwE_2_12',\n",
              " 'ok4cM6WTA5E_120_133',\n",
              " 'wpUT0DNB3qs_9_19',\n",
              " 'qypmR4O1Gwk_0_10',\n",
              " '4PcL6-mjRNk_47_55',\n",
              " '0lh_UWF9ZP4_191_197',\n",
              " '7OGizkf_JEo_191_194',\n",
              " 'dtn0PuxgfkM_0_5',\n",
              " 'WTf5EgVY5uU_121_135',\n",
              " '1dfR0A_BXjw_590_600',\n",
              " 'kquB3rIgfGk_640_645',\n",
              " 'lFdg5CWMTt0_24_28',\n",
              " 'EPgQ9QwbsLE_16_23',\n",
              " '4R-tumAGrtU_12_22',\n",
              " 'qNjeEx92rTA_281_299',\n",
              " '9xVqwy_4pmQ_36_49',\n",
              " 'nBFhvrAOFqY_89_103',\n",
              " 'pDvzOLRLjPc_0_8',\n",
              " 'VLBsAPZ2DDE_34_41',\n",
              " 'Z3XarHZ3HpY_10_17',\n",
              " 'ACOmKiJDkA4_175_182',\n",
              " '-_hbPLsZvvo_269_275',\n",
              " 'uiLr9bdOL0M_23_30',\n",
              " 'MY-rGamtAJc_6_22',\n",
              " 'JYNzY9jmsQQ_2_10',\n",
              " 'BVy9SQI5R68_0_7',\n",
              " 'Qp-k0H93iJE_35_39',\n",
              " 'r2oI9Y-3wAo_21_28',\n",
              " '0hyZ__3YhZc_289_295',\n",
              " 'PeUHy0A1GF0_122_127',\n",
              " 'Li3umATsU0E_1_5',\n",
              " 'gqSOvUH_njE_151_155',\n",
              " 'FOOM-wA2rOY_77_86',\n",
              " 'WPG-BIWOrG4_635_640',\n",
              " 'qeKX-N1nKiM_133_142',\n",
              " 'inLBPVG8oEU_18_24',\n",
              " 'kWLNZzuo3do_48_53',\n",
              " 'Vg1jyL3cr60_163_186',\n",
              " 'puineN1UMto_25_29',\n",
              " '0lh_UWF9ZP4_178_182',\n",
              " '9d57lHEsLU8_1_14',\n",
              " 'Gm1WnWVXYzQ_0_9',\n",
              " 'EKL6elkbFy0_16_30',\n",
              " 'nc8hwLaOyZU_1_19',\n",
              " 'gGDtPJzh_0s_30_45',\n",
              " '45AGQSbodbU_5_15',\n",
              " '1RchFBCT9JU_43_53',\n",
              " '8MVo7fje_oE_113_118',\n",
              " 'IhwPQL9dFYc_153_170',\n",
              " '57C93mpt6Xo_358_368',\n",
              " 'clKtfGBVI1I_15_28',\n",
              " '0hyZ__3YhZc_598_603',\n",
              " '-wa0umYJVGg_286_290',\n",
              " 'kWLNZzuo3do_25_32',\n",
              " 'MWzeInQaUk4_12_20',\n",
              " 'n6U-TGahwvs_100_110',\n",
              " 'gjVBEJGHrXk_26_38',\n",
              " 'tn1d5DmdMqY_15_28',\n",
              " 'YS1mzzhmWWA_9_16',\n",
              " 'tYQ7O6V0Fvk_20_55',\n",
              " 'ETUJipdnfOM_0_5',\n",
              " 'POv7JaE3vJ8_40_50',\n",
              " 'ACOmKiJDkA4_161_170',\n",
              " 'ACOmKiJDkA4_146_153',\n",
              " 'z1PEyzk4ADU_8_18',\n",
              " 'iCiGjZEV7VI_65_75',\n",
              " 'eroAmLZ85DI_28_35',\n",
              " 'hJFBXHtxKIc_225_230',\n",
              " '1kYWws89W3Y_0_5',\n",
              " 'z9qbQX4J_2g_0_14',\n",
              " 'Je3V7U5Ctj4_558_563',\n",
              " 'wSwwS_0MKEc_68_78',\n",
              " 'xXlWsBhFvis_6_10',\n",
              " 'x_8RiVI6rH8_41_54',\n",
              " 'pQYEZTwSVbQ_12_18',\n",
              " 'KqKUXRHHkCc_101_105',\n",
              " 'UXs3eq68ZjE_255_260',\n",
              " 'W6_XuNhgtrM_2_5',\n",
              " 'b97TK8XVLHE_40_50',\n",
              " 'nq4hG6qgyPs_240_251',\n",
              " 'PeUHy0A1GF0_62_66',\n",
              " 'Qjbcibrv3L0_26_32',\n",
              " 'yNy9jTeolUk_8_12',\n",
              " 'Hu9Sq1RvuoA_19_62',\n",
              " '6t0BpjwYKco_59_69',\n",
              " 'PBHZtoygOYg_450_465',\n",
              " 'bxjFqtfJlMs_18_27',\n",
              " 'auFXfsCzAvQ_1_15',\n",
              " 'g9aZcaEg7iY_0_9',\n",
              " 'kWLNZzuo3do_192_196',\n",
              " 'jsEUFYhiqxU_121_128',\n",
              " 'p69Q8lTkZTc_21_29',\n",
              " 'E6sqA9QtV5I_195_201',\n",
              " '6ZhKOK08tgM_225_233',\n",
              " 'C9LHk0AJI7U_196_205',\n",
              " '-wa0umYJVGg_117_123',\n",
              " '9gbUM9oHBNI_557_563',\n",
              " 'X56XkGFe7OY_47_61',\n",
              " 'W8_63NiTENw_23_30',\n",
              " 'rw9h_574HxE_13_18',\n",
              " 'xy9LLUUZ6ic_50_60',\n",
              " 'Sj6GSmDpNDw_0_12',\n",
              " 'f_GnkweYzzI_35_41',\n",
              " '_9iG5Ge01PM_3_11',\n",
              " 'WTf5EgVY5uU_18_23',\n",
              " 'klFyrnrUSck_25_36',\n",
              " 'LwvyrDxM2G0_0_11',\n",
              " 'u9E9HpuJQ7U_29_43',\n",
              " 'Kxa0mnDj0bs_113_124',\n",
              " 'swJ0zhVJ8DU_15_21',\n",
              " '6t0BpjwYKco_118_127',\n",
              " '9LHg5RUGukI_58_63',\n",
              " '2LgrGHWSy6k_122_135',\n",
              " 'kWLNZzuo3do_76_80',\n",
              " 'VU4qLrk5axA_40_58',\n",
              " '39Ce7I6nXIw_96_104',\n",
              " 'oeaVXK2GAyc_4_21',\n",
              " '6eokrw6_bjU_1_9',\n",
              " 'xtbsD3PUua4_84_94',\n",
              " '6t0BpjwYKco_142_151',\n",
              " 'ZnLgsasu82g_71_81',\n",
              " 'L6dEUQ6WiHY_171_186',\n",
              " 'zbAk0gX7kas_16_24',\n",
              " 'b4mJ3AQc-ag_30_34',\n",
              " 'Afmc6FeN-hM_20_24',\n",
              " 'tHLiYTS9Iz8_1_16',\n",
              " '7xNG7qGY9rw_14_29',\n",
              " 'bXsKw3TOQXs_30_55',\n",
              " 'V--abChiVVc_30_40',\n",
              " 'm1NR0uNNs5Y_104_110',\n",
              " '9Bxknsvy3jQ_53_58',\n",
              " 'AKVBK-0veE8_5_12',\n",
              " 'm1NR0uNNs5Y_57_64',\n",
              " 'ifS2nXfCyYo_4_34',\n",
              " 'C2rDp6FnbP0_10_17',\n",
              " '74tRCYS_534_49_57',\n",
              " 'H1Bok7Dg7g8_21_26',\n",
              " 'kEGmZDpZ_RE_248_293',\n",
              " 'YmXCfQm0_CA_68_75',\n",
              " 'TFJ6oR89Vb8_90_107',\n",
              " '-_hbPLsZvvo_323_328',\n",
              " 'xxHx6s_DbUo_36_40',\n",
              " 'emblM4a76jg_5_15',\n",
              " 'JMUAylpXzG0_45_62',\n",
              " 'jfrrO5K_vKM_55_65',\n",
              " '1dfR0A_BXjw_441_448',\n",
              " 'r4qv_BNlQNk_119_124',\n",
              " 'IhwPQL9dFYc_61_75',\n",
              " 'kWLNZzuo3do_251_260',\n",
              " 'OIjsSu_I4So_6_10',\n",
              " 'LLkehH86ABY_30_36',\n",
              " 'qvSxiVV7jhw_0_15',\n",
              " 'Je3V7U5Ctj4_956_961',\n",
              " 'fjDvKHkmxs0_72_87',\n",
              " 'nc0fVlaTYEs_34_44',\n",
              " 'gHyXstpe_N8_95_100',\n",
              " '6t0BpjwYKco_240_247',\n",
              " 'IhwPQL9dFYc_78_88',\n",
              " 'D1X6qXkLjYE_41_49',\n",
              " 'QsC8__3lwO0_50_60',\n",
              " 'swKrHEeOj9c_4_8',\n",
              " 'UbmZAe5u5FI_60_70',\n",
              " 'YXixZrSxefk_6_15',\n",
              " 'TIubRrkku-4_1_10',\n",
              " 'mv89psg6zh4_33_46',\n",
              " 'rw9h_574HxE_59_66',\n",
              " 'fJr2evLANsE_0_10',\n",
              " 'IytNBm8WA1c_63_67',\n",
              " 'lR8RrUBhCQg_5_15',\n",
              " 'i3cHNObcEh8_0_10',\n",
              " '4lXdVS697DQ_10_25',\n",
              " 'fEsrO_poIUg_161_168',\n",
              " 'bDoCQEwghZU_201_211',\n",
              " 'u9prcUCHlqM_235_241',\n",
              " 'hNOzHvsEmg4_31_36',\n",
              " 'jxdubZzQrio_33_46',\n",
              " 'lGk1MA6YP-M_36_48',\n",
              " 'PmrTDZy3f2M_35_39',\n",
              " 'DcDYRpa34W8_11_25',\n",
              " 'Z19zFlPah-o_6_11',\n",
              " 'kWLNZzuo3do_262_270',\n",
              " 'dfOuTx66bJU_11_14',\n",
              " 'nwk4m329bLw_2_10',\n",
              " 'TXabUVUxJqI_22_31',\n",
              " 'Ya-MkA187c8_36_45',\n",
              " 'htry5uxX0-Y_45_52',\n",
              " 'PeUHy0A1GF0_51_55',\n",
              " '7ZE2OzguWHo_28_38',\n",
              " 'crfrKqFp0Zg_15_25',\n",
              " 'kWLNZzuo3do_206_213',\n",
              " ...]"
            ]
          },
          "metadata": {
            "tags": []
          },
          "execution_count": 10
        }
      ]
    },
    {
      "cell_type": "code",
      "metadata": {
        "colab": {
          "base_uri": "https://localhost:8080/",
          "height": 36
        },
        "id": "g3E9FlHpK6v6",
        "outputId": "82ae80dc-5e96-40ba-e574-29f480082c6d"
      },
      "source": [
        "processed_videos_path = os.getcwd() + '/drive/MyDrive/video_frame_features/'\n",
        "processed_videos_path"
      ],
      "execution_count": null,
      "outputs": [
        {
          "output_type": "execute_result",
          "data": {
            "application/vnd.google.colaboratory.intrinsic+json": {
              "type": "string"
            },
            "text/plain": [
              "'/content/drive/MyDrive/video_frame_features/'"
            ]
          },
          "metadata": {
            "tags": []
          },
          "execution_count": 11
        }
      ]
    },
    {
      "cell_type": "code",
      "metadata": {
        "id": "bn4TuyEoLRNW"
      },
      "source": [
        "from os import walk\n",
        "\n",
        "_, _, processed_filenames = next(walk(processed_videos_path))"
      ],
      "execution_count": null,
      "outputs": []
    },
    {
      "cell_type": "code",
      "metadata": {
        "colab": {
          "base_uri": "https://localhost:8080/"
        },
        "id": "MCpqZT7ALXme",
        "outputId": "8d6125e1-d38f-4714-bdd9-9395bf4af13b"
      },
      "source": [
        "len(processed_filenames)"
      ],
      "execution_count": null,
      "outputs": [
        {
          "output_type": "execute_result",
          "data": {
            "text/plain": [
              "1450"
            ]
          },
          "metadata": {
            "tags": []
          },
          "execution_count": 24
        }
      ]
    },
    {
      "cell_type": "code",
      "metadata": {
        "id": "Rcw0LqFELaIo"
      },
      "source": [
        "processed_video_names = [x[:-4] for x in processed_filenames]"
      ],
      "execution_count": null,
      "outputs": []
    },
    {
      "cell_type": "code",
      "metadata": {
        "id": "kff4xDX6LuQy"
      },
      "source": [
        "unprocessed_video_names = [x for x in working_video_names if x not in processed_video_names]"
      ],
      "execution_count": null,
      "outputs": []
    },
    {
      "cell_type": "code",
      "metadata": {
        "colab": {
          "base_uri": "https://localhost:8080/"
        },
        "id": "W1tPXOC0MI2R",
        "outputId": "617a51ee-358c-47ef-e026-b07ffb37ea6f"
      },
      "source": [
        "len(unprocessed_video_names)"
      ],
      "execution_count": null,
      "outputs": [
        {
          "output_type": "execute_result",
          "data": {
            "text/plain": [
              "55"
            ]
          },
          "metadata": {
            "tags": []
          },
          "execution_count": 16
        }
      ]
    },
    {
      "cell_type": "code",
      "metadata": {
        "id": "IdYqKdzvdUHc"
      },
      "source": [
        "def extract_frames_from_video(video_name):\n",
        "    path_in = os.getcwd() + '/MLDS_hw2_data/training_data/video/' + video_name + '.avi'\n",
        "    \n",
        "    cap = cv2.VideoCapture(path_in)\n",
        "    cap.set(cv2.CAP_PROP_POS_AVI_RATIO,0)\n",
        "    frameCount = int(cap.get(cv2.CAP_PROP_FRAME_COUNT))\n",
        "    frameWidth = int(cap.get(cv2.CAP_PROP_FRAME_WIDTH))\n",
        "    frameHeight = int(cap.get(cv2.CAP_PROP_FRAME_HEIGHT))\n",
        "    videoFPS = int(cap.get(cv2.CAP_PROP_FPS))\n",
        "\n",
        "    buf = np.empty((\n",
        "        frameCount,\n",
        "        frameHeight,\n",
        "        frameWidth,\n",
        "        3), np.dtype('uint8'))\n",
        "\n",
        "    fc = 0\n",
        "    ret = True\n",
        "\n",
        "    while (fc < frameCount):\n",
        "        ret, buf[fc] = cap.read()\n",
        "        fc += 1\n",
        "\n",
        "    cap.release()\n",
        "\n",
        "    representative_frames = buf[::videoFPS, :, :, :]\n",
        "    del buf\n",
        "    del cap\n",
        "    return representative_frames"
      ],
      "execution_count": null,
      "outputs": []
    },
    {
      "cell_type": "code",
      "metadata": {
        "id": "YFj8xTEXdksW"
      },
      "source": [
        "frames = extract_frames_from_video('eZLxohGP4IE_15_25')"
      ],
      "execution_count": null,
      "outputs": []
    },
    {
      "cell_type": "code",
      "metadata": {
        "colab": {
          "base_uri": "https://localhost:8080/",
          "height": 219
        },
        "id": "8wsr48pndqCs",
        "outputId": "2db038ba-38b9-4509-ba86-00f730d5e34d"
      },
      "source": [
        "plt.imshow(frames[0], interpolation=\"nearest\")\n",
        "plt.axis(\"off\")\n",
        "plt.show()"
      ],
      "execution_count": null,
      "outputs": [
        {
          "output_type": "display_data",
          "data": {
            "image/png": "[encoded data removed]",
            "text/plain": [
              "<Figure size 432x288 with 1 Axes>"
            ]
          },
          "metadata": {
            "tags": [],
            "needs_background": "light"
          }
        }
      ]
    },
    {
      "cell_type": "code",
      "metadata": {
        "id": "0vNT_23xeGOw"
      },
      "source": [
        "m = tf.keras.Sequential([\n",
        "    hub.KerasLayer(\"https://tfhub.dev/tensorflow/efficientnet/b7/feature-vector/1\",\n",
        "                   trainable=False),  # Can be True, see below.\n",
        "])"
      ],
      "execution_count": null,
      "outputs": []
    },
    {
      "cell_type": "code",
      "metadata": {
        "id": "UEO3ZzSHfGJK"
      },
      "source": [
        "m.build([None, 600, 600, 3])  # Batch input shape."
      ],
      "execution_count": null,
      "outputs": []
    },
    {
      "cell_type": "code",
      "metadata": {
        "id": "Jjn_r_nGfVj0"
      },
      "source": [
        "def extract_features_from_video_frames(video_name):\n",
        "    representative_frames = extract_frames_from_video(video_name)\n",
        "    representative_frames = representative_frames / 255\n",
        "    resized_frames = tf.image.resize_with_crop_or_pad(representative_frames, 600, 600)\n",
        "    frames_features = m.predict(resized_frames)\n",
        "    return frames_features"
      ],
      "execution_count": null,
      "outputs": []
    },
    {
      "cell_type": "code",
      "metadata": {
        "id": "89A4sakIfcfn"
      },
      "source": [
        "features = extract_features_from_video_frames(working_video_names[0])"
      ],
      "execution_count": null,
      "outputs": []
    },
    {
      "cell_type": "code",
      "metadata": {
        "colab": {
          "base_uri": "https://localhost:8080/"
        },
        "id": "8ZchH_Hnfeyk",
        "outputId": "fa37a262-4908-4477-ed9c-71023d7df54f"
      },
      "source": [
        "features.shape"
      ],
      "execution_count": null,
      "outputs": [
        {
          "output_type": "execute_result",
          "data": {
            "text/plain": [
              "(15, 2560)"
            ]
          },
          "metadata": {
            "tags": []
          },
          "execution_count": 22
        }
      ]
    },
    {
      "cell_type": "code",
      "metadata": {
        "id": "vM4Skg9-fsAR"
      },
      "source": [
        "features_path = os.getcwd() + '/drive/MyDrive/video_frame_features/'\n",
        "np.save(features_path + working_video_names[0], features)"
      ],
      "execution_count": null,
      "outputs": []
    },
    {
      "cell_type": "code",
      "metadata": {
        "id": "GaMHxYTZf0BS"
      },
      "source": [
        "def save_features_from_video_frames(video_name):\n",
        "    representative_frames = extract_frames_from_video(video_name)\n",
        "    representative_frames = representative_frames / 255\n",
        "    resized_frames = tf.image.resize_with_crop_or_pad(representative_frames, 600, 600)\n",
        "    frames_features = m.predict(resized_frames)\n",
        "    \n",
        "    features_path = os.getcwd() + '/drive/MyDrive/video_frame_features/'\n",
        "    np.save(features_path + video_name, frames_features)"
      ],
      "execution_count": null,
      "outputs": []
    },
    {
      "cell_type": "code",
      "metadata": {
        "id": "efiaV-8ogFhA"
      },
      "source": [
        "from tqdm import tqdm"
      ],
      "execution_count": null,
      "outputs": []
    },
    {
      "cell_type": "code",
      "metadata": {
        "colab": {
          "base_uri": "https://localhost:8080/"
        },
        "id": "q280GUbcgHiw",
        "outputId": "f5b66a72-5807-4018-e873-bc2ccb8ae232"
      },
      "source": [
        "for i in tqdm(range(len(working_video_names))):\n",
        "    save_features_from_video_frames(working_video_names[i])"
      ],
      "execution_count": null,
      "outputs": [
        {
          "output_type": "stream",
          "text": [
            " 34%|███▍      | 500/1450 [12:35<13:28,  1.18it/s]"
          ],
          "name": "stderr"
        }
      ]
    },
    {
      "cell_type": "code",
      "metadata": {
        "colab": {
          "base_uri": "https://localhost:8080/"
        },
        "id": "ALleT6gpMoxN",
        "outputId": "a2a4fed9-95ce-4099-e1b7-a187b0614edf"
      },
      "source": [
        "# in case extraction was interrupted midway\n",
        "for i in tqdm(range(len(unprocessed_video_names))):\n",
        "    save_features_from_video_frames(unprocessed_video_names[i])"
      ],
      "execution_count": null,
      "outputs": [
        {
          "output_type": "stream",
          "text": [
            "100%|██████████| 55/55 [02:05<00:00,  2.28s/it]\n"
          ],
          "name": "stderr"
        }
      ]
    },
    {
      "cell_type": "markdown",
      "metadata": {
        "id": "SYf2C7RljAZv"
      },
      "source": [
        "# Load captions"
      ]
    },
    {
      "cell_type": "code",
      "metadata": {
        "id": "7XkxgXHFjEmu"
      },
      "source": [
        "captions_path = os.getcwd() + '/drive/MyDrive/MLDS_hw2_data/MSR Video Description Corpus.csv'\n",
        "\n",
        "#captions_path = os.getcwd() + '/MLDS_hw2_data/MSR Video Description Corpus.csv'"
      ],
      "execution_count": null,
      "outputs": []
    },
    {
      "cell_type": "code",
      "metadata": {
        "colab": {
          "base_uri": "https://localhost:8080/",
          "height": 206
        },
        "id": "pPW4Tw47kUSk",
        "outputId": "47bf4fa6-f963-45dc-d0cb-5501f0fedcc5"
      },
      "source": [
        "all_languages_captions_df = pd.read_csv(captions_path)\n",
        "all_languages_captions_df.head()"
      ],
      "execution_count": null,
      "outputs": [
        {
          "output_type": "execute_result",
          "data": {
            "text/html": [
              "<div>\n",
              "<style scoped>\n",
              "    .dataframe tbody tr th:only-of-type {\n",
              "        vertical-align: middle;\n",
              "    }\n",
              "\n",
              "    .dataframe tbody tr th {\n",
              "        vertical-align: top;\n",
              "    }\n",
              "\n",
              "    .dataframe thead th {\n",
              "        text-align: right;\n",
              "    }\n",
              "</style>\n",
              "<table border=\"1\" class=\"dataframe\">\n",
              "  <thead>\n",
              "    <tr style=\"text-align: right;\">\n",
              "      <th></th>\n",
              "      <th>VideoID</th>\n",
              "      <th>Start</th>\n",
              "      <th>End</th>\n",
              "      <th>WorkerID</th>\n",
              "      <th>Source</th>\n",
              "      <th>AnnotationTime</th>\n",
              "      <th>Language</th>\n",
              "      <th>Description</th>\n",
              "    </tr>\n",
              "  </thead>\n",
              "  <tbody>\n",
              "    <tr>\n",
              "      <th>0</th>\n",
              "      <td>mv89psg6zh4</td>\n",
              "      <td>33</td>\n",
              "      <td>46</td>\n",
              "      <td>588702</td>\n",
              "      <td>unverified</td>\n",
              "      <td>55</td>\n",
              "      <td>Slovene</td>\n",
              "      <td>Papagaj se umiva pod tekočo vodo v lijaku.</td>\n",
              "    </tr>\n",
              "    <tr>\n",
              "      <th>1</th>\n",
              "      <td>mv89psg6zh4</td>\n",
              "      <td>33</td>\n",
              "      <td>46</td>\n",
              "      <td>588702</td>\n",
              "      <td>unverified</td>\n",
              "      <td>37</td>\n",
              "      <td>Slovene</td>\n",
              "      <td>Papagaj se umiva pod tekočo vodo v lijaku.</td>\n",
              "    </tr>\n",
              "    <tr>\n",
              "      <th>2</th>\n",
              "      <td>mv89psg6zh4</td>\n",
              "      <td>33</td>\n",
              "      <td>46</td>\n",
              "      <td>362812</td>\n",
              "      <td>unverified</td>\n",
              "      <td>11</td>\n",
              "      <td>Macedonian</td>\n",
              "      <td>папагал се бања</td>\n",
              "    </tr>\n",
              "    <tr>\n",
              "      <th>3</th>\n",
              "      <td>mv89psg6zh4</td>\n",
              "      <td>33</td>\n",
              "      <td>46</td>\n",
              "      <td>968828</td>\n",
              "      <td>unverified</td>\n",
              "      <td>84</td>\n",
              "      <td>German</td>\n",
              "      <td>Ein Wellensittich duscht unter einem Wasserhahn.</td>\n",
              "    </tr>\n",
              "    <tr>\n",
              "      <th>4</th>\n",
              "      <td>mv89psg6zh4</td>\n",
              "      <td>33</td>\n",
              "      <td>46</td>\n",
              "      <td>203142</td>\n",
              "      <td>unverified</td>\n",
              "      <td>14</td>\n",
              "      <td>Romanian</td>\n",
              "      <td>o pasare sta intr-o chiuveta.</td>\n",
              "    </tr>\n",
              "  </tbody>\n",
              "</table>\n",
              "</div>"
            ],
            "text/plain": [
              "       VideoID  ...                                       Description\n",
              "0  mv89psg6zh4  ...        Papagaj se umiva pod tekočo vodo v lijaku.\n",
              "1  mv89psg6zh4  ...        Papagaj se umiva pod tekočo vodo v lijaku.\n",
              "2  mv89psg6zh4  ...                                   папагал се бања\n",
              "3  mv89psg6zh4  ...  Ein Wellensittich duscht unter einem Wasserhahn.\n",
              "4  mv89psg6zh4  ...                     o pasare sta intr-o chiuveta.\n",
              "\n",
              "[5 rows x 8 columns]"
            ]
          },
          "metadata": {
            "tags": []
          },
          "execution_count": 5
        }
      ]
    },
    {
      "cell_type": "code",
      "metadata": {
        "colab": {
          "base_uri": "https://localhost:8080/"
        },
        "id": "gFuVWs6QkWE7",
        "outputId": "d4e5dbc8-2d25-4779-b939-de0e3c451bbd"
      },
      "source": [
        "all_languages_captions_df.info()"
      ],
      "execution_count": null,
      "outputs": [
        {
          "output_type": "stream",
          "text": [
            "<class 'pandas.core.frame.DataFrame'>\n",
            "RangeIndex: 122665 entries, 0 to 122664\n",
            "Data columns (total 8 columns):\n",
            " #   Column          Non-Null Count   Dtype \n",
            "---  ------          --------------   ----- \n",
            " 0   VideoID         122665 non-null  object\n",
            " 1   Start           122665 non-null  int64 \n",
            " 2   End             122665 non-null  int64 \n",
            " 3   WorkerID        122665 non-null  int64 \n",
            " 4   Source          122665 non-null  object\n",
            " 5   AnnotationTime  122665 non-null  int64 \n",
            " 6   Language        122665 non-null  object\n",
            " 7   Description     122664 non-null  object\n",
            "dtypes: int64(4), object(4)\n",
            "memory usage: 7.5+ MB\n"
          ],
          "name": "stdout"
        }
      ]
    },
    {
      "cell_type": "code",
      "metadata": {
        "colab": {
          "base_uri": "https://localhost:8080/"
        },
        "id": "fCQLTbN8kZdl",
        "outputId": "18cb2b1f-540f-47d1-8d50-7d221552ee28"
      },
      "source": [
        "all_languages_captions_df['Language'].unique()"
      ],
      "execution_count": null,
      "outputs": [
        {
          "output_type": "execute_result",
          "data": {
            "text/plain": [
              "array(['Slovene', 'Macedonian', 'German', 'Romanian', 'Georgian',\n",
              "       'Serbian', 'French', 'Gujarati', 'Hindi', 'English', 'Tamil',\n",
              "       'Dutch', 'Tagalog', 'Polish', 'Spanish', 'Russian', 'Arabic',\n",
              "       'Italian', 'Filipino', 'Malayalam', 'Chinese', 'Portuguese',\n",
              "       'Estonian', 'Norwegian', 'Malay', 'Urdu', 'Hungarian', 'Turkish',\n",
              "       'Indonesian', 'Danish', 'Bosnian', 'Albanian', 'Bulgarian',\n",
              "       'Marathi', 'Swedish'], dtype=object)"
            ]
          },
          "metadata": {
            "tags": []
          },
          "execution_count": 7
        }
      ]
    },
    {
      "cell_type": "code",
      "metadata": {
        "id": "QgyHoowdkbBS"
      },
      "source": [
        "# only keep english captions\n",
        "captions_df = all_languages_captions_df[all_languages_captions_df['Language'] == 'English']"
      ],
      "execution_count": null,
      "outputs": []
    },
    {
      "cell_type": "code",
      "metadata": {
        "id": "pYLLdctKt8hu"
      },
      "source": [
        "# only keep non NaN captions\n",
        "captions_df = captions_df[~captions_df['Description'].isna()]"
      ],
      "execution_count": null,
      "outputs": []
    },
    {
      "cell_type": "code",
      "metadata": {
        "colab": {
          "base_uri": "https://localhost:8080/"
        },
        "id": "pFk1a0cfkczs",
        "outputId": "688b9da6-a7c3-42ac-8f25-35a4bbb4a39e"
      },
      "source": [
        "len(captions_df)"
      ],
      "execution_count": null,
      "outputs": [
        {
          "output_type": "execute_result",
          "data": {
            "text/plain": [
              "85549"
            ]
          },
          "metadata": {
            "tags": []
          },
          "execution_count": 10
        }
      ]
    },
    {
      "cell_type": "code",
      "metadata": {
        "colab": {
          "base_uri": "https://localhost:8080/"
        },
        "id": "sCxchW64SbMB",
        "outputId": "52b35fe4-d382-48fb-967f-07369aa2130f"
      },
      "source": [
        "# captioned video part lengths\n",
        "(captions_df['End'] - captions_df['Start']).describe()"
      ],
      "execution_count": null,
      "outputs": [
        {
          "output_type": "execute_result",
          "data": {
            "text/plain": [
              "count    85549.000000\n",
              "mean        10.221078\n",
              "std          6.723401\n",
              "min          2.000000\n",
              "25%          6.000000\n",
              "50%          8.000000\n",
              "75%         12.000000\n",
              "max         60.000000\n",
              "dtype: float64"
            ]
          },
          "metadata": {
            "tags": []
          },
          "execution_count": 11
        }
      ]
    },
    {
      "cell_type": "code",
      "metadata": {
        "colab": {
          "base_uri": "https://localhost:8080/"
        },
        "id": "C7AoMPy1TYzn",
        "outputId": "a536fa83-9700-4697-e74c-bbf1b49ecc0b"
      },
      "source": [
        "# The length of captions in words\n",
        "captions_df['Description'].str.split().str.len().describe()"
      ],
      "execution_count": null,
      "outputs": [
        {
          "output_type": "execute_result",
          "data": {
            "text/plain": [
              "count    85549.000000\n",
              "mean         7.099884\n",
              "std          2.989527\n",
              "min          1.000000\n",
              "25%          5.000000\n",
              "50%          6.000000\n",
              "75%          8.000000\n",
              "max        137.000000\n",
              "Name: Description, dtype: float64"
            ]
          },
          "metadata": {
            "tags": []
          },
          "execution_count": 12
        }
      ]
    },
    {
      "cell_type": "code",
      "metadata": {
        "id": "wlhqqZUGkeau"
      },
      "source": [
        "# Convert start and end columns to string\n",
        "captions_df['Start'] = captions_df['Start'].apply(str)\n",
        "captions_df['End'] = captions_df['End'].apply(str)"
      ],
      "execution_count": null,
      "outputs": []
    },
    {
      "cell_type": "markdown",
      "metadata": {
        "id": "MBEFkIfSkhIX"
      },
      "source": [
        "### Only keep captions for videos present in training data"
      ]
    },
    {
      "cell_type": "code",
      "metadata": {
        "colab": {
          "base_uri": "https://localhost:8080/"
        },
        "id": "oXNB0CWSt8hy",
        "outputId": "c56fe773-4782-4f51-c635-04a2aec7cc8f"
      },
      "source": [
        "captions_df['Video_name'] = captions_df['VideoID']+ '_' + captions_df['Start']+ '_' + captions_df['End']\n",
        "captions_df['Video_name']"
      ],
      "execution_count": null,
      "outputs": [
        {
          "output_type": "execute_result",
          "data": {
            "text/plain": [
              "18        mv89psg6zh4_33_46\n",
              "19        mv89psg6zh4_33_46\n",
              "20        mv89psg6zh4_33_46\n",
              "21        mv89psg6zh4_33_46\n",
              "22        mv89psg6zh4_33_46\n",
              "                ...        \n",
              "122658    m7x8uIdg2XU_67_73\n",
              "122659    m7x8uIdg2XU_67_73\n",
              "122660    m7x8uIdg2XU_67_73\n",
              "122661    m7x8uIdg2XU_67_73\n",
              "122662    m7x8uIdg2XU_67_73\n",
              "Name: Video_name, Length: 85549, dtype: object"
            ]
          },
          "metadata": {
            "tags": []
          },
          "execution_count": 14
        }
      ]
    },
    {
      "cell_type": "code",
      "metadata": {
        "colab": {
          "base_uri": "https://localhost:8080/"
        },
        "id": "x57-rX23t8hz",
        "outputId": "63ba5e1b-b2e1-4131-b15e-03172ed026af"
      },
      "source": [
        "len(captions_df['Video_name'].unique())"
      ],
      "execution_count": null,
      "outputs": [
        {
          "output_type": "execute_result",
          "data": {
            "text/plain": [
              "2089"
            ]
          },
          "metadata": {
            "tags": []
          },
          "execution_count": 15
        }
      ]
    },
    {
      "cell_type": "code",
      "metadata": {
        "id": "r8uKyf7Kt8h0"
      },
      "source": [
        "from pathlib import Path"
      ],
      "execution_count": null,
      "outputs": []
    },
    {
      "cell_type": "code",
      "metadata": {
        "id": "hxNrmWpqt8h1"
      },
      "source": [
        "def check_if_video_exists(video_name):\n",
        "    #video_path = os.getcwd() + '/MLDS_hw2_data/training_data/video/' + video_name + '.avi'\n",
        "    video_path = os.getcwd() + '/drive/MyDrive/video_frame_features/' + video_name + '.npy'\n",
        "    my_file = Path(video_path)\n",
        "    if my_file.is_file():\n",
        "        return True\n",
        "    else:\n",
        "        return False"
      ],
      "execution_count": null,
      "outputs": []
    },
    {
      "cell_type": "code",
      "metadata": {
        "id": "FS8jF2Pqt8h1"
      },
      "source": [
        "captions_df = captions_df[captions_df['Video_name'].apply(check_if_video_exists)]"
      ],
      "execution_count": null,
      "outputs": []
    },
    {
      "cell_type": "code",
      "metadata": {
        "colab": {
          "base_uri": "https://localhost:8080/"
        },
        "id": "y6Nrh96ut8h2",
        "outputId": "afd4aa25-2d4c-44f4-a299-1d94092c7cd3"
      },
      "source": [
        "len(captions_df)"
      ],
      "execution_count": null,
      "outputs": [
        {
          "output_type": "execute_result",
          "data": {
            "text/plain": [
              "59590"
            ]
          },
          "metadata": {
            "tags": []
          },
          "execution_count": 19
        }
      ]
    },
    {
      "cell_type": "markdown",
      "metadata": {
        "id": "VGfvTUcDlVAt"
      },
      "source": [
        "# Tokenize the captions"
      ]
    },
    {
      "cell_type": "code",
      "metadata": {
        "colab": {
          "base_uri": "https://localhost:8080/",
          "height": 36
        },
        "id": "CijcVrDsZenf",
        "outputId": "2b3882d2-0433-4b1f-da6d-035949c7d28c"
      },
      "source": [
        "captions_df['Description'].iloc[0]"
      ],
      "execution_count": null,
      "outputs": [
        {
          "output_type": "execute_result",
          "data": {
            "application/vnd.google.colaboratory.intrinsic+json": {
              "type": "string"
            },
            "text/plain": [
              "'A bird in a sink keeps getting under the running water from a faucet.'"
            ]
          },
          "metadata": {
            "tags": []
          },
          "execution_count": 20
        }
      ]
    },
    {
      "cell_type": "code",
      "metadata": {
        "id": "WGveYErrt8h4",
        "outputId": "1bc4bd5b-d498-4bd0-85cc-570f1756414d"
      },
      "source": [
        "# keep only captions with no more than 12 words (~95.5% of all captions)\n",
        "#captions_df = captions_df[captions_df['Description_length'] <= 12]"
      ],
      "execution_count": null,
      "outputs": [
        {
          "output_type": "stream",
          "text": [
            "<class 'pandas.core.frame.DataFrame'>\n",
            "Int64Index: 81583 entries, 19 to 122662\n",
            "Data columns (total 10 columns):\n",
            "VideoID               81583 non-null object\n",
            "Start                 81583 non-null int64\n",
            "End                   81583 non-null int64\n",
            "WorkerID              81583 non-null int64\n",
            "Source                81583 non-null object\n",
            "AnnotationTime        81583 non-null int64\n",
            "Language              81583 non-null object\n",
            "Description           81583 non-null object\n",
            "Video_length          81583 non-null int64\n",
            "Description_length    81583 non-null float64\n",
            "dtypes: float64(1), int64(5), object(4)\n",
            "memory usage: 6.8+ MB\n"
          ],
          "name": "stdout"
        }
      ]
    },
    {
      "cell_type": "code",
      "metadata": {
        "id": "OrjmrAPit8h5",
        "outputId": "d680c028-0e0b-4ccb-96aa-c168d0bee53a"
      },
      "source": [
        "# only keep clips with length no nore than 24 and captions with length no more than 24\n",
        "#captions_df[(captions_df['Video_length'] <= 24) & (captions_df['Description_length'] <= 24)].info()"
      ],
      "execution_count": null,
      "outputs": [
        {
          "output_type": "stream",
          "text": [
            "<class 'pandas.core.frame.DataFrame'>\n",
            "Int64Index: 85392 entries, 18 to 122662\n",
            "Data columns (total 10 columns):\n",
            "VideoID               85392 non-null object\n",
            "Start                 85392 non-null int64\n",
            "End                   85392 non-null int64\n",
            "WorkerID              85392 non-null int64\n",
            "Source                85392 non-null object\n",
            "AnnotationTime        85392 non-null int64\n",
            "Language              85392 non-null object\n",
            "Description           85392 non-null object\n",
            "Video_length          85392 non-null int64\n",
            "Description_length    85392 non-null float64\n",
            "dtypes: float64(1), int64(5), object(4)\n",
            "memory usage: 7.2+ MB\n"
          ],
          "name": "stdout"
        }
      ]
    },
    {
      "cell_type": "code",
      "metadata": {
        "id": "vJbE_gNit8h5",
        "outputId": "53a3a79d-eacb-4248-8baf-48015c9240f0"
      },
      "source": [
        "captions_df['Description'].str.replace(r\"<br\\s*/?>\", r\" \").str.lower().str.replace(r\"[^a-zA-Z']\", r\" \").str.split()"
      ],
      "execution_count": null,
      "outputs": [
        {
          "output_type": "execute_result",
          "data": {
            "text/plain": [
              "18        [a, bird, in, a, sink, keeps, getting, under, ...\n",
              "19                      [a, bird, is, bathing, in, a, sink]\n",
              "20        [a, bird, is, splashing, around, under, a, run...\n",
              "21                      [a, bird, is, bathing, in, a, sink]\n",
              "22        [a, bird, is, standing, in, a, sink, drinking,...\n",
              "                                ...                        \n",
              "122548                [a, woman, is, slicing, some, onions]\n",
              "122549     [onion, is, been, cut, and, been, shooped, also]\n",
              "122550         [the, person, is, making, the, tomato, supe]\n",
              "122551                               [how, to, chop, onion]\n",
              "122552                            [the, man, chops, onions]\n",
              "Name: Description, Length: 59590, dtype: object"
            ]
          },
          "metadata": {
            "tags": []
          },
          "execution_count": 145
        }
      ]
    },
    {
      "cell_type": "code",
      "metadata": {
        "id": "F9YvzlzPt8h6"
      },
      "source": [
        "# remove punctuation from the captions, all symbols to lowercase, split the caption into words\n",
        "captions_df['Description'] = captions_df['Description'].str.replace(r\"<br\\s*/?>\", r\" \").str.lower().str.replace(r\"[^a-zA-Z']\", r\" \").str.split()"
      ],
      "execution_count": null,
      "outputs": []
    },
    {
      "cell_type": "code",
      "metadata": {
        "id": "skVodXRkt8h6",
        "colab": {
          "base_uri": "https://localhost:8080/"
        },
        "outputId": "87d82821-d492-4231-b41e-308b1c56d9f8"
      },
      "source": [
        "captions_df['Description'].head()"
      ],
      "execution_count": null,
      "outputs": [
        {
          "output_type": "execute_result",
          "data": {
            "text/plain": [
              "18    [a, bird, in, a, sink, keeps, getting, under, ...\n",
              "19                  [a, bird, is, bathing, in, a, sink]\n",
              "20    [a, bird, is, splashing, around, under, a, run...\n",
              "21                  [a, bird, is, bathing, in, a, sink]\n",
              "22    [a, bird, is, standing, in, a, sink, drinking,...\n",
              "Name: Description, dtype: object"
            ]
          },
          "metadata": {
            "tags": []
          },
          "execution_count": 22
        }
      ]
    },
    {
      "cell_type": "code",
      "metadata": {
        "id": "L7JOx3bdt8h7"
      },
      "source": [
        "captions_df['Description_length'] = captions_df['Description'].map(len)"
      ],
      "execution_count": null,
      "outputs": []
    },
    {
      "cell_type": "code",
      "metadata": {
        "colab": {
          "base_uri": "https://localhost:8080/"
        },
        "id": "WFwufd5j6RvW",
        "outputId": "284445f3-d1bf-4d2e-bb03-fe7356fcbe67"
      },
      "source": [
        "captions_df['Description'].values"
      ],
      "execution_count": null,
      "outputs": [
        {
          "output_type": "execute_result",
          "data": {
            "text/plain": [
              "array([list(['a', 'bird', 'in', 'a', 'sink', 'keeps', 'getting', 'under', 'the', 'running', 'water', 'from', 'a', 'faucet']),\n",
              "       list(['a', 'bird', 'is', 'bathing', 'in', 'a', 'sink']),\n",
              "       list(['a', 'bird', 'is', 'splashing', 'around', 'under', 'a', 'running', 'faucet']),\n",
              "       ...,\n",
              "       list(['the', 'person', 'is', 'making', 'the', 'tomato', 'supe']),\n",
              "       list(['how', 'to', 'chop', 'onion']),\n",
              "       list(['the', 'man', 'chops', 'onions'])], dtype=object)"
            ]
          },
          "metadata": {
            "tags": []
          },
          "execution_count": 24
        }
      ]
    },
    {
      "cell_type": "code",
      "metadata": {
        "id": "H1KIexD1t8h7"
      },
      "source": [
        "word_array = np.concatenate(captions_df['Description'].values)"
      ],
      "execution_count": null,
      "outputs": []
    },
    {
      "cell_type": "code",
      "metadata": {
        "id": "iBBZ06CXt8h8",
        "colab": {
          "base_uri": "https://localhost:8080/"
        },
        "outputId": "ab06e25b-3fb8-453c-bdcf-8e6499e5af5f"
      },
      "source": [
        "len(word_array)"
      ],
      "execution_count": null,
      "outputs": [
        {
          "output_type": "execute_result",
          "data": {
            "text/plain": [
              "424326"
            ]
          },
          "metadata": {
            "tags": []
          },
          "execution_count": 26
        }
      ]
    },
    {
      "cell_type": "code",
      "metadata": {
        "id": "wPmvYlLNt8h8"
      },
      "source": [
        "from collections import Counter\n",
        "vocabulary = Counter()"
      ],
      "execution_count": null,
      "outputs": []
    },
    {
      "cell_type": "code",
      "metadata": {
        "id": "USASCc7nt8h9"
      },
      "source": [
        "vocabulary.update(word_array)"
      ],
      "execution_count": null,
      "outputs": []
    },
    {
      "cell_type": "code",
      "metadata": {
        "id": "JA05bctxt8h9",
        "colab": {
          "base_uri": "https://localhost:8080/"
        },
        "outputId": "3eead3bb-dabe-4a80-8216-0e8883472797"
      },
      "source": [
        "vocabulary.most_common()[:10]"
      ],
      "execution_count": null,
      "outputs": [
        {
          "output_type": "execute_result",
          "data": {
            "text/plain": [
              "[('a', 66818),\n",
              " ('is', 32591),\n",
              " ('the', 21850),\n",
              " ('man', 17020),\n",
              " ('woman', 7525),\n",
              " ('on', 7185),\n",
              " ('in', 7062),\n",
              " ('are', 5429),\n",
              " ('playing', 5345),\n",
              " ('of', 5183)]"
            ]
          },
          "metadata": {
            "tags": []
          },
          "execution_count": 29
        }
      ]
    },
    {
      "cell_type": "code",
      "metadata": {
        "id": "aJbtCAdPt8h-",
        "colab": {
          "base_uri": "https://localhost:8080/"
        },
        "outputId": "0b36626e-65b4-49c0-e24a-00bf755490e7"
      },
      "source": [
        "len(vocabulary)"
      ],
      "execution_count": null,
      "outputs": [
        {
          "output_type": "execute_result",
          "data": {
            "text/plain": [
              "10742"
            ]
          },
          "metadata": {
            "tags": []
          },
          "execution_count": 30
        }
      ]
    },
    {
      "cell_type": "code",
      "metadata": {
        "id": "nCh9ebq4t8h-"
      },
      "source": [
        "# only keep a word if the word appeared more than once\n",
        "truncated_vocabulary = {k:v for (k,v) in vocabulary.items() if v > 1}"
      ],
      "execution_count": null,
      "outputs": []
    },
    {
      "cell_type": "code",
      "metadata": {
        "id": "NqlTpA44t8h_",
        "colab": {
          "base_uri": "https://localhost:8080/"
        },
        "outputId": "ba1381a9-0ac4-428d-f9ec-55254fdf5917"
      },
      "source": [
        "vocab_size = len(truncated_vocabulary)\n",
        "vocab_size"
      ],
      "execution_count": null,
      "outputs": [
        {
          "output_type": "execute_result",
          "data": {
            "text/plain": [
              "6079"
            ]
          },
          "metadata": {
            "tags": []
          },
          "execution_count": 32
        }
      ]
    },
    {
      "cell_type": "code",
      "metadata": {
        "id": "K_ZXsjCxt8h_"
      },
      "source": [
        "# dictionary for encoding words into ids\n",
        "# do i need <unk> token or oob_ will cover the need?\n",
        "word_to_id = {word: id_ + 3 for id_, word in enumerate(truncated_vocabulary)}\n",
        "for id_, token in enumerate((\"<pad>\", \"<bos>\", \"<eos>\")):\n",
        "    word_to_id[token] = id_"
      ],
      "execution_count": null,
      "outputs": []
    },
    {
      "cell_type": "code",
      "metadata": {
        "id": "DpP3K09vt8iA",
        "colab": {
          "base_uri": "https://localhost:8080/"
        },
        "outputId": "78b5cbee-ef54-43f2-822a-825c598947fa"
      },
      "source": [
        "caption_example = captions_df['Description'].iloc[2]\n",
        "caption_example"
      ],
      "execution_count": null,
      "outputs": [
        {
          "output_type": "execute_result",
          "data": {
            "text/plain": [
              "['a', 'bird', 'is', 'splashing', 'around', 'under', 'a', 'running', 'faucet']"
            ]
          },
          "metadata": {
            "tags": []
          },
          "execution_count": 34
        }
      ]
    },
    {
      "cell_type": "code",
      "metadata": {
        "id": "aISqE4Jxt8iA",
        "colab": {
          "base_uri": "https://localhost:8080/"
        },
        "outputId": "5c8f3939-e20a-4038-8b23-2066a3854622"
      },
      "source": [
        "for word in caption_example:\n",
        "    print(word_to_id.get(word) or vocab_size)"
      ],
      "execution_count": null,
      "outputs": [
        {
          "output_type": "stream",
          "text": [
            "3\n",
            "4\n",
            "15\n",
            "17\n",
            "18\n",
            "9\n",
            "3\n",
            "11\n",
            "14\n"
          ],
          "name": "stdout"
        }
      ]
    },
    {
      "cell_type": "code",
      "metadata": {
        "id": "PAr6JTsmt8iB"
      },
      "source": [
        "# dictionary for decoding\n",
        "id_to_word = {id_: word for word, id_ in word_to_id.items()}"
      ],
      "execution_count": null,
      "outputs": []
    },
    {
      "cell_type": "code",
      "metadata": {
        "id": "AwZrPIUSt8iC",
        "colab": {
          "base_uri": "https://localhost:8080/"
        },
        "outputId": "b040738f-9623-400b-f6f2-f3f8141a8b46"
      },
      "source": [
        "encoded_caption_example = [word_to_id[word] for word in caption_example]\n",
        "encoded_caption_example"
      ],
      "execution_count": null,
      "outputs": [
        {
          "output_type": "execute_result",
          "data": {
            "text/plain": [
              "[3, 4, 15, 17, 18, 9, 3, 11, 14]"
            ]
          },
          "metadata": {
            "tags": []
          },
          "execution_count": 37
        }
      ]
    },
    {
      "cell_type": "code",
      "metadata": {
        "id": "231_m1Vgt8iD",
        "colab": {
          "base_uri": "https://localhost:8080/"
        },
        "outputId": "2320219a-6dac-4774-d752-0e792e4c42fb"
      },
      "source": [
        "[id_to_word[id_] for id_ in encoded_caption_example]"
      ],
      "execution_count": null,
      "outputs": [
        {
          "output_type": "execute_result",
          "data": {
            "text/plain": [
              "['a', 'bird', 'is', 'splashing', 'around', 'under', 'a', 'running', 'faucet']"
            ]
          },
          "metadata": {
            "tags": []
          },
          "execution_count": 38
        }
      ]
    },
    {
      "cell_type": "code",
      "metadata": {
        "id": "pBMgWd53t8iD"
      },
      "source": [
        "words = tf.constant(list(id_to_word.values()))\n",
        "word_ids = tf.constant(list(word_to_id.values()), dtype=tf.int64)\n",
        "vocab_init = tf.lookup.KeyValueTensorInitializer(words, word_ids)\n",
        "num_oov_buckets = 1\n",
        "table = tf.lookup.StaticVocabularyTable(vocab_init, num_oov_buckets)"
      ],
      "execution_count": null,
      "outputs": []
    },
    {
      "cell_type": "code",
      "metadata": {
        "id": "kQlvNJiut8iE"
      },
      "source": [
        "vocab_size = len(words)"
      ],
      "execution_count": null,
      "outputs": []
    },
    {
      "cell_type": "code",
      "metadata": {
        "colab": {
          "base_uri": "https://localhost:8080/"
        },
        "id": "ikIpq21mt8iE",
        "outputId": "c0bc1db0-3af8-4f8e-bab4-b103c82ea130"
      },
      "source": [
        "table.lookup(tf.constant(caption_example))"
      ],
      "execution_count": null,
      "outputs": [
        {
          "output_type": "execute_result",
          "data": {
            "text/plain": [
              "<tf.Tensor: shape=(9,), dtype=int64, numpy=array([ 3,  4, 15, 17, 18,  9,  3, 11, 14])>"
            ]
          },
          "metadata": {
            "tags": []
          },
          "execution_count": 41
        }
      ]
    },
    {
      "cell_type": "code",
      "metadata": {
        "id": "UaF0SnQht8iE"
      },
      "source": [
        "def encode_words_to_id(word_list):\n",
        "    return table.lookup(tf.constant(word_list))"
      ],
      "execution_count": null,
      "outputs": []
    },
    {
      "cell_type": "markdown",
      "metadata": {
        "id": "3q7ZGqSWezMZ"
      },
      "source": [
        "## GloVe Embeddings"
      ]
    },
    {
      "cell_type": "code",
      "metadata": {
        "id": "_v_IuaOsezMa"
      },
      "source": [
        "#path_to_glove_file = os.getcwd() + \"/glove.6B.300d.txt\"\n",
        "path_to_glove_file = os.getcwd() + \"/drive/MyDrive/video_to_text_caption/glove.6B.300d.txt\" \n",
        "\n",
        "embeddings_index = {}\n",
        "with open(path_to_glove_file, encoding=\"utf8\") as f:\n",
        "    for line in f:\n",
        "        word, coefs = line.split(maxsplit=1)\n",
        "        coefs = np.fromstring(coefs, \"f\", sep=\" \")\n",
        "        embeddings_index[word] = coefs"
      ],
      "execution_count": null,
      "outputs": []
    },
    {
      "cell_type": "code",
      "metadata": {
        "colab": {
          "base_uri": "https://localhost:8080/"
        },
        "id": "8Giia2_sezMb",
        "outputId": "639d4c92-e5b6-4175-a988-e8a0488e4477"
      },
      "source": [
        "embed_size = 300\n",
        "hits = 0\n",
        "misses = 0\n",
        "\n",
        "# Prepare embedding matrix\n",
        "embedding_matrix = (np.random.rand(vocab_size + num_oov_buckets, embed_size) * 2)-1 # initialize it randomly with values from -1 to 1\n",
        "for word, i in word_to_id.items():\n",
        "    embedding_vector = embeddings_index.get(word)\n",
        "    if embedding_vector is not None:\n",
        "        embedding_matrix[i] = embedding_vector\n",
        "        hits += 1\n",
        "    else:\n",
        "        misses += 1\n",
        "print(\"Converted %d words (%d misses)\" % (hits, misses))"
      ],
      "execution_count": null,
      "outputs": [
        {
          "output_type": "stream",
          "text": [
            "Converted 5695 words (387 misses)\n"
          ],
          "name": "stdout"
        }
      ]
    },
    {
      "cell_type": "code",
      "metadata": {
        "id": "PiDXLz3gezMc"
      },
      "source": [
        "embedding_layer = keras.layers.Embedding(\n",
        "    vocab_size + num_oov_buckets,\n",
        "    embed_size,\n",
        "    embeddings_initializer=keras.initializers.Constant(embedding_matrix),\n",
        "    trainable=True,\n",
        "    name=\"caption_embedding\"\n",
        ")"
      ],
      "execution_count": null,
      "outputs": []
    },
    {
      "cell_type": "code",
      "metadata": {
        "id": "pjP_qOxLezMc"
      },
      "source": [
        "del embeddings_index"
      ],
      "execution_count": null,
      "outputs": []
    },
    {
      "cell_type": "markdown",
      "metadata": {
        "id": "_RcVM7GQvMwT"
      },
      "source": [
        "## Subword tokenization"
      ]
    },
    {
      "cell_type": "code",
      "metadata": {
        "id": "gPx8iJGBvvgd"
      },
      "source": [
        "from tokenizers import Tokenizer\n",
        "from tokenizers.models import WordPiece"
      ],
      "execution_count": null,
      "outputs": []
    },
    {
      "cell_type": "code",
      "metadata": {
        "id": "BzSh0fFPezMe"
      },
      "source": [
        "tokenizer = Tokenizer(WordPiece(unk_token=\"<unk>\"))"
      ],
      "execution_count": null,
      "outputs": []
    },
    {
      "cell_type": "code",
      "metadata": {
        "id": "HXAtQwLfezMe"
      },
      "source": [
        "vocab_size = 4000"
      ],
      "execution_count": null,
      "outputs": []
    },
    {
      "cell_type": "code",
      "metadata": {
        "id": "cHOtdfpxezMf"
      },
      "source": [
        "from tokenizers.trainers import WordPieceTrainer\n",
        "\n",
        "trainer = WordPieceTrainer(vocab_size = vocab_size, special_tokens=[\"<pad>\", \"<bos>\", \"<eos>\", \"<unk>\"])"
      ],
      "execution_count": null,
      "outputs": []
    },
    {
      "cell_type": "code",
      "metadata": {
        "id": "HjoU6osOezMf"
      },
      "source": [
        "from tokenizers.pre_tokenizers import Whitespace\n",
        "\n",
        "tokenizer.pre_tokenizer = Whitespace()"
      ],
      "execution_count": null,
      "outputs": []
    },
    {
      "cell_type": "code",
      "metadata": {
        "id": "lz17ldPMezMg",
        "outputId": "38dbd448-8682-4eaf-fdf0-cbfaeececde3"
      },
      "source": [
        "captions_df['Description'].values"
      ],
      "execution_count": null,
      "outputs": [
        {
          "output_type": "execute_result",
          "data": {
            "text/plain": [
              "array(['A bird in a sink keeps getting under the running water from a faucet.',\n",
              "       'A bird is bathing in a sink.',\n",
              "       'A bird is splashing around under a running faucet.', ...,\n",
              "       'the person is making the tomato supe', 'How to chop Onion',\n",
              "       'The man chops onions.'], dtype=object)"
            ]
          },
          "metadata": {
            "tags": []
          },
          "execution_count": 23
        }
      ]
    },
    {
      "cell_type": "code",
      "metadata": {
        "id": "u5ZXUwnRezMg"
      },
      "source": [
        "# remove punctuation from the captions, all symbols to lowercase\n",
        "captions_df['Description'] = captions_df['Description'].str.replace(r\"<br\\s*/?>\", r\" \").str.lower().str.replace(r\"[^a-zA-Z']\", r\" \").values"
      ],
      "execution_count": null,
      "outputs": []
    },
    {
      "cell_type": "code",
      "metadata": {
        "id": "GLWAGotnezMh"
      },
      "source": [
        "tokenizer.train_from_iterator(captions_df['Description'].values, trainer)"
      ],
      "execution_count": null,
      "outputs": []
    },
    {
      "cell_type": "code",
      "metadata": {
        "id": "G_DyJ16iezMh"
      },
      "source": [
        "output = tokenizer.encode(\"the man chops onionsss\")"
      ],
      "execution_count": null,
      "outputs": []
    },
    {
      "cell_type": "code",
      "metadata": {
        "id": "xEZmgW4aezMh",
        "outputId": "cb5058e1-a8f5-4da0-a410-f24cfcea36cf"
      },
      "source": [
        "output.ids"
      ],
      "execution_count": null,
      "outputs": [
        {
          "output_type": "execute_result",
          "data": {
            "text/plain": [
              "[62, 64, 1019, 602, 249]"
            ]
          },
          "metadata": {
            "tags": []
          },
          "execution_count": 27
        }
      ]
    },
    {
      "cell_type": "code",
      "metadata": {
        "id": "gPPnBn5lezMi"
      },
      "source": [
        "captions_df['Description_encoded'] = captions_df['Description'].map(lambda x: tokenizer.encode(x).ids)"
      ],
      "execution_count": null,
      "outputs": []
    },
    {
      "cell_type": "code",
      "metadata": {
        "id": "_OokeJpLezMi"
      },
      "source": [
        "captions_df['Description_encoded_length'] = captions_df['Description_encoded'].map(len)"
      ],
      "execution_count": null,
      "outputs": []
    },
    {
      "cell_type": "markdown",
      "metadata": {
        "id": "O9S8dhvlt8iF"
      },
      "source": [
        "# Prepare data for the model"
      ]
    },
    {
      "cell_type": "code",
      "metadata": {
        "id": "tKeQspblt8iV"
      },
      "source": [
        "def get_padded_data(caption_index):\n",
        "    video_name = captions_df['VideoID'].iloc[caption_index] + '_' + captions_df['Start'].iloc[caption_index] + '_' + captions_df['End'].iloc[caption_index]\n",
        "    stored_features_path = os.getcwd() + '/MLDS_hw2_data/video_frame_features/' + video_name + '.npy'\n",
        "    features_array = np.load(stored_features_path)\n",
        "    video_features_shape = features_array.shape\n",
        "    input_cnn_padding_length = captions_df['Description_length'].iloc[caption_index] + 1\n",
        "    input_cnn_padding_array = np.full([input_cnn_padding_length, 2560], 0)\n",
        "    input_cnn_padded_array =  np.concatenate((features_array, input_cnn_padding_array))\n",
        "    \n",
        "    list_first_half = video_features_shape[0]*['<pad>']\n",
        "    input_sequence_caption = list_first_half + ['<bos>'] + captions_df['Description'].iloc[caption_index]\n",
        "    target_sequence_caption = list_first_half + captions_df['Description'].iloc[caption_index] + ['<eos>']\n",
        "    \n",
        "    return [input_cnn_padded_array, input_sequence_caption], target_sequence_caption"
      ],
      "execution_count": null,
      "outputs": []
    },
    {
      "cell_type": "code",
      "metadata": {
        "id": "6lcTX8PNt8iX"
      },
      "source": [
        ""
      ],
      "execution_count": null,
      "outputs": []
    },
    {
      "cell_type": "code",
      "metadata": {
        "id": "a0GGxS9at8iX"
      },
      "source": [
        "[input_cnn, input_caption], target_caption = get_padded_data(50)"
      ],
      "execution_count": null,
      "outputs": []
    },
    {
      "cell_type": "code",
      "metadata": {
        "id": "C8agm8Jdt8iX",
        "outputId": "5af0a2b3-bd96-4e9c-8b32-69c45c4617b5"
      },
      "source": [
        "input_caption"
      ],
      "execution_count": null,
      "outputs": [
        {
          "output_type": "execute_result",
          "data": {
            "text/plain": [
              "['<pad>',\n",
              " '<pad>',\n",
              " '<pad>',\n",
              " '<pad>',\n",
              " '<pad>',\n",
              " '<pad>',\n",
              " '<pad>',\n",
              " '<pad>',\n",
              " '<pad>',\n",
              " '<pad>',\n",
              " '<bos>',\n",
              " 'the',\n",
              " 'avi',\n",
              " 'n',\n",
              " 'airplane',\n",
              " 'is',\n",
              " 'flying',\n",
              " 'high',\n",
              " 'in',\n",
              " 'the',\n",
              " 'sky']"
            ]
          },
          "metadata": {
            "tags": []
          },
          "execution_count": 67
        }
      ]
    },
    {
      "cell_type": "code",
      "metadata": {
        "id": "bF-xemcUt8ia"
      },
      "source": [
        "def get_input_sequence_caption(caption_df):\n",
        "    number_of_frames = \n",
        "    list_first_half = number_of_frames*['<pad>']\n",
        "    input_sequence_caption = list_first_half + ['<bos>'] + caption_df['Description']\n",
        "    return input_sequence_caption"
      ],
      "execution_count": null,
      "outputs": []
    },
    {
      "cell_type": "code",
      "metadata": {
        "id": "6ziXW4L6t8ib"
      },
      "source": [
        "def get_sequence_caption(caption, video_length):\n",
        "    number_of_frames = \n",
        "    list_first_half = number_of_frames*['<pad>']\n",
        "    target_sequence_caption = list_first_half + caption + ['<eos>']\n",
        "    return target_sequence_caption"
      ],
      "execution_count": null,
      "outputs": []
    },
    {
      "cell_type": "code",
      "metadata": {
        "id": "hSCsKV9et8ib"
      },
      "source": [
        "def padding_part_of_caption_sequence(video_length):\n",
        "    return video_length*['<pad>']"
      ],
      "execution_count": null,
      "outputs": []
    },
    {
      "cell_type": "code",
      "metadata": {
        "id": "ptqTgtAlezMp"
      },
      "source": [
        "def padding_part_of_caption_sequence_id(video_length):\n",
        "    return video_length*[0]"
      ],
      "execution_count": null,
      "outputs": []
    },
    {
      "cell_type": "code",
      "metadata": {
        "id": "vA2tfWV7t8ib"
      },
      "source": [
        "def append_bos_token(sequence_list):\n",
        "    return sequence_list + ['<bos>']"
      ],
      "execution_count": null,
      "outputs": []
    },
    {
      "cell_type": "code",
      "metadata": {
        "id": "sLGCCDYtezMq"
      },
      "source": [
        "def append_bos_token_id(sequence_list):\n",
        "    return sequence_list + [1]"
      ],
      "execution_count": null,
      "outputs": []
    },
    {
      "cell_type": "code",
      "metadata": {
        "id": "ov37PcArt8ic"
      },
      "source": [
        "video_name_list = []\n",
        "number_of_frames_list = []"
      ],
      "execution_count": null,
      "outputs": []
    },
    {
      "cell_type": "code",
      "metadata": {
        "id": "FMT9Ehakt8ic",
        "colab": {
          "base_uri": "https://localhost:8080/",
          "height": 36
        },
        "outputId": "4958ca63-0cd5-4196-f57b-38018e3f958e"
      },
      "source": [
        "#training_video_features_path = os.getcwd() + '/MLDS_hw2_data/training_data/video_frame_features'\n",
        "training_video_features_path = os.getcwd() + '/drive/MyDrive/video_frame_features'\n",
        "training_video_features_path"
      ],
      "execution_count": null,
      "outputs": [
        {
          "output_type": "execute_result",
          "data": {
            "application/vnd.google.colaboratory.intrinsic+json": {
              "type": "string"
            },
            "text/plain": [
              "'/content/drive/MyDrive/video_frame_features'"
            ]
          },
          "metadata": {
            "tags": []
          },
          "execution_count": 67
        }
      ]
    },
    {
      "cell_type": "code",
      "metadata": {
        "id": "7wm1cVkvt8id"
      },
      "source": [
        "from os import walk\n",
        "\n",
        "_, _, filenames = next(walk(training_video_features_path))"
      ],
      "execution_count": null,
      "outputs": []
    },
    {
      "cell_type": "code",
      "metadata": {
        "id": "y7J0nFwYt8id"
      },
      "source": [
        "# after the first time, it may be faster to load the computed dict\n",
        "\n",
        "# for filename in filenames:\n",
        "#     np_path = training_video_features_path + '/' + filename\n",
        "#     video_name_list.append(filename[:-4])\n",
        "#     number_of_frames = np.load(np_path).shape[0]\n",
        "#     number_of_frames_list.append(number_of_frames)\n",
        "\n",
        "# video_frames_dict = dict(zip(video_name_list, number_of_frames_list))"
      ],
      "execution_count": null,
      "outputs": []
    },
    {
      "cell_type": "code",
      "metadata": {
        "id": "Ty27Hpvit8ie"
      },
      "source": [
        "import pickle\n",
        "\n",
        "with open('/content/drive/MyDrive/video_to_text_caption/video_frames_dict.pickle', 'rb') as handle:\n",
        "    video_frames_dict = pickle.load(handle)"
      ],
      "execution_count": null,
      "outputs": []
    },
    {
      "cell_type": "code",
      "metadata": {
        "id": "IzpOr7cit8ie"
      },
      "source": [
        "captions_df['Number_of_frames'] = captions_df['Video_name'].map(video_frames_dict)"
      ],
      "execution_count": null,
      "outputs": []
    },
    {
      "cell_type": "code",
      "metadata": {
        "id": "RDiMag23t8if"
      },
      "source": [
        "# create padded caption to use as input, with <bos> token\n",
        "captions_df['input_sequence_caption'] = (captions_df['Number_of_frames']).apply(padding_part_of_caption_sequence).apply(append_bos_token) + captions_df['Description']"
      ],
      "execution_count": null,
      "outputs": []
    },
    {
      "cell_type": "code",
      "metadata": {
        "id": "wUdRfPskezMu"
      },
      "source": [
        "# for subword tokenization\n",
        "captions_df['input_sequence_caption_id'] = (captions_df['Number_of_frames']).apply(padding_part_of_caption_sequence_id).apply(append_bos_token_id) + captions_df['Description_encoded']"
      ],
      "execution_count": null,
      "outputs": []
    },
    {
      "cell_type": "code",
      "metadata": {
        "id": "TWSc-iWDt8if"
      },
      "source": [
        "def append_eos_token(sequence_list):\n",
        "    return sequence_list + ['<eos>']"
      ],
      "execution_count": null,
      "outputs": []
    },
    {
      "cell_type": "code",
      "metadata": {
        "id": "vqF1lQiOezMu"
      },
      "source": [
        "def append_eos_token_id(sequence_list):\n",
        "    return sequence_list + [2]"
      ],
      "execution_count": null,
      "outputs": []
    },
    {
      "cell_type": "code",
      "metadata": {
        "id": "vVGXD1Fit8ig"
      },
      "source": [
        "# create padded caption to use as target, with <eos> token\n",
        "captions_df['target_sequence_caption'] = ((captions_df['Number_of_frames']).apply(padding_part_of_caption_sequence) + captions_df['Description']).apply(append_eos_token)"
      ],
      "execution_count": null,
      "outputs": []
    },
    {
      "cell_type": "code",
      "metadata": {
        "id": "TQNw64JRezMu"
      },
      "source": [
        "# for subword tokenization. create padded caption to use as target, with <eos> token id\n",
        "captions_df['target_sequence_caption_id'] = ((captions_df['Number_of_frames']).apply(padding_part_of_caption_sequence_id) + captions_df['Description_encoded']).apply(append_eos_token_id)"
      ],
      "execution_count": null,
      "outputs": []
    },
    {
      "cell_type": "code",
      "metadata": {
        "id": "nVrB9O5Rt8ig",
        "outputId": "67413137-733d-43be-db78-eab2cd4971ef"
      },
      "source": [
        "type(captions_df['target_sequence_caption_id'].iloc[50])"
      ],
      "execution_count": null,
      "outputs": [
        {
          "output_type": "execute_result",
          "data": {
            "text/plain": [
              "list"
            ]
          },
          "metadata": {
            "tags": []
          },
          "execution_count": 41
        }
      ]
    },
    {
      "cell_type": "code",
      "metadata": {
        "id": "In8meDLrt8ig"
      },
      "source": [
        "# convert caption sequences from list to numpy arrays\n",
        "captions_df['input_sequence_caption'] = captions_df['input_sequence_caption'].apply(lambda x: np.array(x))\n",
        "captions_df['target_sequence_caption'] = captions_df['target_sequence_caption'].apply(lambda x: np.array(x))"
      ],
      "execution_count": null,
      "outputs": []
    },
    {
      "cell_type": "code",
      "metadata": {
        "id": "4WnDmVHjezMw"
      },
      "source": [
        "# convert caption sequences from list to numpy arrays\n",
        "captions_df['input_sequence_caption_id'] = captions_df['input_sequence_caption_id'].apply(lambda x: np.array(x))\n",
        "captions_df['target_sequence_caption_id'] = captions_df['target_sequence_caption_id'].apply(lambda x: np.array(x))"
      ],
      "execution_count": null,
      "outputs": []
    },
    {
      "cell_type": "markdown",
      "metadata": {
        "id": "CA0q6CGft8ih"
      },
      "source": [
        "## Create data loading pipeline"
      ]
    },
    {
      "cell_type": "code",
      "metadata": {
        "id": "0qZ0Tvbxt8ij",
        "colab": {
          "base_uri": "https://localhost:8080/"
        },
        "outputId": "65284eaf-9b91-4420-b1ac-5559c7d6c07c"
      },
      "source": [
        "captions_df['Video_name'].iloc[:48025]"
      ],
      "execution_count": null,
      "outputs": [
        {
          "output_type": "execute_result",
          "data": {
            "text/plain": [
              "18         mv89psg6zh4_33_46\n",
              "19         mv89psg6zh4_33_46\n",
              "20         mv89psg6zh4_33_46\n",
              "21         mv89psg6zh4_33_46\n",
              "22         mv89psg6zh4_33_46\n",
              "                ...         \n",
              "98985       4wT7zM8XgXQ_5_11\n",
              "98986       4wT7zM8XgXQ_5_11\n",
              "98987       4wT7zM8XgXQ_5_11\n",
              "98988       4wT7zM8XgXQ_5_11\n",
              "98997    pfQPRXcihkI_127_138\n",
              "Name: Video_name, Length: 48025, dtype: object"
            ]
          },
          "metadata": {
            "tags": []
          },
          "execution_count": 65
        }
      ]
    },
    {
      "cell_type": "code",
      "metadata": {
        "id": "XOkTt-e5t8ik"
      },
      "source": [
        "# training-validation split is about 80-20\n",
        "train_size = 48024"
      ],
      "execution_count": null,
      "outputs": []
    },
    {
      "cell_type": "code",
      "metadata": {
        "id": "yVhl6T1it8ik"
      },
      "source": [
        "#features = ['input_sequence_caption', 'Video_name', 'target_sequence_caption']\n",
        "\n",
        "training_dataset = (\n",
        "    tf.data.Dataset.from_tensor_slices(\n",
        "        (\n",
        "            tf.ragged.constant(captions_df['input_sequence_caption'].iloc[:train_size].values),\n",
        "            tf.ragged.constant(captions_df['target_sequence_caption'].iloc[:train_size].values),\n",
        "            tf.ragged.constant(captions_df['Video_name'].iloc[:train_size].values),\n",
        "        )\n",
        "    )\n",
        ")"
      ],
      "execution_count": null,
      "outputs": []
    },
    {
      "cell_type": "code",
      "metadata": {
        "id": "x9ASD--yezMz"
      },
      "source": [
        "# subword tokenization (inputs already converted to ids)\n",
        "training_dataset = (\n",
        "    tf.data.Dataset.from_tensor_slices(\n",
        "        (\n",
        "            tf.ragged.constant(captions_df['input_sequence_caption_id'].iloc[:train_size].values),\n",
        "            tf.ragged.constant(captions_df['target_sequence_caption_id'].iloc[:train_size].values),\n",
        "            tf.ragged.constant(captions_df['Video_name'].iloc[:train_size].values)\n",
        "        )\n",
        "    )\n",
        ")"
      ],
      "execution_count": null,
      "outputs": []
    },
    {
      "cell_type": "code",
      "metadata": {
        "id": "Wjtjwziot8ik"
      },
      "source": [
        "# word tokenization\n",
        "subsample_rate = 1\n",
        "\n",
        "validation_dataset = (\n",
        "    tf.data.Dataset.from_tensor_slices(\n",
        "        (\n",
        "            tf.ragged.constant(captions_df['input_sequence_caption'].iloc[train_size::subsample_rate].values),\n",
        "            tf.ragged.constant(captions_df['target_sequence_caption'].iloc[train_size::subsample_rate].values),\n",
        "            tf.ragged.constant(captions_df['Video_name'].iloc[train_size::subsample_rate].values),\n",
        "        )\n",
        "    )\n",
        ")"
      ],
      "execution_count": null,
      "outputs": []
    },
    {
      "cell_type": "code",
      "metadata": {
        "id": "8b3cQUbFezM0"
      },
      "source": [
        "# subword tokenization (inputs already converted to ids)\n",
        "# subsample captions to speed up the evaluation part (we still sample all the videos)\n",
        "subsample_rate = 2\n",
        "\n",
        "validation_dataset = (\n",
        "    tf.data.Dataset.from_tensor_slices(\n",
        "        (\n",
        "            tf.ragged.constant(captions_df['input_sequence_caption_id'].iloc[train_size::subsample_rate].values),\n",
        "            tf.ragged.constant(captions_df['target_sequence_caption_id'].iloc[train_size::subsample_rate].values),\n",
        "            tf.ragged.constant(captions_df['Video_name'].iloc[train_size::subsample_rate].values)\n",
        "        )\n",
        "    )\n",
        ")"
      ],
      "execution_count": null,
      "outputs": []
    },
    {
      "cell_type": "code",
      "metadata": {
        "id": "j9IuzH5St8ik",
        "outputId": "ee1c4c08-bd85-440f-badb-21a87a45eb4d"
      },
      "source": [
        "captions_df['input_sequence_caption'].map(len).describe()"
      ],
      "execution_count": null,
      "outputs": [
        {
          "output_type": "execute_result",
          "data": {
            "text/plain": [
              "count    59590.000000\n",
              "mean        19.050780\n",
              "std          6.848941\n",
              "min          7.000000\n",
              "25%         15.000000\n",
              "50%         17.000000\n",
              "75%         22.000000\n",
              "max        148.000000\n",
              "Name: input_sequence_caption, dtype: float64"
            ]
          },
          "metadata": {
            "tags": []
          },
          "execution_count": 1343
        }
      ]
    },
    {
      "cell_type": "code",
      "metadata": {
        "id": "wKnz1-J1t8im"
      },
      "source": [
        "#load video features array and pad it, return padded tensor \n",
        "def get_padded_input_cnn(video_name_tensor, caption_length_tensor):\n",
        "    stored_features_path = os.getcwd() + '/MLDS_hw2_data/video_frame_features/' + video_name_tensor.numpy().decode('ascii') + '.npy'\n",
        "    features_array = np.load(stored_features_path)\n",
        "    input_cnn_padding_length = caption_length_tensor + 1\n",
        "    input_cnn_padding_array = np.full([input_cnn_padding_length, 2560], 0)\n",
        "    input_cnn_padded_array =  np.concatenate((features_array, input_cnn_padding_array))\n",
        "    return tf.constant(input_cnn_padded_array)"
      ],
      "execution_count": null,
      "outputs": []
    },
    {
      "cell_type": "code",
      "metadata": {
        "id": "CNLw6rzqt8in",
        "outputId": "be064d65-83f5-46de-fe3a-41f745a5c630"
      },
      "source": [
        "for input_seq, target_seq, video_name, caption_length in training_dataset.take(4):\n",
        "    print(get_padded_input_cnn(video_name, caption_length))"
      ],
      "execution_count": null,
      "outputs": [
        {
          "output_type": "stream",
          "text": [
            "tf.Tensor(\n",
            "[b'<pad>' b'<pad>' b'<pad>' b'<pad>' b'<pad>' b'<pad>' b'<pad>' b'<pad>'\n",
            " b'<pad>' b'<pad>' b'<pad>' b'<pad>' b'<pad>' b'<pad>' b'<bos>' b'a'\n",
            " b'bird' b'in' b'a' b'sink' b'keeps' b'getting' b'under' b'the' b'running'\n",
            " b'water' b'from' b'a' b'faucet'], shape=(29,), dtype=string)\n",
            "tf.Tensor(\n",
            "[b'<pad>' b'<pad>' b'<pad>' b'<pad>' b'<pad>' b'<pad>' b'<pad>' b'<pad>'\n",
            " b'<pad>' b'<pad>' b'<pad>' b'<pad>' b'<pad>' b'<pad>' b'<bos>' b'a'\n",
            " b'bird' b'is' b'bathing' b'in' b'a' b'sink'], shape=(22,), dtype=string)\n",
            "tf.Tensor(\n",
            "[b'<pad>' b'<pad>' b'<pad>' b'<pad>' b'<pad>' b'<pad>' b'<pad>' b'<pad>'\n",
            " b'<pad>' b'<pad>' b'<pad>' b'<pad>' b'<pad>' b'<pad>' b'<bos>' b'a'\n",
            " b'bird' b'is' b'splashing' b'around' b'under' b'a' b'running' b'faucet'], shape=(24,), dtype=string)\n",
            "tf.Tensor(\n",
            "[b'<pad>' b'<pad>' b'<pad>' b'<pad>' b'<pad>' b'<pad>' b'<pad>' b'<pad>'\n",
            " b'<pad>' b'<pad>' b'<pad>' b'<pad>' b'<pad>' b'<pad>' b'<bos>' b'a'\n",
            " b'bird' b'is' b'bathing' b'in' b'a' b'sink'], shape=(22,), dtype=string)\n"
          ],
          "name": "stdout"
        }
      ]
    },
    {
      "cell_type": "code",
      "metadata": {
        "colab": {
          "base_uri": "https://localhost:8080/",
          "height": 36
        },
        "id": "jwG1kgB-QOnn",
        "outputId": "1fb801a7-5beb-42f3-b714-6701fb250219"
      },
      "source": [
        "os.getcwd()"
      ],
      "execution_count": null,
      "outputs": [
        {
          "output_type": "execute_result",
          "data": {
            "application/vnd.google.colaboratory.intrinsic+json": {
              "type": "string"
            },
            "text/plain": [
              "'/content'"
            ]
          },
          "metadata": {
            "tags": []
          },
          "execution_count": 75
        }
      ]
    },
    {
      "cell_type": "code",
      "metadata": {
        "id": "HzIJOhVut8io"
      },
      "source": [
        "#\n",
        "def get_padded_input_cnn_batch(input_seq_batch, target_seq_batch, video_name_batch_tensor):\n",
        "    max_length = input_seq_batch.shape[1]\n",
        "    batch_size = input_seq_batch.shape[0]\n",
        "    input_cnn_padded_batch_array = np.empty((batch_size,max_length,2560))\n",
        "    \n",
        "    for ind, video_name_tensor in enumerate(video_name_batch_tensor):\n",
        "        #get_padded_input_cnn(video_name_tensor, caption_length_tensor)\n",
        "        #stored_features_path = os.getcwd() + '/MLDS_hw2_data/video_frame_features/' + video_name_tensor.numpy().decode('ascii') + '.npy'\n",
        "        stored_features_path = os.getcwd() + '/drive/MyDrive/video_frame_features/' + video_name_tensor.numpy().decode('ascii') + '.npy'\n",
        "        features_array = np.load(stored_features_path)\n",
        "        \n",
        "        needed_padding_length = max_length - features_array.shape[0]\n",
        "        #input_cnn_padding_length = caption_length_tensor + 1\n",
        "        input_cnn_padding_array = np.full([needed_padding_length, 2560], 0)\n",
        "        input_cnn_padded_array =  np.concatenate((features_array, input_cnn_padding_array))\n",
        "        input_cnn_padded_batch_array[ind] = input_cnn_padded_array\n",
        "        \n",
        "    return tf.constant(input_cnn_padded_batch_array)"
      ],
      "execution_count": null,
      "outputs": []
    },
    {
      "cell_type": "code",
      "metadata": {
        "collapsed": true,
        "id": "DRKM6aqDt8io",
        "outputId": "4d3f580f-d1ac-4b2f-8547-97cf4eac2fe3"
      },
      "source": [
        "for input_seq, target_seq, video_name, caption_length in training_dataset.shuffle(200).map(lambda input_seq, target_seq, video_name, caption_length: [table.lookup(input_seq), table.lookup(target_seq), video_name, caption_length]).padded_batch(2).prefetch(1).take(1):\n",
        "    print(input_seq, target_seq, video_name, caption_length, get_padded_input_cnn_batch(input_seq, target_seq, video_name))"
      ],
      "execution_count": null,
      "outputs": [
        {
          "output_type": "stream",
          "text": [
            "WARNING:tensorflow:AutoGraph could not transform <function <lambda> at 0x00000000ABF02C18> and will run it as-is.\n",
            "Cause: could not parse the source code:\n",
            "\n",
            "for input_seq, target_seq, video_name, caption_length in training_dataset.shuffle(200).map(lambda input_seq, target_seq, video_name, caption_length: [table.lookup(input_seq), table.lookup(target_seq), video_name, caption_length]).padded_batch(2).prefetch(1).take(1):\n",
            "\n",
            "This error may be avoided by creating the lambda in a standalone statement.\n",
            "\n",
            "To silence this warning, decorate the function with @tf.autograph.experimental.do_not_convert\n",
            "WARNING: AutoGraph could not transform <function <lambda> at 0x00000000ABF02C18> and will run it as-is.\n",
            "Cause: could not parse the source code:\n",
            "\n",
            "for input_seq, target_seq, video_name, caption_length in training_dataset.shuffle(200).map(lambda input_seq, target_seq, video_name, caption_length: [table.lookup(input_seq), table.lookup(target_seq), video_name, caption_length]).padded_batch(2).prefetch(1).take(1):\n",
            "\n",
            "This error may be avoided by creating the lambda in a standalone statement.\n",
            "\n",
            "To silence this warning, decorate the function with @tf.autograph.experimental.do_not_convert\n",
            "tf.Tensor(\n",
            "[[  0   0   0   0   0   0   0   0   0   0   0   0   0   0   1   3  14  15\n",
            "   11  25   3   4  26   5  10   6  27]\n",
            " [  0   0   0   0   0   0   0   0   0   0   0   0   0   0   0   0   0   1\n",
            "    3 155  15 136 131 132   0   0   0]], shape=(2, 27), dtype=int64) tf.Tensor(\n",
            "[[  0   0   0   0   0   0   0   0   0   0   0   0   0   0   3  14  15  11\n",
            "   25   3   4  26   5  10   6  27   2]\n",
            " [  0   0   0   0   0   0   0   0   0   0   0   0   0   0   0   0   0   3\n",
            "  155  15 136 131 132   2   0   0   0]], shape=(2, 27), dtype=int64) tf.Tensor([b'mv89psg6zh4_33_46' b'buJ5HDCinrM_150_166'], shape=(2,), dtype=string) tf.Tensor([12  6], shape=(2,), dtype=int64) tf.Tensor(\n",
            "[[[ 0.13256498  0.17441091 -0.10838931 ... -0.15201305 -0.12519188\n",
            "   -0.1498304 ]\n",
            "  [ 0.06320699  0.10436959 -0.11781459 ... -0.15101407 -0.10338991\n",
            "   -0.16368254]\n",
            "  [ 0.09898064  0.22840029 -0.13789107 ... -0.05776195  0.01453328\n",
            "   -0.12050162]\n",
            "  ...\n",
            "  [ 0.          0.          0.         ...  0.          0.\n",
            "    0.        ]\n",
            "  [ 0.          0.          0.         ...  0.          0.\n",
            "    0.        ]\n",
            "  [ 0.          0.          0.         ...  0.          0.\n",
            "    0.        ]]\n",
            "\n",
            " [[ 0.24697623 -0.01701021 -0.13363732 ... -0.03380268 -0.21888572\n",
            "   -0.11609073]\n",
            "  [ 0.27752683  0.14847742  0.12382966 ... -0.01510289 -0.09083553\n",
            "   -0.1153229 ]\n",
            "  [ 0.33935419 -0.0028021  -0.04355992 ...  0.00604248 -0.07805955\n",
            "   -0.00138325]\n",
            "  ...\n",
            "  [ 0.          0.          0.         ...  0.          0.\n",
            "    0.        ]\n",
            "  [ 0.          0.          0.         ...  0.          0.\n",
            "    0.        ]\n",
            "  [ 0.          0.          0.         ...  0.          0.\n",
            "    0.        ]]], shape=(2, 27, 2560), dtype=float64)\n"
          ],
          "name": "stdout"
        }
      ]
    },
    {
      "cell_type": "code",
      "metadata": {
        "id": "7gXA6Aiot8io"
      },
      "source": [
        "def element_length_fn(input_seq, target_seq, video_name):\n",
        "    return tf.shape(input_seq)[0]"
      ],
      "execution_count": null,
      "outputs": []
    },
    {
      "cell_type": "code",
      "metadata": {
        "id": "8lw4jpKvt8ip"
      },
      "source": [
        "shuffle_buffer_size = train_size\n",
        "batch_size = 24"
      ],
      "execution_count": null,
      "outputs": []
    },
    {
      "cell_type": "code",
      "metadata": {
        "id": "BrpiFwJ9t8ip"
      },
      "source": [
        "# word tokenization\n",
        "training_dataset = training_dataset.shuffle(shuffle_buffer_size)\n",
        "training_dataset = training_dataset.map(lambda input_seq, target_seq, video_name: \n",
        "                                        [table.lookup(input_seq), table.lookup(target_seq), video_name])\n",
        "training_dataset = training_dataset.apply(\n",
        "        tf.data.experimental.bucket_by_sequence_length(element_length_func=element_length_fn, \n",
        "        bucket_batch_sizes = [batch_size, batch_size, batch_size, batch_size, batch_size, batch_size, batch_size], \n",
        "        bucket_boundaries=[11, 15, 19, 25, 35, 50],))\n",
        "training_dataset = training_dataset.map(lambda input_seq_batch, target_seq_batch, video_name_batch:  \n",
        "        [((tf.py_function(func=get_padded_input_cnn_batch, inp=[input_seq_batch, target_seq_batch, video_name_batch], Tout=tf.float64)), input_seq_batch), target_seq_batch])\n",
        "training_dataset = training_dataset.prefetch(1)"
      ],
      "execution_count": null,
      "outputs": []
    },
    {
      "cell_type": "code",
      "metadata": {
        "id": "pVrir8zuezM5"
      },
      "source": [
        "# subword tokenization (inputs already converted to ids)\n",
        "training_dataset = training_dataset.shuffle(shuffle_buffer_size)\n",
        "training_dataset = training_dataset.map(lambda input_seq, target_seq, video_name: \n",
        "                                        [input_seq, target_seq, video_name])\n",
        "training_dataset = training_dataset.apply(\n",
        "        tf.data.experimental.bucket_by_sequence_length(element_length_func=element_length_fn, \n",
        "        bucket_batch_sizes = [batch_size, batch_size, batch_size, batch_size, batch_size, batch_size, batch_size], \n",
        "        bucket_boundaries=[11, 15, 19, 25, 35, 50],))\n",
        "training_dataset = training_dataset.map(lambda input_seq_batch, target_seq_batch, video_name_batch:  \n",
        "        [((tf.py_function(func=get_padded_input_cnn_batch, inp=[input_seq_batch, target_seq_batch, video_name_batch], Tout=tf.float64)), input_seq_batch), target_seq_batch])\n",
        "training_dataset = training_dataset.prefetch(1)"
      ],
      "execution_count": null,
      "outputs": []
    },
    {
      "cell_type": "code",
      "metadata": {
        "id": "mjWPVYkNt8ip"
      },
      "source": [
        "# batches of elements of different sizes, all padded to the longest element in the batch. results in a lot of\n",
        "# padding\n",
        "\n",
        "# training_dataset = training_dataset.shuffle(shuffle_buffer_size)\n",
        "# training_dataset = training_dataset.map(lambda input_seq, target_seq, video_name, caption_length: \n",
        "#                                         [table.lookup(input_seq), table.lookup(target_seq), video_name])\n",
        "# training_dataset = training_dataset.padded_batch(batch_size)\n",
        "# training_dataset = training_dataset.map(lambda input_seq_batch, target_seq_batch, video_name_batch: \n",
        "#         [((tf.py_function(func=get_padded_input_cnn_batch, inp=[input_seq_batch, target_seq_batch, \n",
        "#         video_name_batch], Tout=tf.float64)), input_seq_batch), target_seq_batch])\n",
        "# training_dataset = training_dataset.prefetch(1)"
      ],
      "execution_count": null,
      "outputs": []
    },
    {
      "cell_type": "code",
      "metadata": {
        "id": "-YPrpiVmt8iq"
      },
      "source": [
        "# only batches of size 1\n",
        "\n",
        "#training_dataset = training_dataset.shuffle(shuffle_buffer_size)\n",
        "#training_dataset = training_dataset.map(lambda input_seq, target_seq, video_name, caption_length: [(tf.py_function(func=get_padded_input_cnn,\n",
        "#          inp=[video_name, caption_length], Tout=tf.float64), table.lookup(input_seq)), table.lookup(target_seq)])\n",
        "#training_dataset = training_dataset.batch(batch_size)\n",
        "#training_dataset = training_dataset.prefetch(1)"
      ],
      "execution_count": null,
      "outputs": []
    },
    {
      "cell_type": "code",
      "metadata": {
        "id": "QFJ299sSt8iq"
      },
      "source": [
        "for (input_cnn_padded_tensor, input_seq), target_seq in training_dataset.take(1):\n",
        "    print(input_cnn_padded_tensor, input_seq, target_seq)"
      ],
      "execution_count": null,
      "outputs": []
    },
    {
      "cell_type": "code",
      "metadata": {
        "id": "lQCR11pXt8ir"
      },
      "source": [
        "# shuffle_buffer_size_valid = 10000\n",
        "\n",
        "# validation_dataset = validation_dataset.shuffle(shuffle_buffer_size_valid)\n",
        "# validation_dataset = validation_dataset.map(lambda input_seq, target_seq, video_name, caption_length: [(tf.py_function(func=get_padded_input_cnn,\n",
        "#           inp=[video_name, caption_length], Tout=tf.float64), table.lookup(input_seq)), table.lookup(target_seq)])\n",
        "# validation_dataset = validation_dataset.batch(1)\n",
        "# validation_dataset = validation_dataset.prefetch(1)"
      ],
      "execution_count": null,
      "outputs": []
    },
    {
      "cell_type": "code",
      "metadata": {
        "id": "utFOTjbqezM8"
      },
      "source": [
        "#word tokenization\n",
        "\n",
        "batch_size_val = 500\n",
        "\n",
        "validation_dataset = validation_dataset.map(lambda input_seq, target_seq, video_name: \n",
        "                                        [table.lookup(input_seq), table.lookup(target_seq), video_name])\n",
        "validation_dataset = validation_dataset.apply(\n",
        "        tf.data.experimental.bucket_by_sequence_length(element_length_func=element_length_fn, \n",
        "        bucket_batch_sizes = [batch_size_val, batch_size_val, batch_size_val, batch_size_val, batch_size_val, batch_size_val, batch_size_val], \n",
        "        bucket_boundaries=[11, 15, 19, 25, 35, 50],))\n",
        "validation_dataset = validation_dataset.map(lambda input_seq_batch, target_seq_batch, video_name_batch:  \n",
        "        [((tf.py_function(func=get_padded_input_cnn_batch, inp=[input_seq_batch, target_seq_batch, video_name_batch], Tout=tf.float64)), input_seq_batch), target_seq_batch])\n",
        "validation_dataset = validation_dataset.prefetch(1)"
      ],
      "execution_count": null,
      "outputs": []
    },
    {
      "cell_type": "code",
      "metadata": {
        "id": "Tt_rqbHut8is"
      },
      "source": [
        "#subword tokenization\n",
        "\n",
        "batch_size_val = 500\n",
        "\n",
        "validation_dataset = validation_dataset.map(lambda input_seq, target_seq, video_name: \n",
        "                                        [input_seq, target_seq, video_name])\n",
        "validation_dataset = validation_dataset.apply(\n",
        "        tf.data.experimental.bucket_by_sequence_length(element_length_func=element_length_fn, \n",
        "        bucket_batch_sizes = [batch_size_val, batch_size_val, batch_size_val, batch_size_val, batch_size_val, batch_size_val, batch_size_val], \n",
        "        bucket_boundaries=[11, 15, 19, 25, 35, 50],))\n",
        "validation_dataset = validation_dataset.map(lambda input_seq_batch, target_seq_batch, video_name_batch:  \n",
        "        [((tf.py_function(func=get_padded_input_cnn_batch, inp=[input_seq_batch, target_seq_batch, video_name_batch], Tout=tf.float64)), input_seq_batch), target_seq_batch])\n",
        "validation_dataset = validation_dataset.prefetch(1)"
      ],
      "execution_count": null,
      "outputs": []
    },
    {
      "cell_type": "code",
      "metadata": {
        "collapsed": true,
        "id": "aaxN2hgrezM9"
      },
      "source": [
        "for (input_cnn_padded_tensor, input_seq), target_seq in validation_dataset.take(1):\n",
        "    print(input_cnn_padded_tensor, input_seq, target_seq)"
      ],
      "execution_count": null,
      "outputs": []
    },
    {
      "cell_type": "markdown",
      "metadata": {
        "id": "3gWNfg9Ot8is"
      },
      "source": [
        "# Create the model"
      ]
    },
    {
      "cell_type": "code",
      "metadata": {
        "id": "FfOehImwt8it"
      },
      "source": [
        "lstm_size = 1000\n",
        "cnn_embed_size = 500"
      ],
      "execution_count": null,
      "outputs": []
    },
    {
      "cell_type": "code",
      "metadata": {
        "id": "asoHY3dot8it"
      },
      "source": [
        "input_cnn = keras.layers.Input(shape=[None, 2560], dtype=tf.float64, name=\"input_cnn\")\n",
        "input_caption = keras.layers.Input(shape=[None], dtype=tf.int64, name=\"teacher_forcing\")\n",
        "\n",
        "cnn_embedding = keras.layers.TimeDistributed(keras.layers.Dense(cnn_embed_size, activation= None), name=\"cnn_embedding\")(input_cnn) #keras.layers.Embedding(2560, embed_size)\n",
        "lstm_1 = keras.layers.LSTM(lstm_size, return_sequences=True, name=\"lstm_1\")\n",
        "lstm_1_outputs= lstm_1(cnn_embedding)\n",
        "#lstm_1_state = [state_h_1, state_c_1]\n",
        "\n",
        "mask = keras.layers.Lambda(lambda inputs: K.not_equal(inputs, 0), name=\"mask\")(input_caption)\n",
        "caption_embedding = embedding_layer(input_caption)\n",
        "concat=keras.layers.concatenate([lstm_1_outputs, caption_embedding])\n",
        "lstm_2_outputs = keras.layers.LSTM(lstm_size, return_sequences=True, name=\"lstm_2\")(concat, mask = mask) #return_state= True\n",
        "\n",
        "output=keras.layers.TimeDistributed(keras.layers.Dense(vocab_size + num_oov_buckets, activation=\"softmax\"), name=\"output\")(lstm_2_outputs, mask = mask)\n",
        "model=keras.Model(inputs=[input_cnn,input_caption],outputs=[output])"
      ],
      "execution_count": null,
      "outputs": []
    },
    {
      "cell_type": "code",
      "metadata": {
        "id": "OgOqOgB5t8iw",
        "colab": {
          "base_uri": "https://localhost:8080/"
        },
        "outputId": "48cd36ac-a5c1-4296-cd7e-8093179e808a"
      },
      "source": [
        "model.summary()"
      ],
      "execution_count": null,
      "outputs": [
        {
          "output_type": "stream",
          "text": [
            "Model: \"model\"\n",
            "__________________________________________________________________________________________________\n",
            "Layer (type)                    Output Shape         Param #     Connected to                     \n",
            "==================================================================================================\n",
            "input_cnn (InputLayer)          [(None, None, 2560)] 0                                            \n",
            "__________________________________________________________________________________________________\n",
            "cnn_embedding (TimeDistributed) (None, None, 500)    1280500     input_cnn[0][0]                  \n",
            "__________________________________________________________________________________________________\n",
            "teacher_forcing (InputLayer)    [(None, None)]       0                                            \n",
            "__________________________________________________________________________________________________\n",
            "lstm_1 (LSTM)                   (None, None, 1000)   6004000     cnn_embedding[0][0]              \n",
            "__________________________________________________________________________________________________\n",
            "caption_embedding (Embedding)   (None, None, 300)    1824900     teacher_forcing[0][0]            \n",
            "__________________________________________________________________________________________________\n",
            "concatenate (Concatenate)       (None, None, 1300)   0           lstm_1[0][0]                     \n",
            "                                                                 caption_embedding[0][0]          \n",
            "__________________________________________________________________________________________________\n",
            "mask (Lambda)                   (None, None)         0           teacher_forcing[0][0]            \n",
            "__________________________________________________________________________________________________\n",
            "lstm_2 (LSTM)                   (None, None, 1000)   9204000     concatenate[0][0]                \n",
            "                                                                 mask[0][0]                       \n",
            "__________________________________________________________________________________________________\n",
            "output (TimeDistributed)        (None, None, 6083)   6089083     lstm_2[0][0]                     \n",
            "                                                                 mask[0][0]                       \n",
            "==================================================================================================\n",
            "Total params: 24,402,483\n",
            "Trainable params: 24,402,483\n",
            "Non-trainable params: 0\n",
            "__________________________________________________________________________________________________\n"
          ],
          "name": "stdout"
        }
      ]
    },
    {
      "cell_type": "code",
      "metadata": {
        "id": "osmvzeBaezM_",
        "colab": {
          "base_uri": "https://localhost:8080/",
          "height": 564
        },
        "outputId": "620ed621-e5d0-4614-af73-7b526b3e5078"
      },
      "source": [
        "tf.keras.utils.plot_model(model)"
      ],
      "execution_count": null,
      "outputs": [
        {
          "output_type": "execute_result",
          "data": {
            "image/png": "[encoded data removed]",
            "text/plain": [
              "<IPython.core.display.Image object>"
            ]
          },
          "metadata": {
            "tags": []
          },
          "execution_count": 86
        }
      ]
    },
    {
      "cell_type": "markdown",
      "metadata": {
        "id": "MaQelPXUt8it"
      },
      "source": [
        "# Train the model"
      ]
    },
    {
      "cell_type": "code",
      "metadata": {
        "id": "qh5sExeLt8it"
      },
      "source": [
        "optimizer = keras.optimizers.Adam()\n",
        "model.compile(loss=\"sparse_categorical_crossentropy\", optimizer=optimizer)"
      ],
      "execution_count": null,
      "outputs": []
    },
    {
      "cell_type": "code",
      "metadata": {
        "id": "77us5JwVt8iu"
      },
      "source": [
        "checkpoint_cb=keras.callbacks.ModelCheckpoint(\"my_keras_model.h5\",save_best_only=True)\n",
        "#early_stopping_cb=keras.callbacks.EarlyStopping(patience=10,restore_best_weights=True)"
      ],
      "execution_count": null,
      "outputs": []
    },
    {
      "cell_type": "code",
      "metadata": {
        "id": "L6cveIo0t8iu",
        "colab": {
          "base_uri": "https://localhost:8080/"
        },
        "outputId": "74d23c90-909e-4126-b7d1-14e6faaed3fa"
      },
      "source": [
        "history = model.fit(training_dataset, steps_per_epoch=train_size // batch_size,\n",
        "                    epochs=1) #validation_data=validation_dataset, callbacks = [checkpoint_cb]"
      ],
      "execution_count": null,
      "outputs": [
        {
          "output_type": "stream",
          "text": [
            "2001/2001 [==============================] - 231s 115ms/step - loss: 0.7025\n"
          ],
          "name": "stdout"
        }
      ]
    },
    {
      "cell_type": "code",
      "metadata": {
        "id": "z2hgcjChezNC",
        "colab": {
          "base_uri": "https://localhost:8080/"
        },
        "outputId": "06a5d17f-7766-4853-ac0b-21b292f4efa9"
      },
      "source": [
        "model.evaluate(validation_dataset)"
      ],
      "execution_count": null,
      "outputs": [
        {
          "output_type": "stream",
          "text": [
            "27/27 [==============================] - 21s 760ms/step - loss: 1.2533\n"
          ],
          "name": "stdout"
        },
        {
          "output_type": "execute_result",
          "data": {
            "text/plain": [
              "1.2533210515975952"
            ]
          },
          "metadata": {
            "tags": []
          },
          "execution_count": 98
        }
      ]
    },
    {
      "cell_type": "code",
      "metadata": {
        "id": "rZ0JUXTdT2BU"
      },
      "source": [
        "model.save_weights('/content/drive/MyDrive/video_to_text_caption/saved_models/3_epoch_0.70-1.25/weights')"
      ],
      "execution_count": null,
      "outputs": []
    },
    {
      "cell_type": "code",
      "metadata": {
        "id": "OVcgjVd7t8iv",
        "colab": {
          "base_uri": "https://localhost:8080/"
        },
        "outputId": "8fe66192-713d-456a-bb46-0f78d6769ffd"
      },
      "source": [
        "model.save('/content/drive/MyDrive/video_to_text_caption/saved_models/3_epoch_0.70-1.25/whole_model')"
      ],
      "execution_count": null,
      "outputs": [
        {
          "output_type": "stream",
          "text": [
            "WARNING:absl:Found untraced functions such as lstm_cell_layer_call_fn, lstm_cell_layer_call_and_return_conditional_losses, lstm_cell_1_layer_call_fn, lstm_cell_1_layer_call_and_return_conditional_losses, lstm_cell_layer_call_fn while saving (showing 5 of 10). These functions will not be directly callable after loading.\n",
            "WARNING:absl:Found untraced functions such as lstm_cell_layer_call_fn, lstm_cell_layer_call_and_return_conditional_losses, lstm_cell_1_layer_call_fn, lstm_cell_1_layer_call_and_return_conditional_losses, lstm_cell_layer_call_fn while saving (showing 5 of 10). These functions will not be directly callable after loading.\n"
          ],
          "name": "stderr"
        },
        {
          "output_type": "stream",
          "text": [
            "INFO:tensorflow:Assets written to: /content/drive/MyDrive/video_to_text_caption/saved_models/3_epoch_0.70-1.25/whole_model/assets\n"
          ],
          "name": "stdout"
        },
        {
          "output_type": "stream",
          "text": [
            "INFO:tensorflow:Assets written to: /content/drive/MyDrive/video_to_text_caption/saved_models/3_epoch_0.70-1.25/whole_model/assets\n"
          ],
          "name": "stderr"
        }
      ]
    },
    {
      "cell_type": "code",
      "metadata": {
        "id": "bF70AiR5t8iv"
      },
      "source": [
        "### bucketize batches, so that batches have inputs of similar length, so that there's less less padding"
      ],
      "execution_count": null,
      "outputs": []
    },
    {
      "cell_type": "code",
      "metadata": {
        "id": "f06w4Jbbt8iw",
        "outputId": "a2646d6c-0333-49b1-c182-e20595694c41"
      },
      "source": [
        "history.history['loss']"
      ],
      "execution_count": null,
      "outputs": [
        {
          "output_type": "execute_result",
          "data": {
            "text/plain": [
              "[1.5235053300857544]"
            ]
          },
          "metadata": {
            "tags": []
          },
          "execution_count": 1429
        }
      ]
    },
    {
      "cell_type": "markdown",
      "metadata": {
        "id": "ydnF7Sh3t8ix"
      },
      "source": [
        "# Inference"
      ]
    },
    {
      "cell_type": "code",
      "metadata": {
        "id": "5w38jAvet8ix",
        "outputId": "e042f458-34d8-4696-a24e-1b768e767611"
      },
      "source": [
        "for (input_cnn_padded_tensor, input_seq), target_seq in validation_dataset.take(1):\n",
        "    print(x)"
      ],
      "execution_count": null,
      "outputs": [
        {
          "output_type": "stream",
          "text": [
            "((<tf.Tensor: shape=(1, 34, 2560), dtype=float64, numpy=\n",
            "array([[[-0.05294585, -0.01425924, -0.06017883, ..., -0.07053109,\n",
            "          0.05845396, -0.21794927],\n",
            "        [-0.06323393, -0.04693527, -0.0912714 , ..., -0.0675286 ,\n",
            "          0.11931462, -0.14179799],\n",
            "        [-0.11997658, -0.08642358, -0.14230606, ..., -0.13929003,\n",
            "          0.1061065 , -0.18533038],\n",
            "        ...,\n",
            "        [ 0.        ,  0.        ,  0.        , ...,  0.        ,\n",
            "          0.        ,  0.        ],\n",
            "        [ 0.        ,  0.        ,  0.        , ...,  0.        ,\n",
            "          0.        ,  0.        ],\n",
            "        [ 0.        ,  0.        ,  0.        , ...,  0.        ,\n",
            "          0.        ,  0.        ]]])>, <tf.Tensor: shape=(1, 34), dtype=int64, numpy=\n",
            "array([[   0,    0,    0,    0,    0,    0,    0,    0,    0,    0,    0,\n",
            "           0,    0,    0,    0,    0,    0,    0,    0,    0,    0,    0,\n",
            "           0,    0,    1,   10, 1783, 6561,  249, 5964,   29,   10,   86,\n",
            "        1008]], dtype=int64)>), <tf.Tensor: shape=(1, 34), dtype=int64, numpy=\n",
            "array([[   0,    0,    0,    0,    0,    0,    0,    0,    0,    0,    0,\n",
            "           0,    0,    0,    0,    0,    0,    0,    0,    0,    0,    0,\n",
            "           0,    0,   10, 1783, 6561,  249, 5964,   29,   10,   86, 1008,\n",
            "           2]], dtype=int64)>)\n"
          ],
          "name": "stdout"
        }
      ]
    },
    {
      "cell_type": "code",
      "metadata": {
        "id": "j7gUdO-9t8iy",
        "outputId": "bbf5c3fb-a0ac-428c-b79d-f2da7b6963f5"
      },
      "source": [
        "captions_df[['input_sequence_caption', 'target_sequence_caption', 'Video_name', 'Description_length']].iloc[train_size+1000]"
      ],
      "execution_count": null,
      "outputs": [
        {
          "output_type": "execute_result",
          "data": {
            "text/plain": [
              "input_sequence_caption     [<pad>, <pad>, <pad>, <pad>, <pad>, <pad>, <pa...\n",
              "target_sequence_caption    [<pad>, <pad>, <pad>, <pad>, <pad>, <pad>, <pa...\n",
              "Video_name                                               b24_bb57PPk_631_637\n",
              "Description_length                                                         7\n",
              "Name: 100945, dtype: object"
            ]
          },
          "metadata": {
            "tags": []
          },
          "execution_count": 1434
        }
      ]
    },
    {
      "cell_type": "code",
      "metadata": {
        "id": "OAB0CfUit8iy",
        "outputId": "ffe81468-0fb5-4469-9c17-de87bd54b724"
      },
      "source": [
        "captions_df['input_sequence_caption'].iloc[train_size+777]"
      ],
      "execution_count": null,
      "outputs": [
        {
          "output_type": "execute_result",
          "data": {
            "text/plain": [
              "array(['<pad>', '<pad>', '<pad>', '<pad>', '<pad>', '<bos>', 'a', 'lady',\n",
              "       'is', 'pouring', 'water'], dtype='<U7')"
            ]
          },
          "metadata": {
            "tags": []
          },
          "execution_count": 1439
        }
      ]
    },
    {
      "cell_type": "code",
      "metadata": {
        "id": "sI2U4aeTt8iz",
        "outputId": "9431bc66-dd9d-4671-e698-4a8539e401de"
      },
      "source": [
        "table.lookup(tf.constant(captions_df['target_sequence_caption'].iloc[train_size+777]))"
      ],
      "execution_count": null,
      "outputs": [
        {
          "output_type": "execute_result",
          "data": {
            "text/plain": [
              "<tf.Tensor: shape=(11,), dtype=int64, numpy=array([  0,   0,   0,   0,   0,   3, 155,  15,  22,  12,   2], dtype=int64)>"
            ]
          },
          "metadata": {
            "tags": []
          },
          "execution_count": 1447
        }
      ]
    },
    {
      "cell_type": "code",
      "metadata": {
        "id": "VHBl4jgtt8iz",
        "outputId": "29260c34-3efa-4052-e700-ecbcaef22e80"
      },
      "source": [
        "captions_df['Video_name'].iloc[train_size+777]"
      ],
      "execution_count": null,
      "outputs": [
        {
          "output_type": "execute_result",
          "data": {
            "text/plain": [
              "'-rkErLY0rRc_63_67'"
            ]
          },
          "metadata": {
            "tags": []
          },
          "execution_count": 1440
        }
      ]
    },
    {
      "cell_type": "code",
      "metadata": {
        "id": "k2IqsiD2t8i0",
        "outputId": "cdf5f8e7-712c-41f1-ead3-d8d6ae049d0b"
      },
      "source": [
        "captions_df['Description_length'].iloc[train_size+777]"
      ],
      "execution_count": null,
      "outputs": [
        {
          "output_type": "execute_result",
          "data": {
            "text/plain": [
              "5"
            ]
          },
          "metadata": {
            "tags": []
          },
          "execution_count": 1441
        }
      ]
    },
    {
      "cell_type": "code",
      "metadata": {
        "id": "E7hSltNCt8i0",
        "outputId": "64128fd8-dd7c-4c8b-9d22-d5ef684a86aa"
      },
      "source": [
        "get_padded_input_cnn(tf.constant(captions_df['Video_name'].iloc[train_size+777]), tf.constant((captions_df['Description_length'].iloc[train_size+777])))"
      ],
      "execution_count": null,
      "outputs": [
        {
          "output_type": "execute_result",
          "data": {
            "text/plain": [
              "<tf.Tensor: shape=(11, 2560), dtype=float64, numpy=\n",
              "array([[-0.10467137,  0.14506666, -0.01393161, ..., -0.03531716,\n",
              "         0.03956807,  0.4601579 ],\n",
              "       [-0.06183658, -0.00417932, -0.11848748, ..., -0.02962378,\n",
              "         0.19028188,  0.15715776],\n",
              "       [-0.10926142,  0.1881438 , -0.18087409, ..., -0.10994026,\n",
              "        -0.02774874,  0.27254933],\n",
              "       ...,\n",
              "       [ 0.        ,  0.        ,  0.        , ...,  0.        ,\n",
              "         0.        ,  0.        ],\n",
              "       [ 0.        ,  0.        ,  0.        , ...,  0.        ,\n",
              "         0.        ,  0.        ],\n",
              "       [ 0.        ,  0.        ,  0.        , ...,  0.        ,\n",
              "         0.        ,  0.        ]])>"
            ]
          },
          "metadata": {
            "tags": []
          },
          "execution_count": 1444
        }
      ]
    },
    {
      "cell_type": "code",
      "metadata": {
        "id": "LgLFtexLt8i1",
        "outputId": "2b33d525-be1a-4cb2-92e4-1639d9d45b72"
      },
      "source": [
        "sample_cnn_input = get_padded_input_cnn(tf.constant(captions_df['Video_name'].iloc[train_size+777]), tf.constant((captions_df['Description_length'].iloc[train_size+777])))\n",
        "sample_cnn_input"
      ],
      "execution_count": null,
      "outputs": [
        {
          "output_type": "execute_result",
          "data": {
            "text/plain": [
              "<tf.Tensor: shape=(11, 2560), dtype=float64, numpy=\n",
              "array([[-0.10467137,  0.14506666, -0.01393161, ..., -0.03531716,\n",
              "         0.03956807,  0.4601579 ],\n",
              "       [-0.06183658, -0.00417932, -0.11848748, ..., -0.02962378,\n",
              "         0.19028188,  0.15715776],\n",
              "       [-0.10926142,  0.1881438 , -0.18087409, ..., -0.10994026,\n",
              "        -0.02774874,  0.27254933],\n",
              "       ...,\n",
              "       [ 0.        ,  0.        ,  0.        , ...,  0.        ,\n",
              "         0.        ,  0.        ],\n",
              "       [ 0.        ,  0.        ,  0.        , ...,  0.        ,\n",
              "         0.        ,  0.        ],\n",
              "       [ 0.        ,  0.        ,  0.        , ...,  0.        ,\n",
              "         0.        ,  0.        ]])>"
            ]
          },
          "metadata": {
            "tags": []
          },
          "execution_count": 1454
        }
      ]
    },
    {
      "cell_type": "code",
      "metadata": {
        "id": "hsiRusnLt8i2",
        "outputId": "f5c7bd84-4f6c-492e-dee5-2d78b8060b54"
      },
      "source": [
        "tf.expand_dims(sample_cnn_input,axis=0)"
      ],
      "execution_count": null,
      "outputs": [
        {
          "output_type": "execute_result",
          "data": {
            "text/plain": [
              "<tf.Tensor: shape=(1, 11, 2560), dtype=float64, numpy=\n",
              "array([[[-0.10467137,  0.14506666, -0.01393161, ..., -0.03531716,\n",
              "          0.03956807,  0.4601579 ],\n",
              "        [-0.06183658, -0.00417932, -0.11848748, ..., -0.02962378,\n",
              "          0.19028188,  0.15715776],\n",
              "        [-0.10926142,  0.1881438 , -0.18087409, ..., -0.10994026,\n",
              "         -0.02774874,  0.27254933],\n",
              "        ...,\n",
              "        [ 0.        ,  0.        ,  0.        , ...,  0.        ,\n",
              "          0.        ,  0.        ],\n",
              "        [ 0.        ,  0.        ,  0.        , ...,  0.        ,\n",
              "          0.        ,  0.        ],\n",
              "        [ 0.        ,  0.        ,  0.        , ...,  0.        ,\n",
              "          0.        ,  0.        ]]])>"
            ]
          },
          "metadata": {
            "tags": []
          },
          "execution_count": 1456
        }
      ]
    },
    {
      "cell_type": "code",
      "metadata": {
        "id": "R6nhU3Qft8i2",
        "outputId": "3957cc29-4aa9-48cd-e8db-d773ee8599c7"
      },
      "source": [
        "sample_seq_input = table.lookup(tf.constant(captions_df['input_sequence_caption'].iloc[train_size+777]))\n",
        "sample_seq_input"
      ],
      "execution_count": null,
      "outputs": [
        {
          "output_type": "execute_result",
          "data": {
            "text/plain": [
              "<tf.Tensor: shape=(11,), dtype=int64, numpy=array([  0,   0,   0,   0,   0,   1,   3, 155,  15,  22,  12], dtype=int64)>"
            ]
          },
          "metadata": {
            "tags": []
          },
          "execution_count": 1453
        }
      ]
    },
    {
      "cell_type": "code",
      "metadata": {
        "id": "UQQQwODlt8i2"
      },
      "source": [
        "# 1 we feed the model exprected output at previous time steps\n",
        "sample_prediction = model.predict((tf.expand_dims(sample_cnn_input,axis=0), tf.expand_dims(sample_seq_input,axis=0)))"
      ],
      "execution_count": null,
      "outputs": []
    },
    {
      "cell_type": "code",
      "metadata": {
        "id": "PauNxTTHt8i2",
        "outputId": "0952df0c-b16d-449a-f074-4f0739b98b17"
      },
      "source": [
        "sample_prediction.shape"
      ],
      "execution_count": null,
      "outputs": [
        {
          "output_type": "execute_result",
          "data": {
            "text/plain": [
              "(1, 11, 6682)"
            ]
          },
          "metadata": {
            "tags": []
          },
          "execution_count": 1461
        }
      ]
    },
    {
      "cell_type": "code",
      "metadata": {
        "id": "bsuqiXAit8i3",
        "outputId": "1ebd1dfc-fbb5-49ec-9ccc-910f7d4aa87e"
      },
      "source": [
        "np.argmax(sample_prediction, axis=2).tolist()"
      ],
      "execution_count": null,
      "outputs": [
        {
          "output_type": "execute_result",
          "data": {
            "text/plain": [
              "[[3, 3, 3, 3, 3, 3, 85, 15, 28, 3, 2]]"
            ]
          },
          "metadata": {
            "tags": []
          },
          "execution_count": 1475
        }
      ]
    },
    {
      "cell_type": "code",
      "metadata": {
        "id": "NR4QHp7Rt8i4",
        "outputId": "4c58d679-f97b-41f3-e3cd-802ed2a8d937"
      },
      "source": [
        "[id_to_word[id_] for id_ in np.argmax(sample_prediction, axis=2).tolist()[0]]"
      ],
      "execution_count": null,
      "outputs": [
        {
          "output_type": "execute_result",
          "data": {
            "text/plain": [
              "['a', 'a', 'a', 'a', 'a', 'a', 'man', 'is', 'playing', 'a', '<eos>']"
            ]
          },
          "metadata": {
            "tags": []
          },
          "execution_count": 1476
        }
      ]
    },
    {
      "cell_type": "code",
      "metadata": {
        "id": "uUeFUxYat8i5"
      },
      "source": [
        "# 2 we first feed the cnn_inputs, then <bos> token, then its own output at the previous step\n",
        "\n"
      ],
      "execution_count": null,
      "outputs": []
    },
    {
      "cell_type": "code",
      "metadata": {
        "id": "mtR0pKtjt8i5"
      },
      "source": [
        "sample_seq_input = table.lookup(tf.constant(captions_df['input_sequence_caption'].iloc[train_size+777]))\n",
        "sample_seq_input"
      ],
      "execution_count": null,
      "outputs": []
    },
    {
      "cell_type": "code",
      "metadata": {
        "id": "mm680L5Ft8i5",
        "outputId": "fd2d24b8-aed8-4498-a997-5f5a0e32e573"
      },
      "source": [
        "# add a lot of padding to the cnn input, so that there's enough padding until the model outputs <eos> token\n",
        "sample_cnn_input_unlim = get_padded_input_cnn(tf.constant(captions_df['Video_name'].iloc[train_size+777]), tf.constant(20))\n",
        "sample_cnn_input_unlim"
      ],
      "execution_count": null,
      "outputs": [
        {
          "output_type": "execute_result",
          "data": {
            "text/plain": [
              "<tf.Tensor: shape=(26, 2560), dtype=float64, numpy=\n",
              "array([[-0.10467137,  0.14506666, -0.01393161, ..., -0.03531716,\n",
              "         0.03956807,  0.4601579 ],\n",
              "       [-0.06183658, -0.00417932, -0.11848748, ..., -0.02962378,\n",
              "         0.19028188,  0.15715776],\n",
              "       [-0.10926142,  0.1881438 , -0.18087409, ..., -0.10994026,\n",
              "        -0.02774874,  0.27254933],\n",
              "       ...,\n",
              "       [ 0.        ,  0.        ,  0.        , ...,  0.        ,\n",
              "         0.        ,  0.        ],\n",
              "       [ 0.        ,  0.        ,  0.        , ...,  0.        ,\n",
              "         0.        ,  0.        ],\n",
              "       [ 0.        ,  0.        ,  0.        , ...,  0.        ,\n",
              "         0.        ,  0.        ]])>"
            ]
          },
          "metadata": {
            "tags": []
          },
          "execution_count": 1489
        }
      ]
    },
    {
      "cell_type": "code",
      "metadata": {
        "id": "4KKIP0lgt8i6",
        "outputId": "e0bbd7f0-50ad-4cc5-ae5a-6a61fccdf38a"
      },
      "source": [
        "captions_df['Number_of_frames'].iloc[train_size+777]"
      ],
      "execution_count": null,
      "outputs": [
        {
          "output_type": "execute_result",
          "data": {
            "text/plain": [
              "5"
            ]
          },
          "metadata": {
            "tags": []
          },
          "execution_count": 1479
        }
      ]
    },
    {
      "cell_type": "code",
      "metadata": {
        "id": "FG5eXIelt8i6",
        "outputId": "f93a35c4-a519-4a17-f246-e3bec3fc0fee"
      },
      "source": [
        "table.lookup(tf.constant(append_bos_token(padding_part_of_caption_sequence(captions_df['Number_of_frames'].iloc[train_size+777]))))"
      ],
      "execution_count": null,
      "outputs": [
        {
          "output_type": "execute_result",
          "data": {
            "text/plain": [
              "<tf.Tensor: shape=(6,), dtype=int64, numpy=array([0, 0, 0, 0, 0, 1], dtype=int64)>"
            ]
          },
          "metadata": {
            "tags": []
          },
          "execution_count": 1486
        }
      ]
    },
    {
      "cell_type": "code",
      "metadata": {
        "id": "jSUF5R95t8i8",
        "outputId": "6d6ec972-3070-46bd-8e4a-93de40427198"
      },
      "source": [
        "input_seq = table.lookup(tf.constant(append_bos_token(padding_part_of_caption_sequence(captions_df['Number_of_frames'].iloc[train_size+777]))))\n",
        "input_seq"
      ],
      "execution_count": null,
      "outputs": [
        {
          "output_type": "execute_result",
          "data": {
            "text/plain": [
              "<tf.Tensor: shape=(6,), dtype=int64, numpy=array([0, 0, 0, 0, 0, 1], dtype=int64)>"
            ]
          },
          "metadata": {
            "tags": []
          },
          "execution_count": 1490
        }
      ]
    },
    {
      "cell_type": "code",
      "metadata": {
        "id": "aflkKz92t8i8"
      },
      "source": [
        "one_step_prediction = model.predict((tf.expand_dims(sample_cnn_input_unlim[:6],axis=0), tf.expand_dims(input_seq,axis=0)))"
      ],
      "execution_count": null,
      "outputs": []
    },
    {
      "cell_type": "code",
      "metadata": {
        "id": "cF1T150mt8i9",
        "outputId": "7a909caa-c3fe-48bc-f810-6fd61046f23e"
      },
      "source": [
        "one_step_prediction.shape"
      ],
      "execution_count": null,
      "outputs": [
        {
          "output_type": "execute_result",
          "data": {
            "text/plain": [
              "(1, 6, 6682)"
            ]
          },
          "metadata": {
            "tags": []
          },
          "execution_count": 1496
        }
      ]
    },
    {
      "cell_type": "code",
      "metadata": {
        "id": "q0E39kGZt8i9",
        "outputId": "6f286634-8768-4c68-c9f0-4cf5d82ecb33"
      },
      "source": [
        "next_predicted_token = np.argmax(one_step_prediction, axis=2)[0][-1]\n",
        "#one_step_prediction[0][-1].argmax()\n",
        "next_predicted_token"
      ],
      "execution_count": null,
      "outputs": [
        {
          "output_type": "execute_result",
          "data": {
            "text/plain": [
              "3"
            ]
          },
          "metadata": {
            "tags": []
          },
          "execution_count": 1542
        }
      ]
    },
    {
      "cell_type": "code",
      "metadata": {
        "id": "YmAWZjzxt8i-"
      },
      "source": [
        "next_predicted_token = tf.cast(tf.constant([next_predicted_token]), tf.int32)\n",
        "next_predicted_token"
      ],
      "execution_count": null,
      "outputs": []
    },
    {
      "cell_type": "code",
      "metadata": {
        "id": "X6dCOf4Jt8i-"
      },
      "source": [
        "input_seq = tf.cast(input_seq, tf.int32)\n",
        "input_seq"
      ],
      "execution_count": null,
      "outputs": []
    },
    {
      "cell_type": "code",
      "metadata": {
        "id": "sju7h57at8i_",
        "scrolled": true
      },
      "source": [
        "input_seq_with_new = tf.concat([input_seq, next_predicted_token], axis = -1)\n",
        "input_seq_with_new"
      ],
      "execution_count": null,
      "outputs": []
    },
    {
      "cell_type": "code",
      "metadata": {
        "id": "qlKwVLnzt8i_"
      },
      "source": [
        "one_more_step_prediction = model.predict((tf.expand_dims(sample_cnn_input_unlim[:7],axis=0), tf.expand_dims(input_seq_with_new,axis=0)))"
      ],
      "execution_count": null,
      "outputs": []
    },
    {
      "cell_type": "code",
      "metadata": {
        "id": "tjhGcKW7t8jA",
        "outputId": "88ca5ad2-c8b6-4aea-a71c-137dbce79906"
      },
      "source": [
        "one_more_step_prediction.shape"
      ],
      "execution_count": null,
      "outputs": [
        {
          "output_type": "execute_result",
          "data": {
            "text/plain": [
              "(1, 7, 6682)"
            ]
          },
          "metadata": {
            "tags": []
          },
          "execution_count": 1558
        }
      ]
    },
    {
      "cell_type": "code",
      "metadata": {
        "id": "SYezlhDat8jA",
        "outputId": "9212c05e-3111-40a6-aa6a-eeddc6982bc6"
      },
      "source": [
        "np.argmax(one_more_step_prediction, axis=2)[0][-1]"
      ],
      "execution_count": null,
      "outputs": [
        {
          "output_type": "execute_result",
          "data": {
            "text/plain": [
              "85"
            ]
          },
          "metadata": {
            "tags": []
          },
          "execution_count": 1559
        }
      ]
    },
    {
      "cell_type": "code",
      "metadata": {
        "id": "CLXFWwNKt8jB",
        "outputId": "25c4cb61-ff7b-4e33-9a21-76dea69a3b5c"
      },
      "source": [
        "id_to_word[85]"
      ],
      "execution_count": null,
      "outputs": [
        {
          "output_type": "execute_result",
          "data": {
            "text/plain": [
              "'man'"
            ]
          },
          "metadata": {
            "tags": []
          },
          "execution_count": 1560
        }
      ]
    },
    {
      "cell_type": "code",
      "metadata": {
        "id": "QgamrLO5t8jB"
      },
      "source": [
        "sample_cnn_input_unlim = get_padded_input_cnn(tf.constant(captions_df['Video_name'].iloc[train_size+777]), tf.constant(20))\n",
        "sample_cnn_input_unlim"
      ],
      "execution_count": null,
      "outputs": []
    },
    {
      "cell_type": "code",
      "metadata": {
        "id": "rOUG4XS8t8jB"
      },
      "source": [
        "input_seq = table.lookup(tf.constant(append_bos_token(padding_part_of_caption_sequence(captions_df['Number_of_frames'].iloc[train_size+777]))))\n",
        "initial_input_seq_length = len(input_seq)\n",
        "END_TOKEN = 2\n",
        "\n",
        "#result = np.array([[START_TOKEN]])\n",
        "next_token = -1\n",
        "for i in range(20):\n",
        "    next_token = model.predict((tf.expand_dims(sample_cnn_input_unlim[:len(input_seq)],axis=0), tf.expand_dims(input_seq,axis=0)))[0][-1].argmax()\n",
        "    if next_token == END_TOKEN:\n",
        "        break\n",
        "    input_seq = tf.concat([tf.cast(input_seq, tf.int32), tf.cast(tf.constant([next_token]), tf.int32)], axis = -1)\n",
        "#output_seq = result[0][1:] # omit the first INPUT_TOKEN"
      ],
      "execution_count": null,
      "outputs": []
    },
    {
      "cell_type": "code",
      "metadata": {
        "id": "L_sDbRiFt8jB",
        "outputId": "cc8cb499-1db0-4543-8015-50b7ba3f13db"
      },
      "source": [
        "input_seq"
      ],
      "execution_count": null,
      "outputs": [
        {
          "output_type": "execute_result",
          "data": {
            "text/plain": [
              "<tf.Tensor: shape=(12,), dtype=int32, numpy=array([ 0,  0,  0,  0,  0,  1,  3, 85, 15, 28,  3, 86])>"
            ]
          },
          "metadata": {
            "tags": []
          },
          "execution_count": 1577
        }
      ]
    },
    {
      "cell_type": "code",
      "metadata": {
        "id": "6dvLQDXBt8jC",
        "outputId": "be3ee6cc-303d-4bcc-ac5b-891168bd42ce"
      },
      "source": [
        "[id_to_word[id_] for id_ in input_seq[initial_input_seq_length:].numpy().tolist()]"
      ],
      "execution_count": null,
      "outputs": [
        {
          "output_type": "execute_result",
          "data": {
            "text/plain": [
              "['a', 'man', 'is', 'playing', 'a', 'guitar']"
            ]
          },
          "metadata": {
            "tags": []
          },
          "execution_count": 1579
        }
      ]
    },
    {
      "cell_type": "markdown",
      "metadata": {
        "id": "NM-ZKk7j31XC"
      },
      "source": [
        "# Beam Search"
      ]
    },
    {
      "cell_type": "code",
      "metadata": {
        "id": "kn18d-Wd3_DQ"
      },
      "source": [
        "def add_to_clipboard(text):\n",
        "    command = 'echo ' + text.strip() + '| clip'\n",
        "    os.system(command)"
      ],
      "execution_count": null,
      "outputs": []
    },
    {
      "cell_type": "code",
      "metadata": {
        "id": "VZ8Ussmw36XG"
      },
      "source": [
        "increment_to_try = 5350 #increment_to_try += 30\n",
        "print(increment_to_try)\n",
        "print(captions_df['Video_name'].iloc[train_size+increment_to_try])\n",
        "add_to_clipboard(captions_df['Video_name'].iloc[train_size+increment_to_try])"
      ],
      "execution_count": null,
      "outputs": []
    },
    {
      "cell_type": "code",
      "metadata": {
        "id": "AR42EZG-4EBI"
      },
      "source": [
        "### with probabilities\n",
        "beam_width = 10\n",
        "maximum_caption_length = 10\n",
        "\n",
        "sample_cnn_input_unlim = get_padded_input_cnn(tf.constant(captions_df['Video_name'].iloc[train_size+increment_to_try]), tf.constant(maximum_caption_length))\n",
        "sample_cnn_input_unlim\n",
        "\n",
        "input_seq = table.lookup(tf.constant(append_bos_token(padding_part_of_caption_sequence(captions_df['Number_of_frames'].iloc[train_size+increment_to_try]))))\n",
        "initial_input_seq_length = len(input_seq)\n",
        "certainty_lists = [[] for _ in range(beam_width)]\n",
        "sentences = [input_seq for _ in range(beam_width)]\n",
        "sentence_probabilities = [1 for _ in range(beam_width)]\n",
        "END_TOKEN = 2\n",
        "\n",
        "\n",
        "for i in range(maximum_caption_length):\n",
        "    if i == 0:\n",
        "        prediction = model.predict((tf.expand_dims(sample_cnn_input_unlim[:len(input_seq)],axis=0), tf.expand_dims(input_seq,axis=0)))[0][-1]\n",
        "        next_tokens = prediction.argsort()[-beam_width:][::-1]\n",
        "        for j in range(beam_width):\n",
        "            sentences[j] = tf.concat([tf.cast(sentences[j], tf.int32), tf.cast(tf.constant([next_tokens[j]]), tf.int32)], axis = -1)\n",
        "            sentence_probabilities[j] = sentence_probabilities[j] * prediction[next_tokens[j]]\n",
        "            certainty_lists[j].append(prediction[next_tokens[j]])\n",
        "    if i > 0:\n",
        "        next_sentences = sentences.copy()\n",
        "        next_certainty_lists = [[] for _ in range(beam_width)]\n",
        "        next_token_probabilities = [[] for _ in range(beam_width)]\n",
        "        next_sentence_probabilities = [[] for _ in range(beam_width)]\n",
        "        for j in range(beam_width):\n",
        "            prediction = model.predict((tf.expand_dims(sample_cnn_input_unlim[:len(sentences[j])],axis=0), tf.expand_dims(sentences[j],axis=0)))[0][-1]\n",
        "            next_sentence_probabilities[j] = prediction * sentence_probabilities[j]\n",
        "            next_token_probabilities[j] = prediction\n",
        "        indices_of_most_probable_sentences = np.dstack(np.unravel_index(np.argsort(np.array(next_sentence_probabilities).ravel()), (beam_width, vocab_size + num_oov_buckets)))[0][-beam_width:][::-1]\n",
        "        for k in range(beam_width):\n",
        "            next_sentence_index = indices_of_most_probable_sentences[k][0]\n",
        "            next_token_index = indices_of_most_probable_sentences[k][1]\n",
        "            next_sentences[k] = tf.concat([tf.cast(sentences[next_sentence_index], tf.int32), tf.cast(tf.constant([next_token_index]), tf.int32)], axis = -1)\n",
        "            sentence_probabilities[k] = next_sentence_probabilities[next_sentence_index][next_token_index]\n",
        "            next_certainty_lists[k] = certainty_lists[next_sentence_index].copy()\n",
        "            next_certainty_lists[k].append(next_token_probabilities[next_sentence_index][next_token_index])\n",
        "        sentences = next_sentences\n",
        "        certainty_lists = next_certainty_lists\n",
        "    if next_token == END_TOKEN:\n",
        "        break\n"
      ],
      "execution_count": null,
      "outputs": []
    },
    {
      "cell_type": "code",
      "metadata": {
        "id": "zCkdpPmJ4FZe"
      },
      "source": [
        "for i in range(beam_width):\n",
        "    predicted_caption = [id_to_word[id_] for id_ in sentences[i][initial_input_seq_length:].numpy().tolist()]\n",
        "    print(predicted_caption)\n",
        "    for word, certainty in zip(predicted_caption, certainty_lists[i]):\n",
        "        print(word, certainty)\n",
        "    print(\"Sentence probability:\", sentence_probabilities[i])\n",
        "    print('\\n')"
      ],
      "execution_count": null,
      "outputs": []
    }
  ]
}